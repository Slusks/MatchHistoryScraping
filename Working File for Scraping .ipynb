{
 "cells": [
  {
   "cell_type": "code",
   "execution_count": 1,
   "metadata": {},
   "outputs": [],
   "source": [
    "import requests\n",
    "import re\n",
    "from requests.auth import HTTPBasicAuth\n",
    "import time\n"
   ]
  },
  {
   "cell_type": "code",
   "execution_count": 36,
   "metadata": {},
   "outputs": [
    {
     "data": {
      "text/plain": [
       "{'Date': 'Fri, 18 Dec 2020 20:07:53 GMT', 'Content-Type': 'text/html', 'Transfer-Encoding': 'chunked', 'Connection': 'keep-alive', 'Set-Cookie': '__cfduid=d9a6432c6ef4ae32097279d68c12c8caf1608322073; expires=Sun, 17-Jan-21 20:07:53 GMT; path=/; domain=.leagueoflegends.com; HttpOnly; SameSite=Lax', 'x-amz-id-2': 'EONKQZFWUVRH6ZgOXMiCHlQeGhumQZjjC/dNknBFC/1JMyylaR+ziOAgsg0tayhOKhCCdb1YvnQ=', 'x-amz-request-id': '4EFC162A1F1EE7F6', 'Cache-Control': 'max-age=3600, public', 'Last-Modified': 'Thu, 04 Jun 2020 18:59:22 GMT', 'ETag': 'W/\"8ebc1b018d5059ce2475575e0faa6956\"', 'CF-Cache-Status': 'DYNAMIC', 'cf-request-id': '0719105be30000f351a18bf000000001', 'Expect-CT': 'max-age=604800, report-uri=\"https://report-uri.cloudflare.com/cdn-cgi/beacon/expect-ct\"', 'Server': 'cloudflare', 'CF-RAY': '603b833fc9a5f351-ATL', 'Content-Encoding': 'gzip'}"
      ]
     },
     "execution_count": 36,
     "metadata": {},
     "output_type": "execute_result"
    }
   ],
   "source": [
    "r = requests.get('https://matchhistory.na.leagueoflegends.com/en/#match-details/ESPORTSTMNT01/1151506?gameHash=4bb8fc956b2c872c&tab=overview')\n",
    "r.status_code\n",
    "r.encoding = 'utf-8'\n",
    "r.headers"
   ]
  },
  {
   "cell_type": "code",
   "execution_count": 63,
   "metadata": {},
   "outputs": [],
   "source": [
    "url2 = 'https://acs.leagueoflegends.com/v1/stats/game/WMC2TMNT1/210029?gameHash=50ee0d42d77ae4d9'\n",
    "    "
   ]
  },
  {
   "cell_type": "code",
   "execution_count": 38,
   "metadata": {},
   "outputs": [],
   "source": [
    "response = requests.get(s)"
   ]
  },
  {
   "cell_type": "code",
   "execution_count": 39,
   "metadata": {},
   "outputs": [
    {
     "data": {
      "text/plain": [
       "429"
      ]
     },
     "execution_count": 39,
     "metadata": {},
     "output_type": "execute_result"
    }
   ],
   "source": [
    "response.status_code"
   ]
  },
  {
   "cell_type": "code",
   "execution_count": null,
   "metadata": {},
   "outputs": [],
   "source": [
    "with requests.Session() as s:\n",
    "    s.get('https://httpbin.org/cookies/set/sessioncookie/123456789%27)"
   ]
  },
  {
   "cell_type": "code",
   "execution_count": 85,
   "metadata": {
    "scrolled": true
   },
   "outputs": [],
   "source": [
    "#login_cred = dict(type: \"auth\", username: , password: , remember: False, language: \"en_US\")\n",
    "login_url ='https://auth.riotgames.com/login#client_id=rso-web-client-prod&login_hint=na&redirect_uri=https%3A%2F%2Flogin.leagueoflegends.com%2Foauth2-callback&response_type=code&scope=openid&state=bQ4XWVHrRzMPJYznFtQMbFav6bWcr_pKw3db7JXTULc&ui_locales=en'\n",
    "email = 'raxajog405@cctyoo.com'\n",
    "user = 'StackOverflow1218'\n",
    "pwd = 'helpme0biwankenobi'\n",
    "\n",
    "payload = {'username': user, 'password': pwd}"
   ]
  },
  {
   "cell_type": "code",
   "execution_count": 43,
   "metadata": {},
   "outputs": [
    {
     "name": "stdout",
     "output_type": "stream",
     "text": [
      "<Response [200]>\n"
     ]
    }
   ],
   "source": [
    "response = requests.get(login_url, auth = HTTPBasicAuth(user, pwd))\n",
    "print(response)\n"
   ]
  },
  {
   "cell_type": "code",
   "execution_count": 95,
   "metadata": {},
   "outputs": [
    {
     "name": "stdout",
     "output_type": "stream",
     "text": [
      "response: <Response [200]>\n",
      "<Response [429]>\n"
     ]
    }
   ],
   "source": [
    "\n",
    "with requests.Session() as session:\n",
    "    response = session.get(login_url, auth = HTTPBasicAuth(user, pwd))\n",
    "    print('response:', response)\n",
    "    url = 'https://acs.leagueoflegends.com/v1/stats/game/WMC2TMNT1/210029?gameHash=50ee0d42d77ae4d9'\n",
    "    res2 = session.get(url)\n",
    "    print(res2)\n",
    "\n",
    "    \n"
   ]
  },
  {
   "cell_type": "code",
   "execution_count": 83,
   "metadata": {},
   "outputs": [
    {
     "data": {
      "text/plain": [
       "<Response [429]>"
      ]
     },
     "execution_count": 83,
     "metadata": {},
     "output_type": "execute_result"
    }
   ],
   "source": [
    "s = requests.Session()\n",
    "post = s.post(login_url, auth = HTTPBasicAuth(user, pwd))\n",
    "\n",
    "header = {\"User-Agent\": \"Mozilla/5.0 (Windows NT 10.0; Win64; x64) AppleWebKit/537.36 (KHTML, like Gecko) Chrome/87.0.4280.88 Safari/537.36\"}\n",
    "s.get(url2, headers=header)\n",
    "\n",
    "\n"
   ]
  },
  {
   "cell_type": "code",
   "execution_count": 98,
   "metadata": {},
   "outputs": [
    {
     "name": "stdout",
     "output_type": "stream",
     "text": [
      "<Response [200]>\n",
      "{\"httpStatus\":429,\"errorCode\":\"CLIENT_RATE_LIMITED\"}\n"
     ]
    }
   ],
   "source": [
    "header = {\"User-Agent\": \"Mozilla/5.0 (Windows NT 10.0; Win64; x64) AppleWebKit/537.36 (KHTML, like Gecko) Chrome/87.0.4280.88 Safari/537.36\"}\n",
    "\n",
    "with requests.Session() as session:\n",
    "    post = session.get(login_url, data=payload, headers=header)\n",
    "    print(post)\n",
    "    time.sleep(3)\n",
    "    r = session.get(url2)\n",
    "    print(r.text)  "
   ]
  },
  {
   "cell_type": "code",
   "execution_count": 14,
   "metadata": {},
   "outputs": [
    {
     "name": "stdout",
     "output_type": "stream",
     "text": [
      "T1 Faker\n"
     ]
    }
   ],
   "source": [
    "# coding: utf-8\n",
    "#!/usr/bin/env python3\n",
    "\n",
    "\n",
    "import requests\n",
    "\n",
    "JSON_URL = \"https://acs.leagueoflegends.com/v1/stats/game/ESPORTSTMNT03/1241324?gameHash=1e646fa29cfde447\"\n",
    "\n",
    "# Starting in your browser, select the \"cookie\" content from your network request AFTER you've logged in. It should\n",
    "# look similar to the following:\n",
    "\n",
    "COOKIE = (\n",
    "    \"__cfduid=d69f6e58ffadedd8d0e149b891f7b43bf1608499659; PVPNET_LANG=en_US; ping_session_id=0b142262-2ccd-4fc6-ba6d\"\n",
    "    \"-89e2a83e14cb; PVPNET_REGION=na; PVPNET_TOKEN_NA=eyJkYXRlX3RpbWUiOjE2MDg0OTk2NTkyMjksImdhc19hY2NvdW50X2lkIjoyNjE\"\n",
    "    \"3Mjc4MDc3MTU4NzIwLCJwdnBuZXRfYWNjb3VudF9pZCI6MjYxNzI3ODA3NzE1ODcyMCwic3VtbW9uZXJfbmFtZSI6bnVsbCwidm91Y2hpbmdfa2V\"\n",
    "    \"5X2lkIjoiOTAzNDc1MmIyYjQ1NjA0NGFlODdmMjU5ODJkYWQwN2QiLCJzaWduYXR1cmUiOiJMSUdRK3BQb1JZSnpRWWNYQ1lQMW5ZeStoOVBkbk9\"\n",
    "    \"rZlZnRGhJNkpHeU0zeEpPcXVFRTdDbXpWdDNNNkk0Y3p5T1F0b1hBbjVBakRXbjRJTjFUS1BhRUlYeXYyUUhXdnpRUVZvbUtVWjNOVnBqNzViNEI\"\n",
    "    \"wVTBnUmo1ZGY3S1hPenRhRWlxWmlIU2w5NzlIbnA0Y1BraG13cUJ5THVkNjJ0K2xiZysvcllhZDg9In0%3D; PVPNET_ACCT_NA=j%3Anull; PV\"\n",
    "    \"PNET_ID_NA=2617278077158720; id_token=eyJraWQiOiJzMSIsImFsZyI6IlJTMjU2In0.eyJzdWIiOiJjZDYyY2ZjNi02ZDYzLTVkMzgtOG\"\n",
    "    \"IzNC1jMDg4MjM1MmNiZjQiLCJjb3VudHJ5IjoidXNhIiwiY291bnRyeV9hdCI6MTYwODMyNjkyNzAwMCwiYW1yIjpbInBhc3N3b3JkIl0sImlzcy\"\n",
    "    \"I6Imh0dHBzOlwvXC9hdXRoLnJpb3RnYW1lcy5jb20iLCJsb2wiOlt7ImN1aWQiOjI2MTcyNzgwNzcxNTg3MjAsImNwaWQiOiJOQTEiLCJ1aWQiOj\"\n",
    "    \"I2MTcyNzgwNzcxNTg3MjAsInVuYW1lIjoiU3RhY2tPdmVyZmxvdzEyMTgiLCJwdHJpZCI6bnVsbCwicGlkIjoiTkExIiwic3RhdGUiOiJFTkFCTE\"\n",
    "    \"VEIn1dLCJsb2NhbGUiOiJlbl9VUyIsImF1ZCI6InJzby13ZWItY2xpZW50LXByb2QiLCJhY3IiOiJ1cm46cmlvdDpicm9uemUiLCJwbGF5ZXJfbG\"\n",
    "    \"9jYWxlIjoiZW4iLCJleHAiOjE2MDg1ODYwNTgsImlhdCI6MTYwODQ5OTY1OCwiYWNjdCI6eyJnYW1lX25hbWUiOm51bGwsInRhZ19saW5lIjpudW\"\n",
    "    \"xsfSwianRpIjoiVFpsenRoRkJFdGMiLCJsb2dpbl9jb3VudHJ5IjoidXNhIn0.jXd5B-HSDeg1GJH085OO_AS5EE5HsPtgoFYe8HpFHRa0crXR5l\"\n",
    "    \"nI5VMyuCnNsuLu1GDvE9LsaD_4NlAtqX0GEND-LLrIoNvDVd6uesYFQGIeuOzgFDPPUI8lAG5TfTc2i7uL-oLKsLkszQ-AAjBw-uXjvWNKqLTXY5\"\n",
    "    \"Zrh_LLrsE; id_hint=sub%3Dcd62cfc6-6d63-5d38-8b34-c0882352cbf4%26lang%3Den%26game_name%3D%26tag_line%3D%26id%3D26\"\n",
    "    \"17278077158720%26summoner%3D%26region%3DNA1%26tag%3Dna\"\n",
    ")\n",
    "\n",
    "# Format your cookie into a dictionary form\n",
    "user_cookie = dict()\n",
    "\n",
    "for item in COOKIE.split(\"; \"):\n",
    "    k, v = item.split(\"=\")\n",
    "    user_cookie[k] = v\n",
    "\n",
    "json_file = requests.get(JSON_URL, cookies=user_cookie)\n",
    "assert json_file.status_code == 200\n",
    "\n",
    "json_content = json_file.json()\n",
    "print(json_content[\"participantIdentities\"][2]['player']['summonerName'])\n"
   ]
  },
  {
   "cell_type": "code",
   "execution_count": 1,
   "metadata": {},
   "outputs": [
    {
     "name": "stdout",
     "output_type": "stream",
     "text": [
      "GZ Falkner\n",
      "CC XoNix\n",
      "VK tockers\n",
      "AUR Bendix\n"
     ]
    }
   ],
   "source": [
    "# coding: utf-8\n",
    "#!/usr/bin/env python3\n",
    "#Super basic. I'm importing the cookie from the already logged in \n",
    "# instance of my internet browser to requests. Then that let's me scrape the data I need.\n",
    "#You should be able to use this as the basis for a script that lets you iterate over a \n",
    "# number of URLs for the json files, by replacing the get request on line 36 with a for loop.\n",
    "\n",
    "import requests\n",
    "\n",
    "JSON_URL = \"https://acs.leagueoflegends.com/v1/stats/game/ESPORTSTMNT03/1241324?gameHash=1e646fa29cfde447\"\n",
    "\n",
    "raw_urllist = [\"https://matchhistory.br.leagueoflegends.com/pt/#match-details/ESPORTSTMNT03/570139?gameHash=ba727c1db6d1cfbb&amp;tab=overview\",\n",
    "\"https://matchhistory.br.leagueoflegends.com/pt/#match-details/ESPORTSTMNT03/570139?gameHash=ba727c1db6d1cfbb&amp;tab=overview\",\n",
    "\"https://matchhistory.br.leagueoflegends.com/pt/#match-details/ESPORTSTMNT03/570139?gameHash=ba727c1db6d1cfbb&amp;tab=overview\",\n",
    "\"https://matchhistory.na.leagueoflegends.com/en/#match-details/ESPORTSTMNT05/1540037?gameHash=df189f4cefd8bfea&amp;tab=overview\",\n",
    "\"http://matchhistory.na.leagueoflegends.com/en/#match-details/ESPORTSTMNT06/1160644?gameHash=744c3e9779ad519c&amp;tab=overview,Unnamed: 31\",\n",
    "\"https://matchhistory.na.leagueoflegends.com/en/#match-details/ESPORTSTMNT02/660033?gameHash=3ae31e7697461999&amp;tab=overview,False\"]\n",
    "\n",
    "#fixes URL into the form that it needs to be for scraping\n",
    "def url_for_request_scraping(raw_url):\n",
    "    cut = raw_url.split(\"#match-details/\")[1].split(\"&amp;tab=overview,Unnamed: 31False\")[0]\n",
    "    new_url = \"https://acs.leagueoflegends.com/v1/stats/game/\"+cut\n",
    "    return (new_url)\n",
    "\n",
    "# Starting in your browser, select the \"cookie\" content from your network request AFTER you've logged in. It should\n",
    "# look similar to the following:\n",
    "\n",
    "COOKIE = (\n",
    "    \"__cfduid=d69f6e58ffadedd8d0e149b891f7b43bf1608499659; PVPNET_LANG=en_US; ping_session_id=0b142262-2ccd-4fc6-ba6d\"\n",
    "    \"-89e2a83e14cb; PVPNET_REGION=na; PVPNET_TOKEN_NA=eyJkYXRlX3RpbWUiOjE2MDg0OTk2NTkyMjksImdhc19hY2NvdW50X2lkIjoyNjE\"\n",
    "    \"3Mjc4MDc3MTU4NzIwLCJwdnBuZXRfYWNjb3VudF9pZCI6MjYxNzI3ODA3NzE1ODcyMCwic3VtbW9uZXJfbmFtZSI6bnVsbCwidm91Y2hpbmdfa2V\"\n",
    "    \"5X2lkIjoiOTAzNDc1MmIyYjQ1NjA0NGFlODdmMjU5ODJkYWQwN2QiLCJzaWduYXR1cmUiOiJMSUdRK3BQb1JZSnpRWWNYQ1lQMW5ZeStoOVBkbk9\"\n",
    "    \"rZlZnRGhJNkpHeU0zeEpPcXVFRTdDbXpWdDNNNkk0Y3p5T1F0b1hBbjVBakRXbjRJTjFUS1BhRUlYeXYyUUhXdnpRUVZvbUtVWjNOVnBqNzViNEI\"\n",
    "    \"wVTBnUmo1ZGY3S1hPenRhRWlxWmlIU2w5NzlIbnA0Y1BraG13cUJ5THVkNjJ0K2xiZysvcllhZDg9In0%3D; PVPNET_ACCT_NA=j%3Anull; PV\"\n",
    "    \"PNET_ID_NA=2617278077158720; id_token=eyJraWQiOiJzMSIsImFsZyI6IlJTMjU2In0.eyJzdWIiOiJjZDYyY2ZjNi02ZDYzLTVkMzgtOG\"\n",
    "    \"IzNC1jMDg4MjM1MmNiZjQiLCJjb3VudHJ5IjoidXNhIiwiY291bnRyeV9hdCI6MTYwODMyNjkyNzAwMCwiYW1yIjpbInBhc3N3b3JkIl0sImlzcy\"\n",
    "    \"I6Imh0dHBzOlwvXC9hdXRoLnJpb3RnYW1lcy5jb20iLCJsb2wiOlt7ImN1aWQiOjI2MTcyNzgwNzcxNTg3MjAsImNwaWQiOiJOQTEiLCJ1aWQiOj\"\n",
    "    \"I2MTcyNzgwNzcxNTg3MjAsInVuYW1lIjoiU3RhY2tPdmVyZmxvdzEyMTgiLCJwdHJpZCI6bnVsbCwicGlkIjoiTkExIiwic3RhdGUiOiJFTkFCTE\"\n",
    "    \"VEIn1dLCJsb2NhbGUiOiJlbl9VUyIsImF1ZCI6InJzby13ZWItY2xpZW50LXByb2QiLCJhY3IiOiJ1cm46cmlvdDpicm9uemUiLCJwbGF5ZXJfbG\"\n",
    "    \"9jYWxlIjoiZW4iLCJleHAiOjE2MDg1ODYwNTgsImlhdCI6MTYwODQ5OTY1OCwiYWNjdCI6eyJnYW1lX25hbWUiOm51bGwsInRhZ19saW5lIjpudW\"\n",
    "    \"xsfSwianRpIjoiVFpsenRoRkJFdGMiLCJsb2dpbl9jb3VudHJ5IjoidXNhIn0.jXd5B-HSDeg1GJH085OO_AS5EE5HsPtgoFYe8HpFHRa0crXR5l\"\n",
    "    \"nI5VMyuCnNsuLu1GDvE9LsaD_4NlAtqX0GEND-LLrIoNvDVd6uesYFQGIeuOzgFDPPUI8lAG5TfTc2i7uL-oLKsLkszQ-AAjBw-uXjvWNKqLTXY5\"\n",
    "    \"Zrh_LLrsE; id_hint=sub%3Dcd62cfc6-6d63-5d38-8b34-c0882352cbf4%26lang%3Den%26game_name%3D%26tag_line%3D%26id%3D26\"\n",
    "    \"17278077158720%26summoner%3D%26region%3DNA1%26tag%3Dna\"\n",
    ")\n",
    "\n",
    "# Format your cookie into a dictionary form\n",
    "user_cookie = dict()\n",
    "\n",
    "for item in COOKIE.split(\"; \"):\n",
    "    k, v = item.split(\"=\")\n",
    "    user_cookie[k] = v\n",
    "\n",
    "#get request that needs to be a loop\n",
    "for url in set(raw_urllist):\n",
    "    good_url = url_for_request_scraping(url)\n",
    "    json_file = requests.get(good_url, cookies=user_cookie)\n",
    "    assert json_file.status_code == 200\n",
    "    json_content = json_file.json()\n",
    "    print(json_content[\"participantIdentities\"][2]['player']['summonerName'])\n"
   ]
  },
  {
   "cell_type": "code",
   "execution_count": null,
   "metadata": {},
   "outputs": [],
   "source": []
  }
 ],
 "metadata": {
  "kernelspec": {
   "display_name": "Python 3",
   "language": "python",
   "name": "python3"
  },
  "language_info": {
   "codemirror_mode": {
    "name": "ipython",
    "version": 3
   },
   "file_extension": ".py",
   "mimetype": "text/x-python",
   "name": "python",
   "nbconvert_exporter": "python",
   "pygments_lexer": "ipython3",
   "version": "3.7.1"
  }
 },
 "nbformat": 4,
 "nbformat_minor": 4
}
