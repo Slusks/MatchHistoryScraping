{
 "cells": [
  {
   "cell_type": "code",
   "execution_count": 17,
   "metadata": {},
   "outputs": [],
   "source": [
    "import requests\n",
    "import re\n",
    "from requests.auth import HTTPBasicAuth\n",
    "import time\n",
    "import pandas\n"
   ]
  },
  {
   "cell_type": "code",
   "execution_count": 10,
   "metadata": {},
   "outputs": [
    {
     "output_type": "execute_result",
     "data": {
      "text/plain": [
       "{'Date': 'Sun, 11 Apr 2021 11:39:30 GMT', 'Content-Type': 'text/html', 'Transfer-Encoding': 'chunked', 'Connection': 'keep-alive', 'Set-Cookie': '__cfduid=dfdc061d194ec8629f4d55b382c95ebc11618141169; expires=Tue, 11-May-21 11:39:29 GMT; path=/; domain=.leagueoflegends.com; HttpOnly; SameSite=Lax', 'x-amz-id-2': '05YFuJoIqge+qn7ppcDSKgEVZncew7WowhDXqxbJFAKoYVExQplewGyt2A5ggXkzp3CDzfqkLis=', 'x-amz-request-id': '0J0ABSR3FB9C3Y3A', 'Cache-Control': 'max-age=3600, public', 'Last-Modified': 'Thu, 04 Jun 2020 18:59:22 GMT', 'ETag': 'W/\"8ebc1b018d5059ce2475575e0faa6956\"', 'CF-Cache-Status': 'DYNAMIC', 'cf-request-id': '096253e12300001813b6828000000001', 'Expect-CT': 'max-age=604800, report-uri=\"https://report-uri.cloudflare.com/cdn-cgi/beacon/expect-ct\"', 'Server': 'cloudflare', 'CF-RAY': '63e3ef4839ea1813-ATL', 'Content-Encoding': 'gzip'}"
      ]
     },
     "metadata": {},
     "execution_count": 10
    }
   ],
   "source": [
    "r = requests.get('https://matchhistory.na.leagueoflegends.com/en/#match-details/ESPORTSTMNT01/1151506?gameHash=4bb8fc956b2c872c&tab=overview')\n",
    "r.status_code\n",
    "r.encoding = 'utf-8'\n",
    "r.headers"
   ]
  },
  {
   "cell_type": "code",
   "execution_count": 11,
   "metadata": {},
   "outputs": [],
   "source": [
    "url2 = 'https://acs.leagueoflegends.com/v1/stats/game/WMC2TMNT1/210029?gameHash=50ee0d42d77ae4d9'\n",
    "    "
   ]
  },
  {
   "cell_type": "code",
   "execution_count": 12,
   "metadata": {},
   "outputs": [
    {
     "output_type": "error",
     "ename": "NameError",
     "evalue": "name 's' is not defined",
     "traceback": [
      "\u001b[1;31m---------------------------------------------------------------------------\u001b[0m",
      "\u001b[1;31mNameError\u001b[0m                                 Traceback (most recent call last)",
      "\u001b[1;32m<ipython-input-12-4ed36aec240d>\u001b[0m in \u001b[0;36m<module>\u001b[1;34m\u001b[0m\n\u001b[1;32m----> 1\u001b[1;33m \u001b[0mresponse\u001b[0m \u001b[1;33m=\u001b[0m \u001b[0mrequests\u001b[0m\u001b[1;33m.\u001b[0m\u001b[0mget\u001b[0m\u001b[1;33m(\u001b[0m\u001b[0ms\u001b[0m\u001b[1;33m)\u001b[0m\u001b[1;33m\u001b[0m\u001b[1;33m\u001b[0m\u001b[0m\n\u001b[0m",
      "\u001b[1;31mNameError\u001b[0m: name 's' is not defined"
     ]
    }
   ],
   "source": [
    "response = requests.get(s)"
   ]
  },
  {
   "cell_type": "code",
   "execution_count": 39,
   "metadata": {},
   "outputs": [
    {
     "data": {
      "text/plain": [
       "429"
      ]
     },
     "execution_count": 39,
     "metadata": {},
     "output_type": "execute_result"
    }
   ],
   "source": [
    "response.status_code"
   ]
  },
  {
   "cell_type": "code",
   "execution_count": null,
   "metadata": {},
   "outputs": [],
   "source": [
    "with requests.Session() as s:\n",
    "    s.get('https://httpbin.org/cookies/set/sessioncookie/123456789%27)"
   ]
  },
  {
   "cell_type": "code",
   "execution_count": 85,
   "metadata": {
    "scrolled": true
   },
   "outputs": [],
   "source": [
    "#login_cred = dict(type: \"auth\", username: , password: , remember: False, language: \"en_US\")\n",
    "login_url ='https://auth.riotgames.com/login#client_id=rso-web-client-prod&login_hint=na&redirect_uri=https%3A%2F%2Flogin.leagueoflegends.com%2Foauth2-callback&response_type=code&scope=openid&state=bQ4XWVHrRzMPJYznFtQMbFav6bWcr_pKw3db7JXTULc&ui_locales=en'\n",
    "email = 'raxajog405@cctyoo.com'\n",
    "user = 'StackOverflow1218'\n",
    "pwd = 'helpme0biwankenobi'\n",
    "\n",
    "payload = {'username': user, 'password': pwd}"
   ]
  },
  {
   "cell_type": "code",
   "execution_count": 43,
   "metadata": {},
   "outputs": [
    {
     "name": "stdout",
     "output_type": "stream",
     "text": [
      "<Response [200]>\n"
     ]
    }
   ],
   "source": [
    "response = requests.get(login_url, auth = HTTPBasicAuth(user, pwd))\n",
    "print(response)\n"
   ]
  },
  {
   "cell_type": "code",
   "execution_count": 95,
   "metadata": {},
   "outputs": [
    {
     "name": "stdout",
     "output_type": "stream",
     "text": [
      "response: <Response [200]>\n",
      "<Response [429]>\n"
     ]
    }
   ],
   "source": [
    "\n",
    "with requests.Session() as session:\n",
    "    response = session.get(login_url, auth = HTTPBasicAuth(user, pwd))\n",
    "    print('response:', response)\n",
    "    url = 'https://acs.leagueoflegends.com/v1/stats/game/WMC2TMNT1/210029?gameHash=50ee0d42d77ae4d9'\n",
    "    res2 = session.get(url)\n",
    "    print(res2)\n",
    "\n",
    "    \n"
   ]
  },
  {
   "cell_type": "code",
   "execution_count": 83,
   "metadata": {},
   "outputs": [
    {
     "data": {
      "text/plain": [
       "<Response [429]>"
      ]
     },
     "execution_count": 83,
     "metadata": {},
     "output_type": "execute_result"
    }
   ],
   "source": [
    "s = requests.Session()\n",
    "post = s.post(login_url, auth = HTTPBasicAuth(user, pwd))\n",
    "\n",
    "header = {\"User-Agent\": \"Mozilla/5.0 (Windows NT 10.0; Win64; x64) AppleWebKit/537.36 (KHTML, like Gecko) Chrome/87.0.4280.88 Safari/537.36\"}\n",
    "s.get(url2, headers=header)\n",
    "\n",
    "\n"
   ]
  },
  {
   "cell_type": "code",
   "execution_count": 98,
   "metadata": {},
   "outputs": [
    {
     "name": "stdout",
     "output_type": "stream",
     "text": [
      "<Response [200]>\n",
      "{\"httpStatus\":429,\"errorCode\":\"CLIENT_RATE_LIMITED\"}\n"
     ]
    }
   ],
   "source": [
    "header = {\"User-Agent\": \"Mozilla/5.0 (Windows NT 10.0; Win64; x64) AppleWebKit/537.36 (KHTML, like Gecko) Chrome/87.0.4280.88 Safari/537.36\"}\n",
    "\n",
    "with requests.Session() as session:\n",
    "    post = session.get(login_url, data=payload, headers=header)\n",
    "    print(post)\n",
    "    time.sleep(3)\n",
    "    r = session.get(url2)\n",
    "    print(r.text)  "
   ]
  },
  {
   "cell_type": "code",
   "execution_count": 16,
   "metadata": {},
   "outputs": [
    {
     "output_type": "stream",
     "name": "stdout",
     "text": [
      "T1 Faker\n"
     ]
    }
   ],
   "source": [
    "# coding: utf-8\n",
    "#!/usr/bin/env python3\n",
    "\n",
    "\n",
    "import requests\n",
    "\n",
    "JSON_URL = \"https://acs.leagueoflegends.com/v1/stats/game/ESPORTSTMNT03/1241324?gameHash=1e646fa29cfde447\"\n",
    "\n",
    "# Starting in your browser, select the \"cookie\" content from your network request AFTER you've logged in. It should\n",
    "# look similar to the following:\n",
    "\n",
    "COOKIE = (\n",
    "    \"__cfduid=d69f6e58ffadedd8d0e149b891f7b43bf1608499659; PVPNET_LANG=en_US; ping_session_id=0b142262-2ccd-4fc6-ba6d\"\n",
    "    \"-89e2a83e14cb; PVPNET_REGION=na; PVPNET_TOKEN_NA=eyJkYXRlX3RpbWUiOjE2MDg0OTk2NTkyMjksImdhc19hY2NvdW50X2lkIjoyNjE\"\n",
    "    \"3Mjc4MDc3MTU4NzIwLCJwdnBuZXRfYWNjb3VudF9pZCI6MjYxNzI3ODA3NzE1ODcyMCwic3VtbW9uZXJfbmFtZSI6bnVsbCwidm91Y2hpbmdfa2V\"\n",
    "    \"5X2lkIjoiOTAzNDc1MmIyYjQ1NjA0NGFlODdmMjU5ODJkYWQwN2QiLCJzaWduYXR1cmUiOiJMSUdRK3BQb1JZSnpRWWNYQ1lQMW5ZeStoOVBkbk9\"\n",
    "    \"rZlZnRGhJNkpHeU0zeEpPcXVFRTdDbXpWdDNNNkk0Y3p5T1F0b1hBbjVBakRXbjRJTjFUS1BhRUlYeXYyUUhXdnpRUVZvbUtVWjNOVnBqNzViNEI\"\n",
    "    \"wVTBnUmo1ZGY3S1hPenRhRWlxWmlIU2w5NzlIbnA0Y1BraG13cUJ5THVkNjJ0K2xiZysvcllhZDg9In0%3D; PVPNET_ACCT_NA=j%3Anull; PV\"\n",
    "    \"PNET_ID_NA=2617278077158720; id_token=eyJraWQiOiJzMSIsImFsZyI6IlJTMjU2In0.eyJzdWIiOiJjZDYyY2ZjNi02ZDYzLTVkMzgtOG\"\n",
    "    \"IzNC1jMDg4MjM1MmNiZjQiLCJjb3VudHJ5IjoidXNhIiwiY291bnRyeV9hdCI6MTYwODMyNjkyNzAwMCwiYW1yIjpbInBhc3N3b3JkIl0sImlzcy\"\n",
    "    \"I6Imh0dHBzOlwvXC9hdXRoLnJpb3RnYW1lcy5jb20iLCJsb2wiOlt7ImN1aWQiOjI2MTcyNzgwNzcxNTg3MjAsImNwaWQiOiJOQTEiLCJ1aWQiOj\"\n",
    "    \"I2MTcyNzgwNzcxNTg3MjAsInVuYW1lIjoiU3RhY2tPdmVyZmxvdzEyMTgiLCJwdHJpZCI6bnVsbCwicGlkIjoiTkExIiwic3RhdGUiOiJFTkFCTE\"\n",
    "    \"VEIn1dLCJsb2NhbGUiOiJlbl9VUyIsImF1ZCI6InJzby13ZWItY2xpZW50LXByb2QiLCJhY3IiOiJ1cm46cmlvdDpicm9uemUiLCJwbGF5ZXJfbG\"\n",
    "    \"9jYWxlIjoiZW4iLCJleHAiOjE2MDg1ODYwNTgsImlhdCI6MTYwODQ5OTY1OCwiYWNjdCI6eyJnYW1lX25hbWUiOm51bGwsInRhZ19saW5lIjpudW\"\n",
    "    \"xsfSwianRpIjoiVFpsenRoRkJFdGMiLCJsb2dpbl9jb3VudHJ5IjoidXNhIn0.jXd5B-HSDeg1GJH085OO_AS5EE5HsPtgoFYe8HpFHRa0crXR5l\"\n",
    "    \"nI5VMyuCnNsuLu1GDvE9LsaD_4NlAtqX0GEND-LLrIoNvDVd6uesYFQGIeuOzgFDPPUI8lAG5TfTc2i7uL-oLKsLkszQ-AAjBw-uXjvWNKqLTXY5\"\n",
    "    \"Zrh_LLrsE; id_hint=sub%3Dcd62cfc6-6d63-5d38-8b34-c0882352cbf4%26lang%3Den%26game_name%3D%26tag_line%3D%26id%3D26\"\n",
    "    \"17278077158720%26summoner%3D%26region%3DNA1%26tag%3Dna\"\n",
    ")\n",
    "\n",
    "# Format your cookie into a dictionary form\n",
    "user_cookie = dict()\n",
    "\n",
    "for item in COOKIE.split(\"; \"):\n",
    "    k, v = item.split(\"=\")\n",
    "    user_cookie[k] = v\n",
    "\n",
    "json_file = requests.get(JSON_URL, cookies=user_cookie)\n",
    "assert json_file.status_code == 200\n",
    "\n",
    "json_content = json_file.json()\n",
    "print(json_content[\"participantIdentities\"][2]['player']['summonerName'])\n"
   ]
  },
  {
   "cell_type": "code",
   "execution_count": 23,
   "metadata": {
    "tags": []
   },
   "outputs": [
    {
     "output_type": "error",
     "ename": "KeyError",
     "evalue": "0",
     "traceback": [
      "\u001b[1;31m---------------------------------------------------------------------------\u001b[0m",
      "\u001b[1;31mKeyError\u001b[0m                                  Traceback (most recent call last)",
      "\u001b[1;32m<ipython-input-23-8f053400b4dd>\u001b[0m in \u001b[0;36m<module>\u001b[1;34m\u001b[0m\n\u001b[0;32m     79\u001b[0m     \u001b[1;31m#print(json_content[\"participantIdentities\"][2]['player']['summonerName'])\u001b[0m\u001b[1;33m\u001b[0m\u001b[1;33m\u001b[0m\u001b[1;33m\u001b[0m\u001b[0m\n\u001b[0;32m     80\u001b[0m     \u001b[1;31m#print(json_content[\"participants\"][0]['championId'])\u001b[0m\u001b[1;33m\u001b[0m\u001b[1;33m\u001b[0m\u001b[1;33m\u001b[0m\u001b[0m\n\u001b[1;32m---> 81\u001b[1;33m     \u001b[0mpprint\u001b[0m\u001b[1;33m.\u001b[0m\u001b[0mpprint\u001b[0m\u001b[1;33m(\u001b[0m\u001b[0mjson_content\u001b[0m\u001b[1;33m[\u001b[0m\u001b[1;36m0\u001b[0m\u001b[1;33m]\u001b[0m\u001b[1;33m)\u001b[0m\u001b[1;33m\u001b[0m\u001b[1;33m\u001b[0m\u001b[0m\n\u001b[0m\u001b[0;32m     82\u001b[0m     \u001b[1;31m#pprint.pprint(json_content[\"participants\"][0])\u001b[0m\u001b[1;33m\u001b[0m\u001b[1;33m\u001b[0m\u001b[1;33m\u001b[0m\u001b[0m\n\u001b[0;32m     83\u001b[0m \u001b[1;33m\u001b[0m\u001b[0m\n",
      "\u001b[1;31mKeyError\u001b[0m: 0"
     ]
    }
   ],
   "source": [
    "# coding: utf-8\n",
    "#!/usr/bin/env python3\n",
    "#Super basic. I'm importing the cookie from the already logged in \n",
    "# instance of my internet browser to requests. Then that let's me scrape the data I need.\n",
    "#You should be able to use this as the basis for a script that lets you iterate over a \n",
    "# number of URLs for the json files, by replacing the get request on line 36 with a for loop.\n",
    "\n",
    "import requests\n",
    "import pprint\n",
    "import pandas as pd\n",
    "\n",
    "JSON_URL = \"https://acs.leagueoflegends.com/v1/stats/game/ESPORTSTMNT03/1241324?gameHash=1e646fa29cfde447\"\n",
    "\n",
    "raw_urllist = [\"https://matchhistory.br.leagueoflegends.com/pt/#match-details/ESPORTSTMNT03/570139?gameHash=ba727c1db6d1cfbb&amp;tab=overview\",\n",
    "\"https://matchhistory.br.leagueoflegends.com/pt/#match-details/ESPORTSTMNT03/570139?gameHash=ba727c1db6d1cfbb&amp;tab=overview\",\n",
    "\"https://matchhistory.br.leagueoflegends.com/pt/#match-details/ESPORTSTMNT03/570139?gameHash=ba727c1db6d1cfbb&amp;tab=overview\",\n",
    "\"https://matchhistory.na.leagueoflegends.com/en/#match-details/ESPORTSTMNT05/1540037?gameHash=df189f4cefd8bfea&amp;tab=overview\",\n",
    "\"http://matchhistory.na.leagueoflegends.com/en/#match-details/ESPORTSTMNT06/1160644?gameHash=744c3e9779ad519c&amp;tab=overview,Unnamed: 31\",\n",
    "\"https://matchhistory.na.leagueoflegends.com/en/#match-details/ESPORTSTMNT02/660033?gameHash=3ae31e7697461999&amp;tab=overview,False\"]\n",
    "\n",
    "single_url = \"https://matchhistory.na.leagueoflegends.com/en/#match-details/ESPORTSTMNT02/660033?gameHash=3ae31e7697461999&amp;tab=overview,False\"\n",
    "\n",
    "table_headers = [\"kills\",\"deaths\",\"assists\",\"Largest Killing Spree\",\"Largest Multi Kill\",\"First Blood\",\"Total Damage to Champions\",\"Physical Damage to Champions\",\"Magic Damage to Champions\",\"True Damage to Champions\",\"Total Damage Dealt\",\"Physical Damage Dealt\",\"Magic Damage Dealt\",\"True Damage Dealt\",\"Largest Critical Strike\",\"Total Damage to Objectives\",\"Total Damage to Turrets\",\"Damage Healed\",\"Damage Taken\",\"Physical Damage Taken\",\"Magic Damage Taken\",\"True Damage Taken\",\"Wards Placed\",\"Wards Destroyed\",\"Stealth Wards Purchased\",\"Control Wards Purchased\",\"Gold Earned\",\"Gold Spent\",\"Minions Killed\",\"Neutral Minions Killed\",\"Neutral Minions Killed in Team's Jungle\",\"Neutral Minions Killed in Enemy Jungle\",\"url\",\"champion\"]\n",
    "\n",
    "\n",
    "#fixes URL into the form that it needs to be for scraping\n",
    "def url_for_request_scraping(raw_url):\n",
    "    cut = raw_url.split(\"#match-details/\")[1].split(\"&amp;tab=overview,Unnamed: 31False\")[0]\n",
    "    new_url = \"https://acs.leagueoflegends.com/v1/stats/game/\"+cut\n",
    "    return (new_url)\n",
    "\n",
    "# Starting in your browser, select the \"cookie\" content from your network request AFTER you've logged in. It should\n",
    "# look similar to the following:\n",
    "\n",
    "COOKIE = (\n",
    "    \"__cfduid=d69f6e58ffadedd8d0e149b891f7b43bf1608499659; PVPNET_LANG=en_US; ping_session_id=0b142262-2ccd-4fc6-ba6d\"\n",
    "    \"-89e2a83e14cb; PVPNET_REGION=na; PVPNET_TOKEN_NA=eyJkYXRlX3RpbWUiOjE2MDg0OTk2NTkyMjksImdhc19hY2NvdW50X2lkIjoyNjE\"\n",
    "    \"3Mjc4MDc3MTU4NzIwLCJwdnBuZXRfYWNjb3VudF9pZCI6MjYxNzI3ODA3NzE1ODcyMCwic3VtbW9uZXJfbmFtZSI6bnVsbCwidm91Y2hpbmdfa2V\"\n",
    "    \"5X2lkIjoiOTAzNDc1MmIyYjQ1NjA0NGFlODdmMjU5ODJkYWQwN2QiLCJzaWduYXR1cmUiOiJMSUdRK3BQb1JZSnpRWWNYQ1lQMW5ZeStoOVBkbk9\"\n",
    "    \"rZlZnRGhJNkpHeU0zeEpPcXVFRTdDbXpWdDNNNkk0Y3p5T1F0b1hBbjVBakRXbjRJTjFUS1BhRUlYeXYyUUhXdnpRUVZvbUtVWjNOVnBqNzViNEI\"\n",
    "    \"wVTBnUmo1ZGY3S1hPenRhRWlxWmlIU2w5NzlIbnA0Y1BraG13cUJ5THVkNjJ0K2xiZysvcllhZDg9In0%3D; PVPNET_ACCT_NA=j%3Anull; PV\"\n",
    "    \"PNET_ID_NA=2617278077158720; id_token=eyJraWQiOiJzMSIsImFsZyI6IlJTMjU2In0.eyJzdWIiOiJjZDYyY2ZjNi02ZDYzLTVkMzgtOG\"\n",
    "    \"IzNC1jMDg4MjM1MmNiZjQiLCJjb3VudHJ5IjoidXNhIiwiY291bnRyeV9hdCI6MTYwODMyNjkyNzAwMCwiYW1yIjpbInBhc3N3b3JkIl0sImlzcy\"\n",
    "    \"I6Imh0dHBzOlwvXC9hdXRoLnJpb3RnYW1lcy5jb20iLCJsb2wiOlt7ImN1aWQiOjI2MTcyNzgwNzcxNTg3MjAsImNwaWQiOiJOQTEiLCJ1aWQiOj\"\n",
    "    \"I2MTcyNzgwNzcxNTg3MjAsInVuYW1lIjoiU3RhY2tPdmVyZmxvdzEyMTgiLCJwdHJpZCI6bnVsbCwicGlkIjoiTkExIiwic3RhdGUiOiJFTkFCTE\"\n",
    "    \"VEIn1dLCJsb2NhbGUiOiJlbl9VUyIsImF1ZCI6InJzby13ZWItY2xpZW50LXByb2QiLCJhY3IiOiJ1cm46cmlvdDpicm9uemUiLCJwbGF5ZXJfbG\"\n",
    "    \"9jYWxlIjoiZW4iLCJleHAiOjE2MDg1ODYwNTgsImlhdCI6MTYwODQ5OTY1OCwiYWNjdCI6eyJnYW1lX25hbWUiOm51bGwsInRhZ19saW5lIjpudW\"\n",
    "    \"xsfSwianRpIjoiVFpsenRoRkJFdGMiLCJsb2dpbl9jb3VudHJ5IjoidXNhIn0.jXd5B-HSDeg1GJH085OO_AS5EE5HsPtgoFYe8HpFHRa0crXR5l\"\n",
    "    \"nI5VMyuCnNsuLu1GDvE9LsaD_4NlAtqX0GEND-LLrIoNvDVd6uesYFQGIeuOzgFDPPUI8lAG5TfTc2i7uL-oLKsLkszQ-AAjBw-uXjvWNKqLTXY5\"\n",
    "    \"Zrh_LLrsE; id_hint=sub%3Dcd62cfc6-6d63-5d38-8b34-c0882352cbf4%26lang%3Den%26game_name%3D%26tag_line%3D%26id%3D26\"\n",
    "    \"17278077158720%26summoner%3D%26region%3DNA1%26tag%3Dna\"\n",
    ")\n",
    "\n",
    "# Format your cookie into a dictionary form\n",
    "user_cookie = dict()\n",
    "\n",
    "for item in COOKIE.split(\"; \"):\n",
    "    k, v = item.split(\"=\")\n",
    "    user_cookie[k] = v\n",
    "\n",
    "#this is manipulating the champion information\n",
    "champ_dd = requests.get(\"https://ddragon.leagueoflegends.com/cdn/11.8.1/data/en_US/champion.json\", cookies=user_cookie)\n",
    "champ_json = champ_dd.json()\n",
    "champ_name = champ_json[\"data\"] #this creates a list of all the champions\n",
    "champ_key_dict = {}\n",
    "for i in champ_name:\n",
    "    champ_key_dict.update({champ_json[\"data\"][i][\"key\"]:i})\n",
    "\n",
    "#pprint.pprint(champ_dd.json())\n",
    "\n",
    "#get request that needs to be a loop\n",
    "for url in set(raw_urllist):\n",
    "    good_url = url_for_request_scraping(url)\n",
    "    json_file = requests.get(good_url, cookies=user_cookie)\n",
    "    \n",
    "    assert json_file.status_code == 200\n",
    "    json_content = json_file.json()\n",
    "\n",
    "    #print(json_content[\"participantIdentities\"][2]['player']['summonerName'])\n",
    "    #print(json_content[\"participants\"][0]['championId'])\n",
    "    pprint.pprint(json_content)\n",
    "    #pprint.pprint(json_content[\"participants\"][0])\n",
    "    \n",
    "\n",
    "    \n",
    "    \n",
    "\n",
    "   "
   ]
  },
  {
   "cell_type": "code",
   "execution_count": 10,
   "metadata": {},
   "outputs": [],
   "source": [
    "table_headers = [\"kills\",\"deaths\",\"assists\",\"Largest Killing Spree\",\"Largest Multi Kill\",\"First Blood\",\"Total Damage to Champions\",\"Physical Damage to Champions\",\"Magic Damage to Champions\",\"True Damage to Champions\",\"Total Damage Dealt\",\"Physical Damage Dealt\",\"Magic Damage Dealt\",\"True Damage Dealt\",\"Largest Critical Strike\",\"Total Damage to Objectives\",\"Total Damage to Turrets\",\"Damage Healed\",\"Damage Taken\",\"Physical Damage Taken\",\"Magic Damage Taken\",\"True Damage Taken\",\"Wards Placed\",\"Wards Destroyed\",\"Stealth Wards Purchased\",\"Control Wards Purchased\",\"Gold Earned\",\"Gold Spent\",\"Minions Killed\",\"Neutral Minions Killed\",\"Neutral Minions Killed in Team's Jungle\",\"Neutral Minions Killed in Enemy Jungle\",\"url\",\"champion\"]"
   ]
  },
  {
   "cell_type": "code",
   "execution_count": 11,
   "metadata": {},
   "outputs": [
    {
     "output_type": "execute_result",
     "data": {
      "text/plain": [
       "{'266': 'Aatrox',\n",
       " '103': 'Ahri',\n",
       " '84': 'Akali',\n",
       " '12': 'Alistar',\n",
       " '32': 'Amumu',\n",
       " '34': 'Anivia',\n",
       " '1': 'Annie',\n",
       " '523': 'Aphelios',\n",
       " '22': 'Ashe',\n",
       " '136': 'AurelionSol',\n",
       " '268': 'Azir',\n",
       " '432': 'Bard',\n",
       " '53': 'Blitzcrank',\n",
       " '63': 'Brand',\n",
       " '201': 'Braum',\n",
       " '51': 'Caitlyn',\n",
       " '164': 'Camille',\n",
       " '69': 'Cassiopeia',\n",
       " '31': 'Chogath',\n",
       " '42': 'Corki',\n",
       " '122': 'Darius',\n",
       " '131': 'Diana',\n",
       " '119': 'Draven',\n",
       " '36': 'DrMundo',\n",
       " '245': 'Ekko',\n",
       " '60': 'Elise',\n",
       " '28': 'Evelynn',\n",
       " '81': 'Ezreal',\n",
       " '9': 'Fiddlesticks',\n",
       " '114': 'Fiora',\n",
       " '105': 'Fizz',\n",
       " '3': 'Galio',\n",
       " '41': 'Gangplank',\n",
       " '86': 'Garen',\n",
       " '150': 'Gnar',\n",
       " '79': 'Gragas',\n",
       " '104': 'Graves',\n",
       " '887': 'Gwen',\n",
       " '120': 'Hecarim',\n",
       " '74': 'Heimerdinger',\n",
       " '420': 'Illaoi',\n",
       " '39': 'Irelia',\n",
       " '427': 'Ivern',\n",
       " '40': 'Janna',\n",
       " '59': 'JarvanIV',\n",
       " '24': 'Jax',\n",
       " '126': 'Jayce',\n",
       " '202': 'Jhin',\n",
       " '222': 'Jinx',\n",
       " '145': 'Kaisa',\n",
       " '429': 'Kalista',\n",
       " '43': 'Karma',\n",
       " '30': 'Karthus',\n",
       " '38': 'Kassadin',\n",
       " '55': 'Katarina',\n",
       " '10': 'Kayle',\n",
       " '141': 'Kayn',\n",
       " '85': 'Kennen',\n",
       " '121': 'Khazix',\n",
       " '203': 'Kindred',\n",
       " '240': 'Kled',\n",
       " '96': 'KogMaw',\n",
       " '7': 'Leblanc',\n",
       " '64': 'LeeSin',\n",
       " '89': 'Leona',\n",
       " '876': 'Lillia',\n",
       " '127': 'Lissandra',\n",
       " '236': 'Lucian',\n",
       " '117': 'Lulu',\n",
       " '99': 'Lux',\n",
       " '54': 'Malphite',\n",
       " '90': 'Malzahar',\n",
       " '57': 'Maokai',\n",
       " '11': 'MasterYi',\n",
       " '21': 'MissFortune',\n",
       " '62': 'MonkeyKing',\n",
       " '82': 'Mordekaiser',\n",
       " '25': 'Morgana',\n",
       " '267': 'Nami',\n",
       " '75': 'Nasus',\n",
       " '111': 'Nautilus',\n",
       " '518': 'Neeko',\n",
       " '76': 'Nidalee',\n",
       " '56': 'Nocturne',\n",
       " '20': 'Nunu',\n",
       " '2': 'Olaf',\n",
       " '61': 'Orianna',\n",
       " '516': 'Ornn',\n",
       " '80': 'Pantheon',\n",
       " '78': 'Poppy',\n",
       " '555': 'Pyke',\n",
       " '246': 'Qiyana',\n",
       " '133': 'Quinn',\n",
       " '497': 'Rakan',\n",
       " '33': 'Rammus',\n",
       " '421': 'RekSai',\n",
       " '526': 'Rell',\n",
       " '58': 'Renekton',\n",
       " '107': 'Rengar',\n",
       " '92': 'Riven',\n",
       " '68': 'Rumble',\n",
       " '13': 'Ryze',\n",
       " '360': 'Samira',\n",
       " '113': 'Sejuani',\n",
       " '235': 'Senna',\n",
       " '147': 'Seraphine',\n",
       " '875': 'Sett',\n",
       " '35': 'Shaco',\n",
       " '98': 'Shen',\n",
       " '102': 'Shyvana',\n",
       " '27': 'Singed',\n",
       " '14': 'Sion',\n",
       " '15': 'Sivir',\n",
       " '72': 'Skarner',\n",
       " '37': 'Sona',\n",
       " '16': 'Soraka',\n",
       " '50': 'Swain',\n",
       " '517': 'Sylas',\n",
       " '134': 'Syndra',\n",
       " '223': 'TahmKench',\n",
       " '163': 'Taliyah',\n",
       " '91': 'Talon',\n",
       " '44': 'Taric',\n",
       " '17': 'Teemo',\n",
       " '412': 'Thresh',\n",
       " '18': 'Tristana',\n",
       " '48': 'Trundle',\n",
       " '23': 'Tryndamere',\n",
       " '4': 'TwistedFate',\n",
       " '29': 'Twitch',\n",
       " '77': 'Udyr',\n",
       " '6': 'Urgot',\n",
       " '110': 'Varus',\n",
       " '67': 'Vayne',\n",
       " '45': 'Veigar',\n",
       " '161': 'Velkoz',\n",
       " '254': 'Vi',\n",
       " '234': 'Viego',\n",
       " '112': 'Viktor',\n",
       " '8': 'Vladimir',\n",
       " '106': 'Volibear',\n",
       " '19': 'Warwick',\n",
       " '498': 'Xayah',\n",
       " '101': 'Xerath',\n",
       " '5': 'XinZhao',\n",
       " '157': 'Yasuo',\n",
       " '777': 'Yone',\n",
       " '83': 'Yorick',\n",
       " '350': 'Yuumi',\n",
       " '154': 'Zac',\n",
       " '238': 'Zed',\n",
       " '115': 'Ziggs',\n",
       " '26': 'Zilean',\n",
       " '142': 'Zoe',\n",
       " '143': 'Zyra'}"
      ]
     },
     "metadata": {},
     "execution_count": 11
    }
   ],
   "source": [
    "champ_key_dict #This is going to be the link between champions and keys"
   ]
  },
  {
   "cell_type": "code",
   "execution_count": 12,
   "metadata": {},
   "outputs": [],
   "source": [
    "table_headers\n",
    "table_headers2 = []\n",
    "for i in table_headers:\n",
    "    new_i = (i.replace(\" \",\"\").lower())\n",
    "    table_headers2.append(new_i)\n",
    "    "
   ]
  },
  {
   "cell_type": "code",
   "execution_count": 13,
   "metadata": {},
   "outputs": [
    {
     "output_type": "stream",
     "name": "stdout",
     "text": [
      "266\nAatrox\n421\nRekSai\n69\nCassiopeia\n523\nAphelios\n44\nTaric\n82\nMordekaiser\n64\nLeeSin\n61\nOrianna\n110\nVarus\n412\nThresh\n"
     ]
    }
   ],
   "source": [
    "count = 0\n",
    "while count < 10:\n",
    "    try:\n",
    "        x = str(json_content[\"participants\"][count][\"championId\"]) #champion\n",
    "        print(x)\n",
    "        print (champ_key_dict[x])\n",
    "    except:\n",
    "        pass\n",
    "    #print (json_content[\"participants\"][count][\"timeline\"][\"lane\"]) #lane\n",
    "    count = count + 1\n",
    "\n",
    "    "
   ]
  },
  {
   "cell_type": "code",
   "execution_count": 14,
   "metadata": {},
   "outputs": [
    {
     "output_type": "stream",
     "name": "stdout",
     "text": [
      "['kills', 'deaths', 'assists', 'largestkillingspree', 'largestmultikill', 'firstblood', 'totaldamagetochampions', 'physicaldamagetochampions', 'magicdamagetochampions', 'truedamagetochampions', 'totaldamagedealt', 'physicaldamagedealt', 'magicdamagedealt', 'truedamagedealt', 'largestcriticalstrike', 'totaldamagetoobjectives', 'totaldamagetoturrets', 'damagehealed', 'damagetaken', 'physicaldamagetaken', 'magicdamagetaken', 'truedamagetaken', 'wardsplaced', 'wardsdestroyed', 'stealthwardspurchased', 'controlwardspurchased', 'goldearned', 'goldspent', 'minionskilled', 'neutralminionskilled', \"neutralminionskilledinteam'sjungle\", 'neutralminionskilledinenemyjungle', 'url', 'champion']\n"
     ]
    },
    {
     "output_type": "execute_result",
     "data": {
      "text/plain": [
       "34"
      ]
     },
     "metadata": {},
     "execution_count": 14
    }
   ],
   "source": [
    "print(table_headers2)\n",
    "len(table_headers2)"
   ]
  },
  {
   "cell_type": "code",
   "execution_count": 16,
   "metadata": {},
   "outputs": [],
   "source": [
    "# format: scraped headers: oracle's elixer header\n",
    "headers_to_convert = {'firstBloodKill': 'firstblood',\n",
    "'totalDamageDealtToChampions':'totaldamagetochampions',\n",
    "'physicalDamageDealtToChampions':'physicaldamagetochampions',\n",
    "'magicDamageDealtToChampions':'magicdamagetochampions',\n",
    "'trueDamageDealtToChampions':'truedamagetochampions', \n",
    "'damageDealtToObjectives':'totaldamagetoobjectives',\n",
    "'damageDealtToTurrets':'totaldamagetoturrets',\n",
    "'totalHeal': 'damagehealed',\n",
    "'totalDamageTaken':'damagetaken', \n",
    "'magicalDamageTaken':'magicdamagetaken',\n",
    "'wardsKilled': 'wardsdestroyed', \n",
    "'sightWardsBoughtInGame':'stealthwardspurchased', \n",
    "'visionWardsBoughtInGame':  'controlwardspurchased',\n",
    "'totalMinionsKilled':  'minionskilled', \n",
    "'neutralMinionsKilledTeamJungle': \"neutralminionskilledinteam'sjungle\",\n",
    "'neutralMinionsKilledEnemyJungle':'neutralminionskilledinenemyjungle',\n",
    "}\n",
    "#Scraped headers: headers to add to table\n",
    "headers_to_add = {'killingSprees': 'killingsprees' ,\n",
    "'longestTimeSpentLiving':'longesttimespentliving',\n",
    "'damageSelfMitigated':'selfmitigateddamage',\n",
    "'visionScore':'visionscore',\n",
    "'timeCCingOthers': 'timeccingothers',\n",
    "'turretKills':'totalTurretKills',\n",
    "'inhibitorKills':'totalInhibitorKills',\n",
    "'totalTimeCrowdControlDealt':'totaltimeapplyingcc',\n",
    "'firstBloodAssist': 'firstbloodassist',\n",
    "'firstTowerKill':'firsttowerkill',\n",
    "'firstTowerAssist': 'firsttowerassist',\n",
    "'firstInhibitorKill':'firstinhibkill',\n",
    "'firstInhibitorAssist':'firstinhibassist',\n",
    "'doubleKills': 'doublekills',\n",
    "'tripleKills': 'triplekills',\n",
    "'quadraKills':'quadrakills',\n",
    "'pentaKills':'pentakills'\n",
    "}"
   ]
  },
  {
   "cell_type": "code",
   "execution_count": 15,
   "metadata": {},
   "outputs": [
    {
     "output_type": "stream",
     "name": "stdout",
     "text": [
      "kills 6\ndeaths 1\nassists 3\nlargestKillingSpree 6\nlargestMultiKill 1\ntotalDamageDealt 126500\nmagicDamageDealt 0\nphysicalDamageDealt 115785\ntrueDamageDealt 10715\nlargestCriticalStrike 0\nphysicalDamageTaken 7265\ntrueDamageTaken 1493\ngoldEarned 10206\ngoldSpent 9325\nneutralMinionsKilled 17\nwardsPlaced 8\n16\nOut table\n##########################################\nfirstblood\ntotaldamagetochampions\nphysicaldamagetochampions\nmagicdamagetochampions\ntruedamagetochampions\ntotaldamagetoobjectives\ntotaldamagetoturrets\ndamagehealed\ndamagetaken\nmagicdamagetaken\nwardsdestroyed\nstealthwardspurchased\ncontrolwardspurchased\nminionskilled\nneutralminionskilledinteam'sjungle\nneutralminionskilledinenemyjungle\nurl\nchampion\n##########################################\nparticipantId 1\nwin True\nitem0 3052\nitem1 0\nitem2 1055\nitem3 3009\nitem4 3071\nitem5 3812\nitem6 3340\nkillingSprees 1\nlongestTimeSpentLiving 1101\ndoubleKills 0\ntripleKills 0\nquadraKills 0\npentaKills 0\nunrealKills 0\ntotalDamageDealtToChampions 14588\nmagicDamageDealtToChampions 0\nphysicalDamageDealtToChampions 14588\ntrueDamageDealtToChampions 0\ntotalHeal 7947\ntotalUnitsHealed 1\ndamageSelfMitigated 10776\ndamageDealtToObjectives 7149\ndamageDealtToTurrets 3153\nvisionScore 26\ntimeCCingOthers 12\ntotalDamageTaken 14880\nmagicalDamageTaken 6121\nturretKills 1\ninhibitorKills 1\ntotalMinionsKilled 173\nneutralMinionsKilledTeamJungle 7\nneutralMinionsKilledEnemyJungle 4\ntotalTimeCrowdControlDealt 135\nchampLevel 14\nvisionWardsBoughtInGame 3\nsightWardsBoughtInGame 0\nwardsKilled 5\nfirstBloodKill True\nfirstBloodAssist False\nfirstTowerKill False\nfirstTowerAssist False\nfirstInhibitorKill False\nfirstInhibitorAssist False\ncombatPlayerScore 0\nobjectivePlayerScore 0\ntotalPlayerScore 0\ntotalScoreRank 0\nplayerScore0 0\nplayerScore1 0\nplayerScore2 0\nplayerScore3 0\nplayerScore4 0\nplayerScore5 0\nplayerScore6 0\nplayerScore7 0\nplayerScore8 0\nplayerScore9 0\nperk0 8010\nperk0Var1 436\nperk0Var2 0\nperk0Var3 0\nperk1 9111\nperk1Var1 169\nperk1Var2 180\nperk1Var3 0\nperk2 9103\nperk2Var1 0\nperk2Var2 0\nperk2Var3 0\nperk3 8014\nperk3Var1 223\nperk3Var2 0\nperk3Var3 0\nperk4 8139\nperk4Var1 722\nperk4Var2 0\nperk4Var3 0\nperk5 8135\nperk5Var1 944\nperk5Var2 5\nperk5Var3 0\nperkPrimaryStyle 8000\nperkSubStyle 8100\nstatPerk0 5008\nstatPerk1 5008\nstatPerk2 5003\n"
     ]
    }
   ],
   "source": [
    "c = json_content[\"participants\"][0][\"stats\"]\n",
    "count = 0\n",
    "in_table = []\n",
    "out_table = []\n",
    "for i in c:\n",
    "    if i.lower() in table_headers2:\n",
    "        count = count +1\n",
    "        in_table.append(i.lower())\n",
    "        print(i, c[i])\n",
    "print (count)\n",
    "print(\"Out table\")\n",
    "print(\"##########################################\")\n",
    "for i in table_headers2:\n",
    "    if i not in in_table:\n",
    "        print(i)\n",
    "count = 0\n",
    "print(\"##########################################\")\n",
    "for i in c:\n",
    "    if i.lower() not in table_headers2:\n",
    "        count = count +1\n",
    "        #in_table.append(i.lower())\n",
    "        print(i, c[i])\n"
   ]
  },
  {
   "cell_type": "code",
   "execution_count": 27,
   "metadata": {},
   "outputs": [
    {
     "output_type": "stream",
     "name": "stdout",
     "text": [
      "participantid\nwin\nitem0\nitem1\nitem2\nitem3\nitem4\nitem5\nitem6\nkills\ndeaths\nassists\nlargestkillingspree\nlargestmultikill\nkillingsprees\nlongesttimespentliving\ndoublekills\ntriplekills\nquadrakills\npentakills\nunrealkills\ntotaldamagedealt\nmagicdamagedealt\nphysicaldamagedealt\ntruedamagedealt\nlargestcriticalstrike\ntotaldamagedealttochampions\nmagicdamagedealttochampions\nphysicaldamagedealttochampions\ntruedamagedealttochampions\ntotalheal\ntotalunitshealed\ndamageselfmitigated\ndamagedealttoobjectives\ndamagedealttoturrets\nvisionscore\ntimeccingothers\ntotaldamagetaken\nmagicaldamagetaken\nphysicaldamagetaken\ntruedamagetaken\ngoldearned\ngoldspent\nturretkills\ninhibitorkills\ntotalminionskilled\nneutralminionskilled\nneutralminionskilledteamjungle\nneutralminionskilledenemyjungle\ntotaltimecrowdcontroldealt\nchamplevel\nvisionwardsboughtingame\nsightwardsboughtingame\nwardsplaced\nwardskilled\nfirstbloodkill\nfirstbloodassist\nfirsttowerkill\nfirsttowerassist\nfirstinhibitorkill\nfirstinhibitorassist\ncombatplayerscore\nobjectiveplayerscore\ntotalplayerscore\ntotalscorerank\nplayerscore0\nplayerscore1\nplayerscore2\nplayerscore3\nplayerscore4\nplayerscore5\nplayerscore6\nplayerscore7\nplayerscore8\nplayerscore9\nperk0\nperk0var1\nperk0var2\nperk0var3\nperk1\nperk1var1\nperk1var2\nperk1var3\nperk2\nperk2var1\nperk2var2\nperk2var3\nperk3\nperk3var1\nperk3var2\nperk3var3\nperk4\nperk4var1\nperk4var2\nperk4var3\nperk5\nperk5var1\nperk5var2\nperk5var3\nperkprimarystyle\nperksubstyle\n"
     ]
    }
   ],
   "source": [
    "for i in json_content[\"participants\"][0][\"stats\"]:\n",
    "    print(i.lower())"
   ]
  },
  {
   "cell_type": "code",
   "execution_count": 1,
   "metadata": {},
   "outputs": [],
   "source": []
  },
  {
   "cell_type": "code",
   "execution_count": 24,
   "metadata": {},
   "outputs": [],
   "source": [
    "l = ['killingSprees', 'longestTimeSpentLiving', 'damageSelfMitigated', 'visionScore', 'perkz1', 'perkz2']\n",
    "d = {'killingSprees': 'killingsprees', 'longestTimeSpentLiving': 'longesttimespentliving', 'damageSelfMitigated': 'selfmitigateddamage', 'visionScore': 'visionscore'}"
   ]
  },
  {
   "cell_type": "code",
   "execution_count": 34,
   "metadata": {},
   "outputs": [
    {
     "output_type": "error",
     "ename": "KeyError",
     "evalue": "'perkz1'",
     "traceback": [
      "\u001b[1;31m---------------------------------------------------------------------------\u001b[0m",
      "\u001b[1;31mKeyError\u001b[0m                                  Traceback (most recent call last)",
      "\u001b[1;32m<ipython-input-34-6cb97d0a5553>\u001b[0m in \u001b[0;36m<module>\u001b[1;34m\u001b[0m\n\u001b[1;32m----> 1\u001b[1;33m \u001b[1;33m[\u001b[0m\u001b[0mprint\u001b[0m\u001b[1;33m(\u001b[0m\u001b[0md\u001b[0m\u001b[1;33m[\u001b[0m\u001b[0mi\u001b[0m\u001b[1;33m]\u001b[0m\u001b[1;33m)\u001b[0m \u001b[1;32mfor\u001b[0m \u001b[0mi\u001b[0m \u001b[1;32min\u001b[0m \u001b[0ml\u001b[0m \u001b[1;32mif\u001b[0m \u001b[0md\u001b[0m\u001b[1;33m[\u001b[0m\u001b[0mi\u001b[0m\u001b[1;33m]\u001b[0m \u001b[1;32mis\u001b[0m \u001b[1;32mTrue\u001b[0m\u001b[1;33m]\u001b[0m\u001b[1;33m\u001b[0m\u001b[1;33m\u001b[0m\u001b[0m\n\u001b[0m",
      "\u001b[1;32m<ipython-input-34-6cb97d0a5553>\u001b[0m in \u001b[0;36m<listcomp>\u001b[1;34m(.0)\u001b[0m\n\u001b[1;32m----> 1\u001b[1;33m \u001b[1;33m[\u001b[0m\u001b[0mprint\u001b[0m\u001b[1;33m(\u001b[0m\u001b[0md\u001b[0m\u001b[1;33m[\u001b[0m\u001b[0mi\u001b[0m\u001b[1;33m]\u001b[0m\u001b[1;33m)\u001b[0m \u001b[1;32mfor\u001b[0m \u001b[0mi\u001b[0m \u001b[1;32min\u001b[0m \u001b[0ml\u001b[0m \u001b[1;32mif\u001b[0m \u001b[0md\u001b[0m\u001b[1;33m[\u001b[0m\u001b[0mi\u001b[0m\u001b[1;33m]\u001b[0m \u001b[1;32mis\u001b[0m \u001b[1;32mTrue\u001b[0m\u001b[1;33m]\u001b[0m\u001b[1;33m\u001b[0m\u001b[1;33m\u001b[0m\u001b[0m\n\u001b[0m",
      "\u001b[1;31mKeyError\u001b[0m: 'perkz1'"
     ]
    }
   ],
   "source": [
    "[print(d[i]) for i in l if d[i]]\n"
   ]
  },
  {
   "cell_type": "code",
   "execution_count": null,
   "metadata": {},
   "outputs": [],
   "source": []
  }
 ],
 "metadata": {
  "kernelspec": {
   "name": "python371jvsc74a57bd004635d289a519a1410467dd0afb0db42f9184808881ca68b2eb5a687a20a5a94",
   "display_name": "Python 3.7.1 32-bit"
  },
  "language_info": {
   "codemirror_mode": {
    "name": "ipython",
    "version": 3
   },
   "file_extension": ".py",
   "mimetype": "text/x-python",
   "name": "python",
   "nbconvert_exporter": "python",
   "pygments_lexer": "ipython3",
   "version": "3.7.1"
  }
 },
 "nbformat": 4,
 "nbformat_minor": 4
}