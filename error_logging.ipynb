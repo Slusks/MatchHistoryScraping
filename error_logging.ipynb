{
    "cells": [
        {
            "cell_type": "code",
            "execution_count": 13,
            "source": [
                "import sys\r\n",
                "import pandas\r\n",
                "import csv\r\n",
                "import logging\r\n",
                "\r\n",
                "file = r\"C:/Users/sam/Desktop/ScrapeTest/Error Log/\"\r\n",
                "\r\n",
                "#def error_log():\r\n",
                "count = 0\r\n",
                "test = [\"fyfgofdbclcnjl;fgefgoyfrgobovlvbvgfrfgf\"]\r\n",
                "tl = test[0].split()\r\n",
                "while count < 8:\r\n",
                "    try:\r\n",
                "        for i in tl:\r\n",
                "            if i == \"f\":\r\n",
                "                print (\"f\")\r\n",
                "            else:\r\n",
                "                print (i + 7)\r\n",
                "        count = count + 1\r\n",
                "    except Exception as ex:\r\n",
                "        log_file = file + str(count) + \".csv\"\r\n",
                "        error = logging.exception(count)\r\n",
                "        with open(log_file, 'w+', newline='') as f:\r\n",
                "            write = csv.writer(f)\r\n",
                "            write.writerow(error)\r\n",
                "        count = count + 1\r\n",
                "    \r\n"
            ],
            "outputs": [
                {
                    "output_type": "stream",
                    "name": "stderr",
                    "text": [
                        "ERROR:root:0\n",
                        "Traceback (most recent call last):\n",
                        "  File \"C:\\Users\\sam\\AppData\\Local\\Temp/ipykernel_17080/3876612325.py\", line 18, in <module>\n",
                        "    print (i + 7)\n",
                        "TypeError: can only concatenate str (not \"int\") to str\n"
                    ]
                },
                {
                    "output_type": "error",
                    "ename": "Error",
                    "evalue": "iterable expected, not NoneType",
                    "traceback": [
                        "\u001b[1;31m---------------------------------------------------------------------------\u001b[0m",
                        "\u001b[1;31mTypeError\u001b[0m                                 Traceback (most recent call last)",
                        "\u001b[1;32m~\\AppData\\Local\\Temp/ipykernel_17080/3876612325.py\u001b[0m in \u001b[0;36m<module>\u001b[1;34m\u001b[0m\n\u001b[0;32m     17\u001b[0m             \u001b[1;32melse\u001b[0m\u001b[1;33m:\u001b[0m\u001b[1;33m\u001b[0m\u001b[1;33m\u001b[0m\u001b[0m\n\u001b[1;32m---> 18\u001b[1;33m                 \u001b[0mprint\u001b[0m \u001b[1;33m(\u001b[0m\u001b[0mi\u001b[0m \u001b[1;33m+\u001b[0m \u001b[1;36m7\u001b[0m\u001b[1;33m)\u001b[0m\u001b[1;33m\u001b[0m\u001b[1;33m\u001b[0m\u001b[0m\n\u001b[0m\u001b[0;32m     19\u001b[0m         \u001b[0mcount\u001b[0m \u001b[1;33m=\u001b[0m \u001b[0mcount\u001b[0m \u001b[1;33m+\u001b[0m \u001b[1;36m1\u001b[0m\u001b[1;33m\u001b[0m\u001b[1;33m\u001b[0m\u001b[0m\n",
                        "\u001b[1;31mTypeError\u001b[0m: can only concatenate str (not \"int\") to str",
                        "\nDuring handling of the above exception, another exception occurred:\n",
                        "\u001b[1;31mError\u001b[0m                                     Traceback (most recent call last)",
                        "\u001b[1;32m~\\AppData\\Local\\Temp/ipykernel_17080/3876612325.py\u001b[0m in \u001b[0;36m<module>\u001b[1;34m\u001b[0m\n\u001b[0;32m     23\u001b[0m         \u001b[1;32mwith\u001b[0m \u001b[0mopen\u001b[0m\u001b[1;33m(\u001b[0m\u001b[0mlog_file\u001b[0m\u001b[1;33m,\u001b[0m \u001b[1;34m'w+'\u001b[0m\u001b[1;33m,\u001b[0m \u001b[0mnewline\u001b[0m\u001b[1;33m=\u001b[0m\u001b[1;34m''\u001b[0m\u001b[1;33m)\u001b[0m \u001b[1;32mas\u001b[0m \u001b[0mf\u001b[0m\u001b[1;33m:\u001b[0m\u001b[1;33m\u001b[0m\u001b[1;33m\u001b[0m\u001b[0m\n\u001b[0;32m     24\u001b[0m             \u001b[0mwrite\u001b[0m \u001b[1;33m=\u001b[0m \u001b[0mcsv\u001b[0m\u001b[1;33m.\u001b[0m\u001b[0mwriter\u001b[0m\u001b[1;33m(\u001b[0m\u001b[0mf\u001b[0m\u001b[1;33m)\u001b[0m\u001b[1;33m\u001b[0m\u001b[1;33m\u001b[0m\u001b[0m\n\u001b[1;32m---> 25\u001b[1;33m             \u001b[0mwrite\u001b[0m\u001b[1;33m.\u001b[0m\u001b[0mwriterow\u001b[0m\u001b[1;33m(\u001b[0m\u001b[0merror\u001b[0m\u001b[1;33m)\u001b[0m\u001b[1;33m\u001b[0m\u001b[1;33m\u001b[0m\u001b[0m\n\u001b[0m\u001b[0;32m     26\u001b[0m         \u001b[0mcount\u001b[0m \u001b[1;33m=\u001b[0m \u001b[0mcount\u001b[0m \u001b[1;33m+\u001b[0m \u001b[1;36m1\u001b[0m\u001b[1;33m\u001b[0m\u001b[1;33m\u001b[0m\u001b[0m\n\u001b[0;32m     27\u001b[0m \u001b[1;33m\u001b[0m\u001b[0m\n",
                        "\u001b[1;31mError\u001b[0m: iterable expected, not NoneType"
                    ]
                }
            ],
            "metadata": {}
        },
        {
            "cell_type": "code",
            "execution_count": null,
            "source": [],
            "outputs": [],
            "metadata": {}
        }
    ],
    "metadata": {
        "orig_nbformat": 4,
        "language_info": {
            "name": "python",
            "version": "3.8.3",
            "mimetype": "text/x-python",
            "codemirror_mode": {
                "name": "ipython",
                "version": 3
            },
            "pygments_lexer": "ipython3",
            "nbconvert_exporter": "python",
            "file_extension": ".py"
        },
        "kernelspec": {
            "name": "python3",
            "display_name": "Python 3.8.3 64-bit (system)"
        },
        "interpreter": {
            "hash": "2db524e06e9f5f4ffedc911c917cb75e12dbc923643829bf417064a77eb14d37"
        }
    },
    "nbformat": 4,
    "nbformat_minor": 2
}