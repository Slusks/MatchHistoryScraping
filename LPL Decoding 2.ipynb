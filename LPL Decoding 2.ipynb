{
    "cells": [
        {
            "cell_type": "code",
            "execution_count": 1,
            "source": [
                "import csv\r\n",
                "import json\r\n",
                "import sys\r\n",
                "import pandas as pd\r\n",
                "from pathlib import Path\r\n",
                "import requests\r\n",
                "import pprint\r\n",
                "sys.path.insert(0, 'C:/Users/sam/Desktop/ScrapeTest') \r\n",
                "from cookie_monster import COOKIE\r\n",
                "import demjson\r\n",
                "pd.set_option(\"display.max_rows\", None, \"display.max_columns\", None)\r\n",
                "\r\n",
                "user_cookie = dict()\r\n",
                "\r\n",
                "for item in COOKIE.split(\"; \"):\r\n",
                "    k, v = item.split(\"=\")\r\n",
                "    user_cookie[k] = v\r\n",
                "\r\n",
                "urllist = [\"https://lpl.qq.com/es/stats.shtml?bmid=7325\",\r\n",
                "        \"https://lpl.qq.com/es/stats.shtml?bmid=6909\"]\r\n",
                "\r\n",
                "test_url = \"https://lpl.qq.com/es/stats.shtml?bmid=6909\"\r\n",
                "\r\n",
                "#This is pulling the champion data.\r\n",
                "champ_dd = requests.get(\"https://ddragon.leagueoflegends.com/cdn/11.8.1/data/en_US/champion.json\", cookies=user_cookie)\r\n",
                "champ_json = champ_dd.json()\r\n",
                "champ_name = champ_json[\"data\"] #this creates a list of all the champions\r\n",
                "champ_key_dict = {}\r\n",
                "for i in champ_name:\r\n",
                "    champ_key_dict.update({champ_json[\"data\"][i][\"key\"]:i})\r\n",
                "#pprint.pprint(champ_dd.json())\r\n",
                "#control = {'side':'left', 'count':0, 'records':0}\r\n",
                "#json_data['bMatchId']\r\n",
                "#jd = json.loads(json_data[\"sMatchInfo\"][0]['battleInfo']['BattleData'])\r\n",
                "#jd['left']['players']\r\n",
                "\r\n",
                "def lpl_url_for_request_scraping(raw_url, test):\r\n",
                "    base_url = \"https://lpl.qq.com/web201612/data/LOL_MATCH_DETAIL_\"\r\n",
                "    js = \".js\"\r\n",
                "    match_num = raw_url[-4:]\r\n",
                "    new_url = base_url + match_num + js\r\n",
                "    if test == True:\r\n",
                "        pprint.pprint(new_url)\r\n",
                "    return (new_url)\r\n",
                "\r\n",
                "#Get the lpl json data. \r\n",
                "def lpl_get_match_data(url, test):\r\n",
                "    good_url = lpl_url_for_request_scraping(url, False)\r\n",
                "    json_file = requests.get(good_url)\r\n",
                "    json_content = json.loads(json_file.text[12:-1]) # or demjson.decode(json_file.content[12:-1])\r\n",
                "    #assert json_file.status_code == 200\r\n",
                "    if test == True:\r\n",
                "        pprint.pprint(json_content)\r\n",
                "    return(json_content)\r\n",
                "\r\n",
                "def lpl_build_dataframe(input_match_data, test):\r\n",
                "    jd = json.loads(input_match_data[\"sMatchInfo\"][0]['battleInfo']['BattleData'])\r\n",
                "    #'bMatchId' is what matches the URL\r\n",
                "    side = 'left'\r\n",
                "    count = 0\r\n",
                "    records = 0\r\n",
                "    while count < 1:\r\n",
                "        player_info = jd[side]['players'][count]\r\n",
                "        count = count + 1\r\n",
                "    return (player_info)\r\n",
                "\r\n",
                "\r\n",
                "y = lpl_get_match_data(test_url, False)\r\n",
                "z = lpl_build_dataframe(y, False)\r\n",
                "\r\n",
                "print(z)"
            ],
            "outputs": [
                {
                    "output_type": "stream",
                    "name": "stdout",
                    "text": [
                        "{'kill': '0', 'death': '0', 'assist': '2', 'gold': '10711', 'lasthit': '276', 'hero': '43', 'name': 'TES369', 'memberId': '2147', 'skill-1': '4', 'skill-2': '12', 'equip': {'game-equip-1': '6655', 'game-equip-2': '2055', 'game-equip-3': '3040', 'game-equip-4': '1082', 'game-equip-5': '6616', 'game-equip-6': '3158', 'game-equip-7': '3363'}, 'win': '0', 'totalDamage': '152963', 'totalDamageToChamp': '18444', 'pDamageToChamp': '1151', 'mDamageDealtToChamp': '17292', 'pDamageDealt': '26467', 'mDamageDealt': '122465', 'largestCriticalStrike': '0', 'totalHeal': '4249', 'totalDamageTaken': '11374', 'pDamageTaken': '5898', 'mDamageTaken': '5332', 'neutralKilled': '4', 'neutralKilledTJungle': '4', 'neutralKilledEJungle': '0', 'wardsPlaced': '13', 'wardsKilled': '10', 'visionWardsBought': '3', 'dKills': '0', 'tKills': '0', 'qKills': '0', 'pKills': '0', 'towerKills': '0', 'inhibitorKills': '0', 'deadTime': '0', 'level': '16', 'killingSprees': '0', 'largestMultiKill': '0', 'largestKillingSpree': '0', 'firstBlood': '', 'firstTower': ''}\n"
                    ]
                }
            ],
            "metadata": {}
        },
        {
            "cell_type": "code",
            "execution_count": 9,
            "source": [],
            "outputs": [
                {
                    "output_type": "stream",
                    "name": "stdout",
                    "text": [
                        "Collecting demjson\n",
                        "  Downloading demjson-2.2.4.tar.gz (131 kB)\n",
                        "Using legacy setup.py install for demjson, since package 'wheel' is not installed.\n",
                        "Installing collected packages: demjson\n",
                        "    Running setup.py install for demjson: started\n",
                        "    Running setup.py install for demjson: finished with status 'done'\n",
                        "Successfully installed demjson-2.2.4\n",
                        "Note: you may need to restart the kernel to use updated packages.\n"
                    ]
                },
                {
                    "output_type": "stream",
                    "name": "stderr",
                    "text": [
                        "WARNING: You are using pip version 20.1.1; however, version 21.1.3 is available.\n",
                        "You should consider upgrading via the 'C:\\Python38\\python.exe -m pip install --upgrade pip' command.\n"
                    ]
                }
            ],
            "metadata": {}
        },
        {
            "cell_type": "code",
            "execution_count": null,
            "source": [
                "def get_data_lpl(json_content, test):\r\n",
                "    list_list = []\r\n",
                "    jd = json.loads(json_content[\"sMatchInfo\"][0]['battleInfo']['BattleData']) #this returns a json\r\n",
                "    keys = jd.keys()\r\n",
                "    control = {'side':'left', 'count':0, 'records':0}\r\n",
                "    gameId= json_content['bMatchId']\r\n",
                "    #this subsection is to move between the 'right' and 'left' team lists because that's how this info is nested.\r\n",
                "    while control['records'] < 10: #set this to 1 to get it to run for only one player\r\n",
                "        output_list = []\r\n",
                "        if control['count'] == 5:\r\n",
                "            control['side'] = 'right'\r\n",
                "            control['count'] = 0\r\n",
                "        else: #I think the champion id -> champion modifier goes in here.\r\n",
                "            side = control['side']\r\n",
                "            count = control['count']\r\n",
                "            data = jd[side]['players'][count] #dicts\r\n",
                "        for i in a_keys:\r\n",
                "            try:\r\n",
                "                if i == 'hero': #this statement worked\r\n",
                "                    output_list.append(str(champ_key_dict[jd[side]['players'][count][i]]))\r\n",
                "                elif data[i]:\r\n",
                "                    #print('yes')\r\n",
                "                    output_list.append(data[i]) #list of all of the player info, which is currently fucking up\r\n",
                "                elif i == 'firstBlood': #have to have this statement in here because apparently if the player didn't FB they just leave the line empty and python picks it up as False\r\n",
                "                        if not data[i]:\r\n",
                "                            data[i] = '0'\r\n",
                "                            output_list.append(data[i])\r\n",
                "                        else:\r\n",
                "                            data[i] = '1'\r\n",
                "                            output_list.append(data[i])\r\n",
                "                elif i == 'game-id':\r\n",
                "                    output_list.append(gameId)\r\n",
                "                elif i == 'side':\r\n",
                "                    output_list.append(control['side'])\r\n",
                "                else:\r\n",
                "                    print (i, 'not in lpl headers')\r\n",
                "            except Exception as e: # probably dont need this full line because I'm doing something with the exception\r\n",
                "                if i in b_keys:\r\n",
                "                    print (i, \"in non-lpl headers\")\r\n",
                "                    pass\r\n",
                "                elif i == 'game-id' or 'side':\r\n",
                "                    continue\r\n",
                "                else:\r\n",
                "                    print (\"exception\", i)\r\n",
                "        list_list.append(output_list)\r\n",
                "        control['count'] = control['count'] + 1\r\n",
                "        control['records'] = control['records'] + 1\r\n",
                "        print('done')\r\n",
                "    if test == True:\r\n",
                "        pprint.pprint(list_list)\r\n",
                "    return(list_list)"
            ],
            "outputs": [],
            "metadata": {}
        }
    ],
    "metadata": {
        "orig_nbformat": 4,
        "language_info": {
            "name": "python",
            "version": "3.8.3",
            "mimetype": "text/x-python",
            "codemirror_mode": {
                "name": "ipython",
                "version": 3
            },
            "pygments_lexer": "ipython3",
            "nbconvert_exporter": "python",
            "file_extension": ".py"
        },
        "kernelspec": {
            "name": "python3",
            "display_name": "Python 3.8.3 64-bit"
        },
        "interpreter": {
            "hash": "2db524e06e9f5f4ffedc911c917cb75e12dbc923643829bf417064a77eb14d37"
        }
    },
    "nbformat": 4,
    "nbformat_minor": 2
}