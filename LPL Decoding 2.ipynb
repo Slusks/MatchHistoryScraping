{
    "cells": [
        {
            "cell_type": "code",
            "execution_count": 14,
            "source": [
                "import csv\r\n",
                "import json\r\n",
                "import sys\r\n",
                "import pandas as pd\r\n",
                "pd.set_option(\"display.max_rows\", None, \"display.max_columns\", None)\r\n",
                "from pathlib import Path\r\n",
                "import requests\r\n",
                "import pprint\r\n",
                "sys.path.insert(0, 'C:/Users/sam/Desktop/ScrapeTest') \r\n",
                "from cookie_monster import COOKIE\r\n",
                "import demjson\r\n",
                "\r\n",
                "user_cookie = dict()\r\n",
                "\r\n",
                "for item in COOKIE.split(\"; \"):\r\n",
                "    k, v = item.split(\"=\")\r\n",
                "    user_cookie[k] = v\r\n",
                "\r\n",
                "urllist = [\"https://lpl.qq.com/es/stats.shtml?bmid=7325\",\r\n",
                "        \"https://lpl.qq.com/es/stats.shtml?bmid=6909\"]\r\n",
                "\r\n",
                "test_url = \"https://lpl.qq.com/es/stats.shtml?bmid=6909\"\r\n",
                "\r\n",
                "#control = {'side':'left', 'count':0, 'records':0}\r\n",
                "#json_data['bMatchId']\r\n",
                "#jd = json.loads(json_data[\"sMatchInfo\"][0]['battleInfo']['BattleData'])\r\n",
                "#jd['left']['players']\r\n",
                "\r\n",
                "def lpl_url_for_request_scraping(raw_url, test):\r\n",
                "    base_url = \"https://lpl.qq.com/web201612/data/LOL_MATCH_DETAIL_\"\r\n",
                "    js = \".js\"\r\n",
                "    match_num = raw_url[-4:]\r\n",
                "    new_url = base_url + match_num + js\r\n",
                "    if test == True:\r\n",
                "        pprint.pprint(new_url)\r\n",
                "    return (new_url)\r\n",
                "\r\n",
                "#Get the lpl json data. \r\n",
                "def lpl_get_match_data(url, test):\r\n",
                "    good_url = lpl_url_for_request_scraping(url, False)\r\n",
                "    json_file = requests.get(good_url)\r\n",
                "    json_content = json.loads(json_file.text[12:-1]) # or demjson.decode(json_file.content[12:-1])\r\n",
                "    #assert json_file.status_code == 200\r\n",
                "    if test == True:\r\n",
                "        pprint.pprint(json_content)\r\n",
                "    return(json_content)\r\n",
                "\r\n",
                "\r\n",
                "y = lpl_get_match_data(test_url, False)\r\n",
                "print(type(y))"
            ],
            "outputs": [
                {
                    "output_type": "stream",
                    "name": "stdout",
                    "text": [
                        "<class 'dict'>\n"
                    ]
                }
            ],
            "metadata": {}
        },
        {
            "cell_type": "code",
            "execution_count": 9,
            "source": [
                "pip install demjson"
            ],
            "outputs": [
                {
                    "output_type": "stream",
                    "name": "stdout",
                    "text": [
                        "Collecting demjson\n",
                        "  Downloading demjson-2.2.4.tar.gz (131 kB)\n",
                        "Using legacy setup.py install for demjson, since package 'wheel' is not installed.\n",
                        "Installing collected packages: demjson\n",
                        "    Running setup.py install for demjson: started\n",
                        "    Running setup.py install for demjson: finished with status 'done'\n",
                        "Successfully installed demjson-2.2.4\n",
                        "Note: you may need to restart the kernel to use updated packages.\n"
                    ]
                },
                {
                    "output_type": "stream",
                    "name": "stderr",
                    "text": [
                        "WARNING: You are using pip version 20.1.1; however, version 21.1.3 is available.\n",
                        "You should consider upgrading via the 'C:\\Python38\\python.exe -m pip install --upgrade pip' command.\n"
                    ]
                }
            ],
            "metadata": {}
        },
        {
            "cell_type": "code",
            "execution_count": null,
            "source": [],
            "outputs": [],
            "metadata": {}
        }
    ],
    "metadata": {
        "orig_nbformat": 4,
        "language_info": {
            "name": "python",
            "version": "3.8.3",
            "mimetype": "text/x-python",
            "codemirror_mode": {
                "name": "ipython",
                "version": 3
            },
            "pygments_lexer": "ipython3",
            "nbconvert_exporter": "python",
            "file_extension": ".py"
        },
        "kernelspec": {
            "name": "python3",
            "display_name": "Python 3.8.3 64-bit"
        },
        "interpreter": {
            "hash": "2db524e06e9f5f4ffedc911c917cb75e12dbc923643829bf417064a77eb14d37"
        }
    },
    "nbformat": 4,
    "nbformat_minor": 2
}