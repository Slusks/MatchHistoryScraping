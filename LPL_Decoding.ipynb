{
 "cells": [
  {
   "cell_type": "code",
   "execution_count": 3,
   "metadata": {},
   "outputs": [],
   "source": [
    "import csv\n",
    "import json\n",
    "import pandas as pd\n",
    "from pathlib import Path\n",
    "import requests\n"
   ]
  },
  {
   "cell_type": "code",
   "execution_count": 4,
   "metadata": {},
   "outputs": [],
   "source": [
    "#For Laptop Use:\n",
    "Laptop = True\n",
    "if Laptop:\n",
    "    old_file = Path('C:/Users/samsl/Desktop/ScrapeTest/lplExampleData.txt')\n",
    "    new_file = Path('C:/Users/samsl/Desktop/ScrapeTest/cleanLPL.txt')\n",
    "else:\n",
    "    old_file = Path('C:/Users/sam/Desktop/ScrapeTest/lplExampleData.txt')\n",
    "    new_file = Path('C:/Users/sam/Desktop/ScrapeTest/cleanLPL.txt')"
   ]
  },
  {
   "cell_type": "code",
   "execution_count": 5,
   "metadata": {},
   "outputs": [],
   "source": [
    "\n",
    "dict1 = {}\n",
    "lpl_full_headers_dict = {\"kill\":\"kills\",\"death\":\"deaths\",\"assist\":\"assists\",'firstBlood': 'firstblood', 'totalDamageToChamp': 'totaldamagetochampions', 'pDamageToChamp': 'physicaldamagetochampions', 'mDamageDealtToChamp': 'magicdamagetochampions', 'trueDamageDealtToChampions': 'truedamagetochampions', 'damageDealtToObjectives': 'totaldamagetoobjectives', 'damageDealtToTurrets': 'totaldamagetoturrets', 'totalHeal': 'damagehealed', 'totalDamageTaken': 'damagetaken', 'mDamageTaken': 'magicdamagetaken', 'wardsKilled': 'wardsdestroyed', 'sightWardsBoughtInGame': 'stealthwardspurchased', 'visionWardsBought': 'controlwardspurchased', 'lasthit': 'minionskilled', 'neutralKilledTJungle': \"neutralminionskilledinteam'sjungle\", 'neutralKilledEJungle': 'neutralminionskilledinenemyjungle', 'killingSprees': 'killingsprees', 'longestTimeSpentLiving': 'longesttimespentliving', 'damageSelfMitigated': 'selfmitigateddamage', 'visionScore': 'visionscore', 'timeCCingOthers': 'timeccingothers', 'towerKills': 'totalTurretKills', 'inhibitorKills': 'totalInhibitorKills', 'totalTimeCrowdControlDealt': 'totaltimeapplyingcc', 'firstBloodAssist': 'firstbloodassist', 'firstTowerKill': 'firsttowerkill', 'firstTowerAssist': 'firsttowerassist', 'firstInhibitorKill': 'firstinhibkill', 'firstInhibitorAssist': 'firstinhibassist', 'dKills': 'doublekills', 'tKills': 'triplekills', 'qKills': 'quadrakills', 'pKills': 'pentakills', 'side':'side', 'gold':'goldearned', 'GoldSpent': 'goldspent', \"physicalDamageDealt\":\"physicaldamagedealt\", \"pDamageTaken\":\"physicaldamagetaken\", 'deadTime':'timespentdead', 'mDamageDealt':'totalmagicdamagedealt', 'largestCriticalStrike':'largestcriticalstrike',  \"largestKillingSpree\":\"largestkillingspree\", \"largestMultiKill\":\"largestmultikill\"}\n",
    "\n",
    "#full_headers_dict = { 'firstBloodKill': 'firstblood', 'totalDamageDealtToChampions': 'totaldamagetochampions', 'physicalDamageDealtToChampions': 'physicaldamagetochampions', 'magicDamageDealtToChampions': 'magicdamagetochampions', 'trueDamageDealtToChampions': 'truedamagetochampions', 'damageDealtToObjectives': 'totaldamagetoobjectives', 'damageDealtToTurrets': 'totaldamagetoturrets', 'totalHeal': 'damagehealed', 'totalDamageTaken': 'damagetaken', 'magicalDamageTaken': 'magicdamagetaken', 'wardsKilled': 'wardsdestroyed', 'sightWardsBoughtInGame': 'stealthwardspurchased', 'visionWardsBoughtInGame': 'controlwardspurchased', 'totalMinionsKilled': 'minionskilled', 'neutralMinionsKilledTeamJungle': \"neutralminionskilledinteam'sjungle\", 'neutralMinionsKilledEnemyJungle': 'neutralminionskilledinenemyjungle', 'killingSprees': 'killingsprees', 'longestTimeSpentLiving': 'longesttimespentliving', 'damageSelfMitigated': 'selfmitigateddamage', 'visionScore': 'visionscore', 'timeCCingOthers': 'timeccingothers', 'turretKills': 'totalTurretKills', 'inhibitorKills': 'totalInhibitorKills', 'totalTimeCrowdControlDealt': 'totaltimeapplyingcc', 'firstBloodAssist': 'firstbloodassist', 'firstTowerKill': 'firsttowerkill', 'firstTowerAssist': 'firsttowerassist', 'firstInhibitorKill': 'firstinhibkill', 'firstInhibitorAssist': 'firstinhibassist', 'doubleKills': 'doublekills', 'tripleKills': 'triplekills', 'quadraKills': 'quadrakills', 'pentaKills': 'pentakills',}\n",
    "\n",
    "\n",
    "#No LPL stat for: - 'true damage to champions', 'damageDealtToObjectives', 'damageDealtToTurrets', 'wardsPlaced'\n",
    "\n",
    "#[, , 'hero', 'name', 'memberId', 'skill-1', 'skill-2', 'equip', 'win', 'totalDamage', , , , , , , , , , , 'neutralKilled', , , ,, , , , , , , , , 'level', , , , '', 'firstTower']\n",
    "\n",
    "#Wondering if there is a way to get the bans in... ex 'ban-hero-1'\n",
    "# game-ban-list exists\n",
    "# Oracle Elixer data has ban order per team. Probably want to use Oracle data for Team info\n",
    "#left = red side\n",
    "#right - blue side\n"
   ]
  },
  {
   "cell_type": "code",
   "execution_count": 6,
   "metadata": {},
   "outputs": [],
   "source": [
    "data = {}\n",
    "with open(old_file, 'r') as file:\n",
    "    lpl = file.read()\n",
    "    lpl_data = lpl[12:-1]\n",
    "    json_data = json.loads(lpl_data)\n",
    "    #print(lpl_data)"
   ]
  },
  {
   "cell_type": "code",
   "execution_count": 7,
   "metadata": {},
   "outputs": [
    {
     "output_type": "stream",
     "name": "stdout",
     "text": [
      "dict_keys(['bMatchId', 'bMatchName', 'GameId', 'GameName', 'GameMode', 'GameModeName', 'GameTypeId', 'GameTypeName', 'GameProcId', 'GameProcName', 'TeamA', 'TeamNameA', 'ScoreA', 'TeamB', 'TeamNameB', 'ScoreB', 'MatchDate', 'MatchStatus', 'MatchWin', 'iQTMatchId', 'AppTopicId', 'isTft', 'tftInfos', 'bGameId', 'MatchTime', 'TeamIcon', 'sExt1', 'sExt1Src', 'sExt2', 'sExt2Src', 'sExt3Src', 'sExt3', 'sExt4Src', 'sExt4', 'iDefault', 'Video1', 'Video2', 'Video3', 'Chat1', 'Chat2', 'Chat3', 'News1', 'News2', 'News3', 'isFocus', 'sAfterNews', 'sMatchInfo', 'lastUpdateTime'])\n"
     ]
    }
   ],
   "source": [
    "print(json_data.keys())\n"
   ]
  },
  {
   "cell_type": "code",
   "execution_count": 8,
   "metadata": {},
   "outputs": [
    {
     "output_type": "execute_result",
     "data": {
      "text/plain": [
       "'148'"
      ]
     },
     "metadata": {},
     "execution_count": 8
    }
   ],
   "source": [
    "json_data['bMatchId']\n",
    "json_data['GameId']\n",
    "#json_data['sMatchInfo']\n"
   ]
  },
  {
   "cell_type": "code",
   "execution_count": 9,
   "metadata": {},
   "outputs": [],
   "source": [
    "clean_json ={}\n",
    "for i in json_data.keys():\n",
    "    #print(i,\":\", json_data[i])\n",
    "    pass\n"
   ]
  },
  {
   "cell_type": "code",
   "execution_count": 10,
   "metadata": {},
   "outputs": [
    {
     "output_type": "stream",
     "name": "stdout",
     "text": [
      "dict_keys(['sMatchId', 'sMatchName', 'bMatchId', 'bMatchName', 'GameId', 'GameName', 'GameProcId', 'GameProcName', 'MatchNum', 'AreaId', 'BattleId', 'TeamA', 'TeamB', 'MatchStatus', 'MatchWin', 'BlueTeam', 'battleInfo', 'sMatchMember'])\ndict_keys(['sMatchId', 'sMatchName', 'bMatchId', 'bMatchName', 'GameId', 'GameName', 'GameProcId', 'GameProcName', 'MatchNum', 'AreaId', 'BattleId', 'TeamA', 'TeamB', 'MatchStatus', 'MatchWin', 'BlueTeam', 'battleInfo', 'sMatchMember'])\ndict_keys(['sMatchId', 'sMatchName', 'bMatchId', 'bMatchName', 'GameId', 'GameName', 'GameProcId', 'GameProcName', 'MatchNum', 'AreaId', 'BattleId', 'TeamA', 'TeamB', 'MatchStatus', 'MatchWin', 'BlueTeam', 'battleInfo', 'sMatchMember'])\n"
     ]
    }
   ],
   "source": [
    "for i in json_data[\"sMatchInfo\"]:\n",
    "    print(i.keys())\n"
   ]
  },
  {
   "cell_type": "code",
   "execution_count": 11,
   "metadata": {},
   "outputs": [
    {
     "output_type": "execute_result",
     "data": {
      "text/plain": [
       "dict_keys(['kill', 'death', 'assist', 'gold', 'lasthit', 'hero', 'name', 'memberId', 'skill-1', 'skill-2', 'equip', 'win', 'totalDamage', 'totalDamageToChamp', 'pDamageToChamp', 'mDamageDealtToChamp', 'pDamageDealt', 'mDamageDealt', 'largestCriticalStrike', 'totalHeal', 'totalDamageTaken', 'pDamageTaken', 'mDamageTaken', 'neutralKilled', 'neutralKilledTJungle', 'neutralKilledEJungle', 'wardsPlaced', 'wardsKilled', 'visionWardsBought', 'dKills', 'tKills', 'qKills', 'pKills', 'towerKills', 'inhibitorKills', 'deadTime', 'level', 'killingSprees', 'largestMultiKill', 'largestKillingSpree', 'firstBlood', 'firstTower'])"
      ]
     },
     "metadata": {},
     "execution_count": 11
    }
   ],
   "source": [
    "x = json_data[\"sMatchInfo\"][0]['battleInfo']['BattleData']\n",
    "jd = json.loads(x)\n",
    "jd['left']['players'][0].keys()\n",
    "\n"
   ]
  },
  {
   "cell_type": "code",
   "execution_count": 12,
   "metadata": {},
   "outputs": [],
   "source": [
    "full_headers_dict = {\"summonerName\":\"player\", \"championId\": \"champion\", \"magicDamageDealt\":\"totalmagicdamagedealt\", \"physicalDamageDealt\":\"totalphysicaldamagedealt\", \"physicalDamageTaken\":\"physicaldamagetaken\", \"kills\":\"kills\",\"deaths\":\"deaths\",\"assists\":\"assists\", 'firstBloodKill': 'firstblood', 'totalDamageDealtToChampions': 'totaldamagetochampions', 'physicalDamageDealtToChampions': 'physicaldamagetochampions', 'magicDamageDealtToChampions': 'magicdamagetochampions', 'trueDamageDealtToChampions': 'truedamagetochampions', 'damageDealtToObjectives': 'totaldamagetoobjectives', 'damageDealtToTurrets': 'totaldamagetoturrets', 'totalHeal': 'damagehealed', 'totalDamageTaken': 'damagetaken', 'magicalDamageTaken': 'magicdamagetaken', 'wardsKilled': 'wardsdestroyed', 'sightWardsBoughtInGame': 'stealthwardspurchased', 'visionWardsBoughtInGame': 'controlwardspurchased', 'totalMinionsKilled': 'minionskilled', 'neutralMinionsKilledTeamJungle': \"neutralminionskilledinteam'sjungle\", 'neutralMinionsKilledEnemyJungle': 'neutralminionskilledinenemyjungle', 'killingSprees': 'killingsprees', 'longestTimeSpentLiving': 'longesttimespentliving', 'damageSelfMitigated': 'selfmitigateddamage', 'visionScore': 'visionscore', 'timeCCingOthers': 'timeccingothers', 'turretKills': 'totalTurretKills', 'inhibitorKills': 'totalInhibitorKills', 'totalTimeCrowdControlDealt': 'totaltimeapplyingcc', 'firstBloodAssist': 'firstbloodassist', 'firstTowerKill': 'firsttowerkill', 'firstTowerAssist': 'firsttowerassist', 'firstInhibitorKill': 'firstinhibkill', 'firstInhibitorAssist': 'firstinhibassist', 'doubleKills': 'doublekills', 'tripleKills': 'triplekills', 'quadraKills': 'quadrakills', 'pentaKills': 'pentakills', 'goldEarned':'goldearned', 'goldSpent': 'goldspent', \"largestCriticalStrike\":\"largestcriticalstrike\", \"largestKillingSpree\":\"largestkillingspree\", \"largestMultiKill\":\"largestmultikill\", \"teamId\":'side', 'gameId':'gameId'}\n",
    "full_headers_dict_lpl = {\"name\": \"player\",\"hero\":\"champion\",\"kill\":\"kills\",\"death\":\"deaths\",\"assist\":\"assists\",'firstBlood': 'firstblood', 'totalDamageToChamp': 'totaldamagetochampions', 'pDamageToChamp': 'physicaldamagetochampions', 'mDamageDealtToChamp': 'magicdamagetochampions', 'trueDamageDealtToChampions': 'truedamagetochampions', 'damageDealtToObjectives': 'totaldamagetoobjectives', 'damageDealtToTurrets': 'totaldamagetoturrets', 'totalHeal': 'damagehealed', 'totalDamageTaken': 'damagetaken', 'mDamageTaken': 'magicdamagetaken', 'wardsKilled': 'wardsdestroyed', 'sightWardsBoughtInGame': 'stealthwardspurchased', 'visionWardsBought': 'controlwardspurchased', 'lasthit': 'minionskilled', 'neutralKilledTJungle': \"neutralminionskilledinteam'sjungle\", 'neutralKilledEJungle': 'neutralminionskilledinenemyjungle', 'killingSprees': 'killingsprees', 'longestTimeSpentLiving': 'longesttimespentliving', 'damageSelfMitigated': 'selfmitigateddamage', 'visionScore': 'visionscore', 'timeCCingOthers': 'timeccingothers', 'towerKills': 'totalTurretKills', 'inhibitorKills': 'totalInhibitorKills', 'totalTimeCrowdControlDealt': 'totaltimeapplyingcc', 'firstBloodAssist': 'firstbloodassist', 'firstTowerKill': 'firsttowerkill', 'firstTowerAssist': 'firsttowerassist', 'firstInhibitorKill': 'firstinhibkill', 'firstInhibitorAssist': 'firstinhibassist', 'dKills': 'doublekills', 'tKills': 'triplekills', 'qKills': 'quadrakills', 'pKills': 'pentakills', 'side':'side', 'gold':'goldearned', 'GoldSpent': 'goldspent', \"pDamageDealt\":\"totalphysicaldamagedealt\", \"pDamageTaken\":\"physicaldamagetaken\", 'mDamageDealt':'totalmagicdamagedealt', 'largestCriticalStrike':'largestcriticalstrike',  \"largestKillingSpree\":\"largestkillingspree\", \"largestMultiKill\":\"largestmultikill\", 'game-id':'gameId'}"
   ]
  },
  {
   "cell_type": "code",
   "execution_count": 13,
   "metadata": {},
   "outputs": [
    {
     "output_type": "stream",
     "name": "stdout",
     "text": [
      "{'assist': 'assists', 'hero': 'champion', 'visionWardsBought': 'controlwardspurchased', 'totalHeal': 'damagehealed', 'totalDamageTaken': 'damagetaken', 'death': 'deaths', 'dKills': 'doublekills', 'firstBlood': 'firstblood', 'firstBloodAssist': 'firstbloodassist', 'firstInhibitorAssist': 'firstinhibassist', 'firstInhibitorKill': 'firstinhibkill', 'firstTowerAssist': 'firsttowerassist', 'firstTowerKill': 'firsttowerkill', 'game-id': 'gameId', 'gold': 'goldearned', 'GoldSpent': 'goldspent', 'killingSprees': 'killingsprees', 'kill': 'kills', 'largestCriticalStrike': 'largestcriticalstrike', 'largestKillingSpree': 'largestkillingspree', 'largestMultiKill': 'largestmultikill', 'longestTimeSpentLiving': 'longesttimespentliving', 'mDamageTaken': 'magicdamagetaken', 'mDamageDealtToChamp': 'magicdamagetochampions', 'lasthit': 'minionskilled', 'neutralKilledEJungle': 'neutralminionskilledinenemyjungle', 'neutralKilledTJungle': \"neutralminionskilledinteam'sjungle\", 'pKills': 'pentakills', 'pDamageTaken': 'physicaldamagetaken', 'pDamageToChamp': 'physicaldamagetochampions', 'name': 'player', 'qKills': 'quadrakills', 'damageSelfMitigated': 'selfmitigateddamage', 'side': 'side', 'sightWardsBoughtInGame': 'stealthwardspurchased', 'timeCCingOthers': 'timeccingothers', 'inhibitorKills': 'totalInhibitorKills', 'towerKills': 'totalTurretKills', 'totalDamageToChamp': 'totaldamagetochampions', 'damageDealtToObjectives': 'totaldamagetoobjectives', 'damageDealtToTurrets': 'totaldamagetoturrets', 'mDamageDealt': 'totalmagicdamagedealt', 'pDamageDealt': 'totalphysicaldamagedealt', 'totalTimeCrowdControlDealt': 'totaltimeapplyingcc', 'tKills': 'triplekills', 'trueDamageDealtToChampions': 'truedamagetochampions', 'visionScore': 'visionscore', 'wardsKilled': 'wardsdestroyed'}\n"
     ]
    }
   ],
   "source": [
    "#gotta run this on both header dicts prior to running anything else so they end up in the same order\n",
    "# orders them by value because all of the values are the same\n",
    "def get_key(dic, val):\n",
    "    for key, value in dic.items():\n",
    "         if val == value:\n",
    "             return key\n",
    "def sort_dictionary(in_dict):\n",
    "    x = list(in_dict.keys())\n",
    "    y = list(in_dict.values())\n",
    "    new_d = {}\n",
    "    y_sorted = sorted(y)\n",
    "    for i in y_sorted:\n",
    "        key = get_key(in_dict,i)\n",
    "        new_d[key] = i\n",
    "    return(new_d)\n",
    "\n",
    "alphebetical_full_headers_dict_lpl = sort_dictionary(full_headers_dict_lpl)\n",
    "print(alphebetical_full_headers_dict_lpl)\n"
   ]
  },
  {
   "cell_type": "code",
   "execution_count": 12,
   "metadata": {},
   "outputs": [
    {
     "output_type": "stream",
     "name": "stdout",
     "text": [
      "dict_keys(['assists', 'championId', 'visionWardsBoughtInGame', 'totalHeal', 'totalDamageTaken', 'deaths', 'doubleKills', 'firstBloodKill', 'firstBloodAssist', 'firstInhibitorAssist', 'firstInhibitorKill', 'firstTowerAssist', 'firstTowerKill', 'gameId', 'goldEarned', 'goldSpent', 'killingSprees', 'kills', 'largestCriticalStrike', 'largestKillingSpree', 'largestMultiKill', 'longestTimeSpentLiving', 'magicalDamageTaken', 'magicDamageDealtToChampions', 'totalMinionsKilled', 'neutralMinionsKilledEnemyJungle', 'neutralMinionsKilledTeamJungle', 'pentaKills', 'physicalDamageTaken', 'physicalDamageDealtToChampions', 'summonerName', 'quadraKills', 'damageSelfMitigated', 'teamId', 'sightWardsBoughtInGame', 'timeCCingOthers', 'inhibitorKills', 'turretKills', 'totalDamageDealtToChampions', 'damageDealtToObjectives', 'damageDealtToTurrets', 'magicDamageDealt', 'physicalDamageDealt', 'totalTimeCrowdControlDealt', 'tripleKills', 'trueDamageDealtToChampions', 'visionScore', 'wardsKilled'])\n"
     ]
    }
   ],
   "source": [
    "a_full_headers_dict = sort_dictionary(full_headers_dict)\n",
    "b_keys = a_full_headers_dict.keys()\n",
    "print(b_keys)"
   ]
  },
  {
   "cell_type": "code",
   "execution_count": 14,
   "metadata": {},
   "outputs": [
    {
     "output_type": "stream",
     "name": "stdout",
     "text": [
      "firstBloodAssist in non-lpl headers\nfirstInhibitorAssist in non-lpl headers\nfirstInhibitorKill in non-lpl headers\nfirstTowerAssist in non-lpl headers\nfirstTowerKill in non-lpl headers\nlongestTimeSpentLiving in non-lpl headers\ndamageSelfMitigated in non-lpl headers\nsightWardsBoughtInGame in non-lpl headers\ntimeCCingOthers in non-lpl headers\ndamageDealtToObjectives in non-lpl headers\ndamageDealtToTurrets in non-lpl headers\ntotalTimeCrowdControlDealt in non-lpl headers\ntrueDamageDealtToChampions in non-lpl headers\nvisionScore in non-lpl headers\ndone\nfirstBloodAssist in non-lpl headers\nfirstInhibitorAssist in non-lpl headers\nfirstInhibitorKill in non-lpl headers\nfirstTowerAssist in non-lpl headers\nfirstTowerKill in non-lpl headers\nlongestTimeSpentLiving in non-lpl headers\ndamageSelfMitigated in non-lpl headers\nsightWardsBoughtInGame in non-lpl headers\ntimeCCingOthers in non-lpl headers\ndamageDealtToObjectives in non-lpl headers\ndamageDealtToTurrets in non-lpl headers\ntotalTimeCrowdControlDealt in non-lpl headers\ntrueDamageDealtToChampions in non-lpl headers\nvisionScore in non-lpl headers\ndone\nfirstBloodAssist in non-lpl headers\nfirstInhibitorAssist in non-lpl headers\nfirstInhibitorKill in non-lpl headers\nfirstTowerAssist in non-lpl headers\nfirstTowerKill in non-lpl headers\nlongestTimeSpentLiving in non-lpl headers\ndamageSelfMitigated in non-lpl headers\nsightWardsBoughtInGame in non-lpl headers\ntimeCCingOthers in non-lpl headers\ndamageDealtToObjectives in non-lpl headers\ndamageDealtToTurrets in non-lpl headers\ntotalTimeCrowdControlDealt in non-lpl headers\ntrueDamageDealtToChampions in non-lpl headers\nvisionScore in non-lpl headers\ndone\nfirstBloodAssist in non-lpl headers\nfirstInhibitorAssist in non-lpl headers\nfirstInhibitorKill in non-lpl headers\nfirstTowerAssist in non-lpl headers\nfirstTowerKill in non-lpl headers\nlongestTimeSpentLiving in non-lpl headers\ndamageSelfMitigated in non-lpl headers\nsightWardsBoughtInGame in non-lpl headers\ntimeCCingOthers in non-lpl headers\ndamageDealtToObjectives in non-lpl headers\ndamageDealtToTurrets in non-lpl headers\ntotalTimeCrowdControlDealt in non-lpl headers\ntrueDamageDealtToChampions in non-lpl headers\nvisionScore in non-lpl headers\ndone\nfirstBloodAssist in non-lpl headers\nfirstInhibitorAssist in non-lpl headers\nfirstInhibitorKill in non-lpl headers\nfirstTowerAssist in non-lpl headers\nfirstTowerKill in non-lpl headers\nlongestTimeSpentLiving in non-lpl headers\ndamageSelfMitigated in non-lpl headers\nsightWardsBoughtInGame in non-lpl headers\ntimeCCingOthers in non-lpl headers\ndamageDealtToObjectives in non-lpl headers\ndamageDealtToTurrets in non-lpl headers\ntotalTimeCrowdControlDealt in non-lpl headers\ntrueDamageDealtToChampions in non-lpl headers\nvisionScore in non-lpl headers\ndone\nfirstBloodAssist in non-lpl headers\nfirstInhibitorAssist in non-lpl headers\nfirstInhibitorKill in non-lpl headers\nfirstTowerAssist in non-lpl headers\nfirstTowerKill in non-lpl headers\nlongestTimeSpentLiving in non-lpl headers\ndamageSelfMitigated in non-lpl headers\nsightWardsBoughtInGame in non-lpl headers\ntimeCCingOthers in non-lpl headers\ndamageDealtToObjectives in non-lpl headers\ndamageDealtToTurrets in non-lpl headers\ntotalTimeCrowdControlDealt in non-lpl headers\ntrueDamageDealtToChampions in non-lpl headers\nvisionScore in non-lpl headers\ndone\nfirstBloodAssist in non-lpl headers\nfirstInhibitorAssist in non-lpl headers\nfirstInhibitorKill in non-lpl headers\nfirstTowerAssist in non-lpl headers\nfirstTowerKill in non-lpl headers\nlongestTimeSpentLiving in non-lpl headers\ndamageSelfMitigated in non-lpl headers\nsightWardsBoughtInGame in non-lpl headers\ntimeCCingOthers in non-lpl headers\ndamageDealtToObjectives in non-lpl headers\ndamageDealtToTurrets in non-lpl headers\ntotalTimeCrowdControlDealt in non-lpl headers\ntrueDamageDealtToChampions in non-lpl headers\nvisionScore in non-lpl headers\ndone\nfirstBloodAssist in non-lpl headers\nfirstInhibitorAssist in non-lpl headers\nfirstInhibitorKill in non-lpl headers\nfirstTowerAssist in non-lpl headers\nfirstTowerKill in non-lpl headers\nlongestTimeSpentLiving in non-lpl headers\ndamageSelfMitigated in non-lpl headers\nsightWardsBoughtInGame in non-lpl headers\ntimeCCingOthers in non-lpl headers\ndamageDealtToObjectives in non-lpl headers\ndamageDealtToTurrets in non-lpl headers\ntotalTimeCrowdControlDealt in non-lpl headers\ntrueDamageDealtToChampions in non-lpl headers\nvisionScore in non-lpl headers\ndone\nfirstBloodAssist in non-lpl headers\nfirstInhibitorAssist in non-lpl headers\nfirstInhibitorKill in non-lpl headers\nfirstTowerAssist in non-lpl headers\nfirstTowerKill in non-lpl headers\nlongestTimeSpentLiving in non-lpl headers\ndamageSelfMitigated in non-lpl headers\nsightWardsBoughtInGame in non-lpl headers\ntimeCCingOthers in non-lpl headers\ndamageDealtToObjectives in non-lpl headers\ndamageDealtToTurrets in non-lpl headers\ntotalTimeCrowdControlDealt in non-lpl headers\ntrueDamageDealtToChampions in non-lpl headers\nvisionScore in non-lpl headers\ndone\nfirstBloodAssist in non-lpl headers\nfirstInhibitorAssist in non-lpl headers\nfirstInhibitorKill in non-lpl headers\nfirstTowerAssist in non-lpl headers\nfirstTowerKill in non-lpl headers\nlongestTimeSpentLiving in non-lpl headers\ndamageSelfMitigated in non-lpl headers\nsightWardsBoughtInGame in non-lpl headers\ntimeCCingOthers in non-lpl headers\ndamageDealtToObjectives in non-lpl headers\ndamageDealtToTurrets in non-lpl headers\ntotalTimeCrowdControlDealt in non-lpl headers\ntrueDamageDealtToChampions in non-lpl headers\nvisionScore in non-lpl headers\ndone\n[['1', 'Camille', '4', '6869', '23206', '3', '0', '0', '11183', '0', '0', '0', '0', '0', '7646', '827', '278', '0', '10', '0', '14945', '6105', 'OMGNew', '0', '0', '1', '8434', '827', '132137', '0', '8'], ['2', 'Kindred', '8', '15581', '23861', '2', '0', '0', '9329', '0', '1', '411', '0', '1', '5655', '2547', '186', '7', '125', '0', '17125', '5771', 'OMGAki', '0', '0', '0', '8951', '29754', '132198', '0', '12'], ['1', 'TwistedFate', '3', '1819', '17647', '6', '0', '1', '11516', '0', '2', '0', '0', '1', '8061', '5287', '243', '0', '12', '0', '8834', '583', 'OMGWuming', '0', '0', '1', '6073', '120719', '17798', '0', '5'], ['2', 'Jhin', '4', '4173', '9828', '1', '0', '0', '12685', '0', '1', '1244', '0', '1', '871', '425', '312', '0', '16', '0', '8813', '8464', 'OMGEric', '0', '0', '1', '9017', '13747', '202990', '0', '12'], ['3', 'Galio', '13', '1532', '12824', '3', '0', '0', '6432', '0', '0', '0', '0', '0', '830', '4256', '47', '0', '0', '0', '10626', '0', 'OMGCOLD', '0', '0', '0', '4876', '27713', '1919', '0', '10'], ['3', 'Galio', '13', '1532', '12824', '3', '0', '0', '6432', '0', '0', '0', '0', '0', '830', '4256', '47', '0', '0', '0', '10626', '0', 'OMGCOLD', '0', '0', '0', '4876', '27713', '1919', '0', '10'], ['9', 'Olaf', '9', '18227', '30288', '1', '1', '0', '11794', '2', '4', '0', '2', '2', '7569', '44', '198', '6', '103', '0', '21142', '8849', 'EDGJiejie', '0', '0', '1', '11357', '9041', '148644', '0', '20'], ['7', 'Orianna', '3', '1008', '6511', '1', '0', '0', '14590', '1', '3', '0', '3', '1', '1841', '9226', '326', '4', '24', '0', '4642', '925', 'EDGScout', '0', '0', '3', '10151', '201433', '19060', '0', '10'], ['7', 'MissFortune', '6', '2513', '5784', '0', '1', '0', '14281', '1', '5', '716', '5', '2', '1242', '2025', '320', '4', '17', '0', '4023', '19323', 'EDGViper', '0', '1', '2', '21953', '3579', '193098', '0', '15'], ['7', 'Leona', '14', '216', '7205', '1', '0', '0', '7877', '0', '2', '0', '0', '1', '1898', '1114', '32', '0', '0', '0', '5041', '784', 'EDGMeiko', '0', '0', '2', '2789', '3384', '6005', '0', '4']]\n"
     ]
    }
   ],
   "source": [
    "#gotta run this on both header dicts prior to running anything else so they end up in the same order\n",
    "# orders them by value because all of the values are the same\n",
    "def get_key(dic, val):\n",
    "    for key, value in dic.items():\n",
    "         if val == value:\n",
    "             return key\n",
    "def sort_dictionary(in_dict):\n",
    "    x = list(in_dict.keys())\n",
    "    y = list(in_dict.values())\n",
    "    new_d = {}\n",
    "    y_sorted = sorted(y)\n",
    "    for i in y_sorted:\n",
    "        key = get_key(in_dict,i)\n",
    "        new_d[key] = i\n",
    "    return(new_d)\n",
    "\n",
    "\n",
    "#gotta check if lpl champion dict == normal champion dict\n",
    "champ_dd = requests.get(\"https://ddragon.leagueoflegends.com/cdn/11.8.1/data/en_US/champion.json\")#, cookies=user_cookie)\n",
    "champ_json = champ_dd.json()\n",
    "champ_name = champ_json[\"data\"] #this creates a list of all the champions\n",
    "champ_key_dict = {}\n",
    "for i in champ_name:\n",
    "    champ_key_dict.update({champ_json[\"data\"][i][\"key\"]:i})\n",
    "\n",
    "#get alphabetized headers dictionary\n",
    "a_full_headers_dict_lpl = sort_dictionary(full_headers_dict_lpl)\n",
    "a_keys = a_full_headers_dict_lpl.keys()\n",
    "\n",
    "#alphabetized non-lpl headers\n",
    "a_full_headers_dict = sort_dictionary(full_headers_dict)\n",
    "b_keys = a_full_headers_dict.keys()\n",
    "\n",
    "list_list = []\n",
    "jd = json.loads(json_data[\"sMatchInfo\"][0]['battleInfo']['BattleData']) #this returns a json\n",
    "keys = jd.keys()\n",
    "control = {'side':'left', 'count':0, 'records':0}\n",
    "gameId= json_data['bMatchId']\n",
    "#this subsection is to move between the 'right' and 'left' team lists because that's how this info is nested.\n",
    "while control['records'] < 10: #set this to 1 to get it to run for only one player\n",
    "    output_list = []\n",
    "    if control['count'] == 5:\n",
    "        control['side'] = 'right'\n",
    "        control['count'] = 0\n",
    "    else: #I think the champion id -> champion modifier goes in here.\n",
    "        side = control['side']\n",
    "        count = control['count']\n",
    "        data = jd[side]['players'][count] #dicts\n",
    "    for i in a_keys:\n",
    "        try:\n",
    "            if i == 'hero': #this statement worked\n",
    "                output_list.append(str(champ_key_dict[jd[side]['players'][count][i]]))\n",
    "            elif data[i]:\n",
    "                #print('yes')\n",
    "                output_list.append(data[i]) #list of all of the player info, which is currently fucking up\n",
    "            elif i == 'firstBlood': #have to have this statement in here because apparently if the player didn't FB they just leave the line empty and python picks it up as False\n",
    "                    if not data[i]:\n",
    "                        data[i] = '0'\n",
    "                        output_list.append(data[i])\n",
    "                    else:\n",
    "                        data[i] = '1'\n",
    "                        output_list.append(data[i])\n",
    "            elif i == 'game-id':\n",
    "                output_list.append(gameId)\n",
    "            elif i == 'side':\n",
    "                output_list.append(control['side'])\n",
    "            else:\n",
    "                print (i, 'not in lpl headers')\n",
    "        except Exception as e: # probably dont need this full line because I'm doing something with the exception\n",
    "            if i in b_keys:\n",
    "                print (i, \"in non-lpl headers\")\n",
    "                pass\n",
    "            elif i == 'game-id' or 'side':\n",
    "                continue\n",
    "            else:\n",
    "                print (\"exception\", i)\n",
    "    list_list.append(output_list)\n",
    "    control['count'] = control['count'] + 1\n",
    "    control['records'] = control['records'] + 1\n",
    "    print('done')\n",
    "print(list_list)\n",
    "\n",
    "##game-id and side are both variables picked up elsewhere that just need to be inserted where the exception is running\n",
    "\n",
    "##There are some keys that are in the non-lpl match data that lpl doesn't pick up:\n",
    "# firstBloodAssist in non-lpl headers\n",
    "# firstInhibitorAssist in non-lpl headers\n",
    "# firstInhibitorKill in non-lpl headers\n",
    "# firstTowerAssist in non-lpl headers\n",
    "# firstTowerKill in non-lpl headers\n",
    "# longestTimeSpentLiving in non-lpl headers\n",
    "# damageSelfMitigated in non-lpl headers\n",
    "# sightWardsBoughtInGame in non-lpl headers\n",
    "# timeCCingOthers in non-lpl headers\n",
    "# damageDealtToObjectives in non-lpl headers\n",
    "# damageDealtToTurrets in non-lpl headers\n",
    "# totalTimeCrowdControlDealt in non-lpl headers\n",
    "# trueDamageDealtToChampions in non-lpl headers\n",
    "# visionScore in non-lpl headers"
   ]
  },
  {
   "cell_type": "code",
   "execution_count": 14,
   "metadata": {},
   "outputs": [
    {
     "output_type": "stream",
     "name": "stdout",
     "text": [
      "dict_keys(['assist', 'hero', 'visionWardsBought', 'totalHeal', 'totalDamageTaken', 'death', 'dKills', 'firstBlood', 'firstBloodAssist', 'firstInhibitorAssist', 'firstInhibitorKill', 'firstTowerAssist', 'firstTowerKill', 'game-id', 'gold', 'GoldSpent', 'killingSprees', 'kill', 'largestCriticalStrike', 'largestKillingSpree', 'largestMultiKill', 'longestTimeSpentLiving', 'mDamageTaken', 'mDamageDealtToChamp', 'lasthit', 'neutralKilledEJungle', 'neutralKilledTJungle', 'pKills', 'pDamageTaken', 'pDamageToChamp', 'name', 'qKills', 'damageSelfMitigated', 'side', 'sightWardsBoughtInGame', 'timeCCingOthers', 'inhibitorKills', 'towerKills', 'totalDamageToChamp', 'damageDealtToObjectives', 'damageDealtToTurrets', 'mDamageDealt', 'pDamageDealt', 'totalTimeCrowdControlDealt', 'tKills', 'trueDamageDealtToChampions', 'visionScore', 'wardsKilled'])\nkill in keys\ndeath in keys\nassist in keys\ngold in keys\nlasthit in keys\nhero in keys\nname in keys\nmemberId not in keys\nskill-1 not in keys\nskill-2 not in keys\nequip not in keys\nwin not in keys\ntotalDamage not in keys\ntotalDamageToChamp in keys\npDamageToChamp in keys\nmDamageDealtToChamp in keys\npDamageDealt in keys\nmDamageDealt in keys\nlargestCriticalStrike in keys\ntotalHeal in keys\ntotalDamageTaken in keys\npDamageTaken in keys\nmDamageTaken in keys\nneutralKilled not in keys\nneutralKilledTJungle in keys\nneutralKilledEJungle in keys\nwardsPlaced not in keys\nwardsKilled in keys\nvisionWardsBought in keys\ndKills in keys\ntKills in keys\nqKills in keys\npKills in keys\ntowerKills in keys\ninhibitorKills in keys\ndeadTime not in keys\nlevel not in keys\nkillingSprees in keys\nlargestMultiKill in keys\nlargestKillingSpree in keys\nfirstBlood in keys\nfirstTower not in keys\n"
     ]
    }
   ],
   "source": [
    "keys = alphebetical_full_headers_dict_lpl.keys()\n",
    "print(keys)\n",
    "data = jd[side]['players'][0]\n",
    "\n",
    "for i in jd[side]['players'][0]:\n",
    "    if i in keys:\n",
    "        print (i, \"in keys\")\n",
    "    else:\n",
    "        print(i, \"not in keys\")"
   ]
  },
  {
   "cell_type": "code",
   "execution_count": 15,
   "metadata": {
    "tags": [
     "outputPrepend"
    ]
   },
   "outputs": [
    {
     "output_type": "stream",
     "name": "stdout",
     "text": [
      "ls': '1', 'tKills': '0', 'qKills': '0', 'pKills': '0', 'towerKills': '2', 'inhibitorKills': '1', 'deadTime': '0', 'level': '16', 'killingSprees': '1', 'largestMultiKill': '2', 'largestKillingSpree': '5', 'firstBlood': '0', 'firstTower': ''}, {'kill': '2', 'death': '1', 'assist': '7', 'gold': '7877', 'lasthit': '32', 'hero': '89', 'name': 'EDGMeiko', 'memberId': '5', 'skill-1': '4', 'skill-2': '14', 'equip': {'game-equip-1': '3860', 'game-equip-2': '3190', 'game-equip-3': '0', 'game-equip-4': '3111', 'game-equip-5': '3067', 'game-equip-6': '1027', 'game-equip-7': '3364'}, 'win': '1', 'totalDamage': '17553', 'totalDamageToChamp': '2789', 'pDamageToChamp': '784', 'mDamageDealtToChamp': '1114', 'pDamageDealt': '6005', 'mDamageDealt': '3384', 'largestCriticalStrike': '0', 'totalHeal': '216', 'totalDamageTaken': '7205', 'pDamageTaken': '5041', 'mDamageTaken': '1898', 'neutralKilled': '0', 'neutralKilledTJungle': '0', 'neutralKilledEJungle': '0', 'wardsPlaced': '50', 'wardsKilled': '4', 'visionWardsBought': '14', 'dKills': '0', 'tKills': '0', 'qKills': '0', 'pKills': '0', 'towerKills': '2', 'inhibitorKills': '0', 'deadTime': '28', 'level': '13', 'killingSprees': '0', 'largestMultiKill': '1', 'largestKillingSpree': '0', 'firstBlood': '0', 'firstTower': ''}]\n{'kill': '3', 'death': '1', 'assist': '7', 'gold': '14590', 'lasthit': '326', 'hero': '61', 'name': 'EDGScout', 'memberId': '200', 'skill-1': '12', 'skill-2': '4', 'equip': {'game-equip-1': '3157', 'game-equip-2': '3040', 'game-equip-3': '4630', 'game-equip-4': '2420', 'game-equip-5': '6655', 'game-equip-6': '3111', 'game-equip-7': '3363'}, 'win': '1', 'totalDamage': '233422', 'totalDamageToChamp': '10151', 'pDamageToChamp': '925', 'mDamageDealtToChamp': '9226', 'pDamageDealt': '19060', 'mDamageDealt': '201433', 'largestCriticalStrike': '0', 'totalHeal': '1008', 'totalDamageTaken': '6511', 'pDamageTaken': '4642', 'mDamageTaken': '1841', 'neutralKilled': '34', 'neutralKilledTJungle': '24', 'neutralKilledEJungle': '4', 'wardsPlaced': '14', 'wardsKilled': '10', 'visionWardsBought': '3', 'dKills': '0', 'tKills': '0', 'qKills': '0', 'pKills': '0', 'towerKills': '3', 'inhibitorKills': '0', 'deadTime': '27', 'level': '18', 'killingSprees': '1', 'largestMultiKill': '1', 'largestKillingSpree': '3', 'firstBlood': '0', 'firstTower': ''} [{'kill': '1', 'death': '1', 'assist': '5', 'gold': '12196', 'lasthit': '270', 'hero': '79', 'name': 'EDGFlandre', 'memberId': '100', 'skill-1': '4', 'skill-2': '12', 'equip': {'game-equip-1': '4629', 'game-equip-2': '4636', 'game-equip-3': '3157', 'game-equip-4': '3158', 'game-equip-5': '1056', 'game-equip-6': '1052', 'game-equip-7': '3364'}, 'win': '1', 'totalDamage': '156886', 'totalDamageToChamp': '8457', 'pDamageToChamp': '655', 'mDamageDealtToChamp': '7802', 'pDamageDealt': '18056', 'mDamageDealt': '138830', 'largestCriticalStrike': '0', 'totalHeal': '7645', 'totalDamageTaken': '14000', 'pDamageTaken': '10172', 'mDamageTaken': '3134', 'neutralKilled': '16', 'neutralKilledTJungle': '12', 'neutralKilledEJungle': '0', 'wardsPlaced': '6', 'wardsKilled': '9', 'visionWardsBought': '2', 'dKills': '0', 'tKills': '0', 'qKills': '0', 'pKills': '0', 'towerKills': '1', 'inhibitorKills': '0', 'deadTime': '16', 'level': '17', 'killingSprees': '0', 'largestMultiKill': '1', 'largestKillingSpree': '0', 'firstBlood': '', 'firstTower': ''}, {'kill': '4', 'death': '1', 'assist': '9', 'gold': '11794', 'lasthit': '198', 'hero': '2', 'name': 'EDGJiejie', 'memberId': '2770', 'skill-1': '11', 'skill-2': '4', 'equip': {'game-equip-1': '6630', 'game-equip-2': '2055', 'game-equip-3': '1057', 'game-equip-4': '3053', 'game-equip-5': '1028', 'game-equip-6': '3047', 'game-equip-7': '3364'}, 'win': '1', 'totalDamage': '185986', 'totalDamageToChamp': '11357', 'pDamageToChamp': '8849', 'mDamageDealtToChamp': '44', 'pDamageDealt': '148644', 'mDamageDealt': '9041', 'largestCriticalStrike': '0', 'totalHeal': '18227', 'totalDamageTaken': '30288', 'pDamageTaken': '21142', 'mDamageTaken': '7569', 'neutralKilled': '160', 'neutralKilledTJungle': '103', 'neutralKilledEJungle': '6', 'wardsPlaced': '10', 'wardsKilled': '20', 'visionWardsBought': '9', 'dKills': '1', 'tKills': '0', 'qKills': '0', 'pKills': '0', 'towerKills': '1', 'inhibitorKills': '0', 'deadTime': '43', 'level': '15', 'killingSprees': '2', 'largestMultiKill': '2', 'largestKillingSpree': '2', 'firstBlood': '0', 'firstTower': ''}, {'kill': '3', 'death': '1', 'assist': '7', 'gold': '14590', 'lasthit': '326', 'hero': '61', 'name': 'EDGScout', 'memberId': '200', 'skill-1': '12', 'skill-2': '4', 'equip': {'game-equip-1': '3157', 'game-equip-2': '3040', 'game-equip-3': '4630', 'game-equip-4': '2420', 'game-equip-5': '6655', 'game-equip-6': '3111', 'game-equip-7': '3363'}, 'win': '1', 'totalDamage': '233422', 'totalDamageToChamp': '10151', 'pDamageToChamp': '925', 'mDamageDealtToChamp': '9226', 'pDamageDealt': '19060', 'mDamageDealt': '201433', 'largestCriticalStrike': '0', 'totalHeal': '1008', 'totalDamageTaken': '6511', 'pDamageTaken': '4642', 'mDamageTaken': '1841', 'neutralKilled': '34', 'neutralKilledTJungle': '24', 'neutralKilledEJungle': '4', 'wardsPlaced': '14', 'wardsKilled': '10', 'visionWardsBought': '3', 'dKills': '0', 'tKills': '0', 'qKills': '0', 'pKills': '0', 'towerKills': '3', 'inhibitorKills': '0', 'deadTime': '27', 'level': '18', 'killingSprees': '1', 'largestMultiKill': '1', 'largestKillingSpree': '3', 'firstBlood': '0', 'firstTower': ''}, {'kill': '5', 'death': '0', 'assist': '7', 'gold': '14281', 'lasthit': '320', 'hero': '21', 'name': 'EDGViper', 'memberId': '193', 'skill-1': '1', 'skill-2': '4', 'equip': {'game-equip-1': '6671', 'game-equip-2': '1037', 'game-equip-3': '3026', 'game-equip-4': '1018', 'game-equip-5': '6676', 'game-equip-6': '1001', 'game-equip-7': '3363'}, 'win': '1', 'totalDamage': '200896', 'totalDamageToChamp': '21953', 'pDamageToChamp': '19323', 'mDamageDealtToChamp': '2025', 'pDamageDealt': '193098', 'mDamageDealt': '3579', 'largestCriticalStrike': '716', 'totalHeal': '2513', 'totalDamageTaken': '5784', 'pDamageTaken': '4023', 'mDamageTaken': '1242', 'neutralKilled': '26', 'neutralKilledTJungle': '17', 'neutralKilledEJungle': '4', 'wardsPlaced': '13', 'wardsKilled': '15', 'visionWardsBought': '6', 'dKills': '1', 'tKills': '0', 'qKills': '0', 'pKills': '0', 'towerKills': '2', 'inhibitorKills': '1', 'deadTime': '0', 'level': '16', 'killingSprees': '1', 'largestMultiKill': '2', 'largestKillingSpree': '5', 'firstBlood': '0', 'firstTower': ''}, {'kill': '2', 'death': '1', 'assist': '7', 'gold': '7877', 'lasthit': '32', 'hero': '89', 'name': 'EDGMeiko', 'memberId': '5', 'skill-1': '4', 'skill-2': '14', 'equip': {'game-equip-1': '3860', 'game-equip-2': '3190', 'game-equip-3': '0', 'game-equip-4': '3111', 'game-equip-5': '3067', 'game-equip-6': '1027', 'game-equip-7': '3364'}, 'win': '1', 'totalDamage': '17553', 'totalDamageToChamp': '2789', 'pDamageToChamp': '784', 'mDamageDealtToChamp': '1114', 'pDamageDealt': '6005', 'mDamageDealt': '3384', 'largestCriticalStrike': '0', 'totalHeal': '216', 'totalDamageTaken': '7205', 'pDamageTaken': '5041', 'mDamageTaken': '1898', 'neutralKilled': '0', 'neutralKilledTJungle': '0', 'neutralKilledEJungle': '0', 'wardsPlaced': '50', 'wardsKilled': '4', 'visionWardsBought': '14', 'dKills': '0', 'tKills': '0', 'qKills': '0', 'pKills': '0', 'towerKills': '2', 'inhibitorKills': '0', 'deadTime': '28', 'level': '13', 'killingSprees': '0', 'largestMultiKill': '1', 'largestKillingSpree': '0', 'firstBlood': '0', 'firstTower': ''}]\n{'kill': '5', 'death': '0', 'assist': '7', 'gold': '14281', 'lasthit': '320', 'hero': '21', 'name': 'EDGViper', 'memberId': '193', 'skill-1': '1', 'skill-2': '4', 'equip': {'game-equip-1': '6671', 'game-equip-2': '1037', 'game-equip-3': '3026', 'game-equip-4': '1018', 'game-equip-5': '6676', 'game-equip-6': '1001', 'game-equip-7': '3363'}, 'win': '1', 'totalDamage': '200896', 'totalDamageToChamp': '21953', 'pDamageToChamp': '19323', 'mDamageDealtToChamp': '2025', 'pDamageDealt': '193098', 'mDamageDealt': '3579', 'largestCriticalStrike': '716', 'totalHeal': '2513', 'totalDamageTaken': '5784', 'pDamageTaken': '4023', 'mDamageTaken': '1242', 'neutralKilled': '26', 'neutralKilledTJungle': '17', 'neutralKilledEJungle': '4', 'wardsPlaced': '13', 'wardsKilled': '15', 'visionWardsBought': '6', 'dKills': '1', 'tKills': '0', 'qKills': '0', 'pKills': '0', 'towerKills': '2', 'inhibitorKills': '1', 'deadTime': '0', 'level': '16', 'killingSprees': '1', 'largestMultiKill': '2', 'largestKillingSpree': '5', 'firstBlood': '0', 'firstTower': ''} [{'kill': '1', 'death': '1', 'assist': '5', 'gold': '12196', 'lasthit': '270', 'hero': '79', 'name': 'EDGFlandre', 'memberId': '100', 'skill-1': '4', 'skill-2': '12', 'equip': {'game-equip-1': '4629', 'game-equip-2': '4636', 'game-equip-3': '3157', 'game-equip-4': '3158', 'game-equip-5': '1056', 'game-equip-6': '1052', 'game-equip-7': '3364'}, 'win': '1', 'totalDamage': '156886', 'totalDamageToChamp': '8457', 'pDamageToChamp': '655', 'mDamageDealtToChamp': '7802', 'pDamageDealt': '18056', 'mDamageDealt': '138830', 'largestCriticalStrike': '0', 'totalHeal': '7645', 'totalDamageTaken': '14000', 'pDamageTaken': '10172', 'mDamageTaken': '3134', 'neutralKilled': '16', 'neutralKilledTJungle': '12', 'neutralKilledEJungle': '0', 'wardsPlaced': '6', 'wardsKilled': '9', 'visionWardsBought': '2', 'dKills': '0', 'tKills': '0', 'qKills': '0', 'pKills': '0', 'towerKills': '1', 'inhibitorKills': '0', 'deadTime': '16', 'level': '17', 'killingSprees': '0', 'largestMultiKill': '1', 'largestKillingSpree': '0', 'firstBlood': '', 'firstTower': ''}, {'kill': '4', 'death': '1', 'assist': '9', 'gold': '11794', 'lasthit': '198', 'hero': '2', 'name': 'EDGJiejie', 'memberId': '2770', 'skill-1': '11', 'skill-2': '4', 'equip': {'game-equip-1': '6630', 'game-equip-2': '2055', 'game-equip-3': '1057', 'game-equip-4': '3053', 'game-equip-5': '1028', 'game-equip-6': '3047', 'game-equip-7': '3364'}, 'win': '1', 'totalDamage': '185986', 'totalDamageToChamp': '11357', 'pDamageToChamp': '8849', 'mDamageDealtToChamp': '44', 'pDamageDealt': '148644', 'mDamageDealt': '9041', 'largestCriticalStrike': '0', 'totalHeal': '18227', 'totalDamageTaken': '30288', 'pDamageTaken': '21142', 'mDamageTaken': '7569', 'neutralKilled': '160', 'neutralKilledTJungle': '103', 'neutralKilledEJungle': '6', 'wardsPlaced': '10', 'wardsKilled': '20', 'visionWardsBought': '9', 'dKills': '1', 'tKills': '0', 'qKills': '0', 'pKills': '0', 'towerKills': '1', 'inhibitorKills': '0', 'deadTime': '43', 'level': '15', 'killingSprees': '2', 'largestMultiKill': '2', 'largestKillingSpree': '2', 'firstBlood': '0', 'firstTower': ''}, {'kill': '3', 'death': '1', 'assist': '7', 'gold': '14590', 'lasthit': '326', 'hero': '61', 'name': 'EDGScout', 'memberId': '200', 'skill-1': '12', 'skill-2': '4', 'equip': {'game-equip-1': '3157', 'game-equip-2': '3040', 'game-equip-3': '4630', 'game-equip-4': '2420', 'game-equip-5': '6655', 'game-equip-6': '3111', 'game-equip-7': '3363'}, 'win': '1', 'totalDamage': '233422', 'totalDamageToChamp': '10151', 'pDamageToChamp': '925', 'mDamageDealtToChamp': '9226', 'pDamageDealt': '19060', 'mDamageDealt': '201433', 'largestCriticalStrike': '0', 'totalHeal': '1008', 'totalDamageTaken': '6511', 'pDamageTaken': '4642', 'mDamageTaken': '1841', 'neutralKilled': '34', 'neutralKilledTJungle': '24', 'neutralKilledEJungle': '4', 'wardsPlaced': '14', 'wardsKilled': '10', 'visionWardsBought': '3', 'dKills': '0', 'tKills': '0', 'qKills': '0', 'pKills': '0', 'towerKills': '3', 'inhibitorKills': '0', 'deadTime': '27', 'level': '18', 'killingSprees': '1', 'largestMultiKill': '1', 'largestKillingSpree': '3', 'firstBlood': '0', 'firstTower': ''}, {'kill': '5', 'death': '0', 'assist': '7', 'gold': '14281', 'lasthit': '320', 'hero': '21', 'name': 'EDGViper', 'memberId': '193', 'skill-1': '1', 'skill-2': '4', 'equip': {'game-equip-1': '6671', 'game-equip-2': '1037', 'game-equip-3': '3026', 'game-equip-4': '1018', 'game-equip-5': '6676', 'game-equip-6': '1001', 'game-equip-7': '3363'}, 'win': '1', 'totalDamage': '200896', 'totalDamageToChamp': '21953', 'pDamageToChamp': '19323', 'mDamageDealtToChamp': '2025', 'pDamageDealt': '193098', 'mDamageDealt': '3579', 'largestCriticalStrike': '716', 'totalHeal': '2513', 'totalDamageTaken': '5784', 'pDamageTaken': '4023', 'mDamageTaken': '1242', 'neutralKilled': '26', 'neutralKilledTJungle': '17', 'neutralKilledEJungle': '4', 'wardsPlaced': '13', 'wardsKilled': '15', 'visionWardsBought': '6', 'dKills': '1', 'tKills': '0', 'qKills': '0', 'pKills': '0', 'towerKills': '2', 'inhibitorKills': '1', 'deadTime': '0', 'level': '16', 'killingSprees': '1', 'largestMultiKill': '2', 'largestKillingSpree': '5', 'firstBlood': '0', 'firstTower': ''}, {'kill': '2', 'death': '1', 'assist': '7', 'gold': '7877', 'lasthit': '32', 'hero': '89', 'name': 'EDGMeiko', 'memberId': '5', 'skill-1': '4', 'skill-2': '14', 'equip': {'game-equip-1': '3860', 'game-equip-2': '3190', 'game-equip-3': '0', 'game-equip-4': '3111', 'game-equip-5': '3067', 'game-equip-6': '1027', 'game-equip-7': '3364'}, 'win': '1', 'totalDamage': '17553', 'totalDamageToChamp': '2789', 'pDamageToChamp': '784', 'mDamageDealtToChamp': '1114', 'pDamageDealt': '6005', 'mDamageDealt': '3384', 'largestCriticalStrike': '0', 'totalHeal': '216', 'totalDamageTaken': '7205', 'pDamageTaken': '5041', 'mDamageTaken': '1898', 'neutralKilled': '0', 'neutralKilledTJungle': '0', 'neutralKilledEJungle': '0', 'wardsPlaced': '50', 'wardsKilled': '4', 'visionWardsBought': '14', 'dKills': '0', 'tKills': '0', 'qKills': '0', 'pKills': '0', 'towerKills': '2', 'inhibitorKills': '0', 'deadTime': '28', 'level': '13', 'killingSprees': '0', 'largestMultiKill': '1', 'largestKillingSpree': '0', 'firstBlood': '0', 'firstTower': ''}]\n{'kill': '2', 'death': '1', 'assist': '7', 'gold': '7877', 'lasthit': '32', 'hero': '89', 'name': 'EDGMeiko', 'memberId': '5', 'skill-1': '4', 'skill-2': '14', 'equip': {'game-equip-1': '3860', 'game-equip-2': '3190', 'game-equip-3': '0', 'game-equip-4': '3111', 'game-equip-5': '3067', 'game-equip-6': '1027', 'game-equip-7': '3364'}, 'win': '1', 'totalDamage': '17553', 'totalDamageToChamp': '2789', 'pDamageToChamp': '784', 'mDamageDealtToChamp': '1114', 'pDamageDealt': '6005', 'mDamageDealt': '3384', 'largestCriticalStrike': '0', 'totalHeal': '216', 'totalDamageTaken': '7205', 'pDamageTaken': '5041', 'mDamageTaken': '1898', 'neutralKilled': '0', 'neutralKilledTJungle': '0', 'neutralKilledEJungle': '0', 'wardsPlaced': '50', 'wardsKilled': '4', 'visionWardsBought': '14', 'dKills': '0', 'tKills': '0', 'qKills': '0', 'pKills': '0', 'towerKills': '2', 'inhibitorKills': '0', 'deadTime': '28', 'level': '13', 'killingSprees': '0', 'largestMultiKill': '1', 'largestKillingSpree': '0', 'firstBlood': '0', 'firstTower': ''} [{'kill': '1', 'death': '1', 'assist': '5', 'gold': '12196', 'lasthit': '270', 'hero': '79', 'name': 'EDGFlandre', 'memberId': '100', 'skill-1': '4', 'skill-2': '12', 'equip': {'game-equip-1': '4629', 'game-equip-2': '4636', 'game-equip-3': '3157', 'game-equip-4': '3158', 'game-equip-5': '1056', 'game-equip-6': '1052', 'game-equip-7': '3364'}, 'win': '1', 'totalDamage': '156886', 'totalDamageToChamp': '8457', 'pDamageToChamp': '655', 'mDamageDealtToChamp': '7802', 'pDamageDealt': '18056', 'mDamageDealt': '138830', 'largestCriticalStrike': '0', 'totalHeal': '7645', 'totalDamageTaken': '14000', 'pDamageTaken': '10172', 'mDamageTaken': '3134', 'neutralKilled': '16', 'neutralKilledTJungle': '12', 'neutralKilledEJungle': '0', 'wardsPlaced': '6', 'wardsKilled': '9', 'visionWardsBought': '2', 'dKills': '0', 'tKills': '0', 'qKills': '0', 'pKills': '0', 'towerKills': '1', 'inhibitorKills': '0', 'deadTime': '16', 'level': '17', 'killingSprees': '0', 'largestMultiKill': '1', 'largestKillingSpree': '0', 'firstBlood': '', 'firstTower': ''}, {'kill': '4', 'death': '1', 'assist': '9', 'gold': '11794', 'lasthit': '198', 'hero': '2', 'name': 'EDGJiejie', 'memberId': '2770', 'skill-1': '11', 'skill-2': '4', 'equip': {'game-equip-1': '6630', 'game-equip-2': '2055', 'game-equip-3': '1057', 'game-equip-4': '3053', 'game-equip-5': '1028', 'game-equip-6': '3047', 'game-equip-7': '3364'}, 'win': '1', 'totalDamage': '185986', 'totalDamageToChamp': '11357', 'pDamageToChamp': '8849', 'mDamageDealtToChamp': '44', 'pDamageDealt': '148644', 'mDamageDealt': '9041', 'largestCriticalStrike': '0', 'totalHeal': '18227', 'totalDamageTaken': '30288', 'pDamageTaken': '21142', 'mDamageTaken': '7569', 'neutralKilled': '160', 'neutralKilledTJungle': '103', 'neutralKilledEJungle': '6', 'wardsPlaced': '10', 'wardsKilled': '20', 'visionWardsBought': '9', 'dKills': '1', 'tKills': '0', 'qKills': '0', 'pKills': '0', 'towerKills': '1', 'inhibitorKills': '0', 'deadTime': '43', 'level': '15', 'killingSprees': '2', 'largestMultiKill': '2', 'largestKillingSpree': '2', 'firstBlood': '0', 'firstTower': ''}, {'kill': '3', 'death': '1', 'assist': '7', 'gold': '14590', 'lasthit': '326', 'hero': '61', 'name': 'EDGScout', 'memberId': '200', 'skill-1': '12', 'skill-2': '4', 'equip': {'game-equip-1': '3157', 'game-equip-2': '3040', 'game-equip-3': '4630', 'game-equip-4': '2420', 'game-equip-5': '6655', 'game-equip-6': '3111', 'game-equip-7': '3363'}, 'win': '1', 'totalDamage': '233422', 'totalDamageToChamp': '10151', 'pDamageToChamp': '925', 'mDamageDealtToChamp': '9226', 'pDamageDealt': '19060', 'mDamageDealt': '201433', 'largestCriticalStrike': '0', 'totalHeal': '1008', 'totalDamageTaken': '6511', 'pDamageTaken': '4642', 'mDamageTaken': '1841', 'neutralKilled': '34', 'neutralKilledTJungle': '24', 'neutralKilledEJungle': '4', 'wardsPlaced': '14', 'wardsKilled': '10', 'visionWardsBought': '3', 'dKills': '0', 'tKills': '0', 'qKills': '0', 'pKills': '0', 'towerKills': '3', 'inhibitorKills': '0', 'deadTime': '27', 'level': '18', 'killingSprees': '1', 'largestMultiKill': '1', 'largestKillingSpree': '3', 'firstBlood': '0', 'firstTower': ''}, {'kill': '5', 'death': '0', 'assist': '7', 'gold': '14281', 'lasthit': '320', 'hero': '21', 'name': 'EDGViper', 'memberId': '193', 'skill-1': '1', 'skill-2': '4', 'equip': {'game-equip-1': '6671', 'game-equip-2': '1037', 'game-equip-3': '3026', 'game-equip-4': '1018', 'game-equip-5': '6676', 'game-equip-6': '1001', 'game-equip-7': '3363'}, 'win': '1', 'totalDamage': '200896', 'totalDamageToChamp': '21953', 'pDamageToChamp': '19323', 'mDamageDealtToChamp': '2025', 'pDamageDealt': '193098', 'mDamageDealt': '3579', 'largestCriticalStrike': '716', 'totalHeal': '2513', 'totalDamageTaken': '5784', 'pDamageTaken': '4023', 'mDamageTaken': '1242', 'neutralKilled': '26', 'neutralKilledTJungle': '17', 'neutralKilledEJungle': '4', 'wardsPlaced': '13', 'wardsKilled': '15', 'visionWardsBought': '6', 'dKills': '1', 'tKills': '0', 'qKills': '0', 'pKills': '0', 'towerKills': '2', 'inhibitorKills': '1', 'deadTime': '0', 'level': '16', 'killingSprees': '1', 'largestMultiKill': '2', 'largestKillingSpree': '5', 'firstBlood': '0', 'firstTower': ''}, {'kill': '2', 'death': '1', 'assist': '7', 'gold': '7877', 'lasthit': '32', 'hero': '89', 'name': 'EDGMeiko', 'memberId': '5', 'skill-1': '4', 'skill-2': '14', 'equip': {'game-equip-1': '3860', 'game-equip-2': '3190', 'game-equip-3': '0', 'game-equip-4': '3111', 'game-equip-5': '3067', 'game-equip-6': '1027', 'game-equip-7': '3364'}, 'win': '1', 'totalDamage': '17553', 'totalDamageToChamp': '2789', 'pDamageToChamp': '784', 'mDamageDealtToChamp': '1114', 'pDamageDealt': '6005', 'mDamageDealt': '3384', 'largestCriticalStrike': '0', 'totalHeal': '216', 'totalDamageTaken': '7205', 'pDamageTaken': '5041', 'mDamageTaken': '1898', 'neutralKilled': '0', 'neutralKilledTJungle': '0', 'neutralKilledEJungle': '0', 'wardsPlaced': '50', 'wardsKilled': '4', 'visionWardsBought': '14', 'dKills': '0', 'tKills': '0', 'qKills': '0', 'pKills': '0', 'towerKills': '2', 'inhibitorKills': '0', 'deadTime': '28', 'level': '13', 'killingSprees': '0', 'largestMultiKill': '1', 'largestKillingSpree': '0', 'firstBlood': '0', 'firstTower': ''}]\n"
     ]
    }
   ],
   "source": [
    "data = jd[side]['players']\n",
    "for i in data:\n",
    "    print(i, data)"
   ]
  },
  {
   "cell_type": "code",
   "execution_count": 16,
   "metadata": {},
   "outputs": [
    {
     "output_type": "execute_result",
     "data": {
      "text/plain": [
       "48"
      ]
     },
     "metadata": {},
     "execution_count": 16
    }
   ],
   "source": [
    "len(full_headers_dict)"
   ]
  },
  {
   "cell_type": "code",
   "execution_count": 17,
   "metadata": {},
   "outputs": [],
   "source": [
    "data = jd[side]['players'][0]\n"
   ]
  },
  {
   "cell_type": "code",
   "execution_count": 18,
   "metadata": {},
   "outputs": [],
   "source": [
    "d = {1:'e', 2:'c', 3:'b', 4:'d', 5:'a'}"
   ]
  },
  {
   "cell_type": "code",
   "execution_count": null,
   "metadata": {},
   "outputs": [],
   "source": [
    "def get_key(dict, val):\n",
    "    for key, value in d.items():\n",
    "         if val == value:\n",
    "             return key\n",
    "def sort_dictionary(in_dict):\n",
    "    x = list(in_dict.keys())\n",
    "    y = list(in_dict.values())\n",
    "    new_d = {}\n",
    "    y_sorted = sorted(y)\n",
    "    for i in y_sorted:\n",
    "        key = get_key(in_dict,i)\n",
    "        new_d[key] = i\n",
    "    return(new_d)"
   ]
  },
  {
   "cell_type": "code",
   "execution_count": 56,
   "metadata": {},
   "outputs": [
    {
     "name": "stdout",
     "output_type": "stream",
     "text": [
      "['assists', 'championId', 'visionWardsBoughtInGame', 'totalHeal', 'totalDamageTaken', 'deaths', 'doubleKills', 'firstBloodKill', 'firstBloodAssist', 'firstInhibitorAssist', 'firstInhibitorKill', 'firstTowerAssist', 'firstTowerKill', 'gameId', 'goldEarned', 'goldSpent', 'killingSprees', 'kills', 'largestCriticalStrike', 'largestKillingSpree', 'largestMultiKill', 'longestTimeSpentLiving', 'magicalDamageTaken', 'magicDamageDealtToChampions', 'totalMinionsKilled', 'neutralMinionsKilledEnemyJungle', 'neutralMinionsKilledTeamJungle', 'pentaKills', 'physicalDamageTaken', 'physicalDamageDealtToChampions', 'summonerName', 'quadraKills', 'damageSelfMitigated', 'teamId', 'sightWardsBoughtInGame', 'timeCCingOthers', 'inhibitorKills', 'turretKills', 'totalDamageDealtToChampions', 'damageDealtToObjectives', 'damageDealtToTurrets', 'magicDamageDealt', 'physicalDamageDealt', 'totalTimeCrowdControlDealt', 'tripleKills', 'trueDamageDealtToChampions', 'visionScore', 'wardsKilled']\n",
      "yes\n"
     ]
    }
   ],
   "source": [
    "b_list = list(b_keys)\r\n",
    "print(b_list)\r\n",
    "\r\n",
    "a = 'assists'\r\n",
    "if a in b_list: print ('yes')"
   ]
  },
  {
   "cell_type": "code",
   "execution_count": null,
   "metadata": {},
   "outputs": [
    {
     "data": {
      "text/plain": [
       "[(5, 'a'), (4, 'd'), (3, 'b'), (2, 'c'), (1, 'e')]"
      ]
     },
     "execution_count": 94,
     "metadata": {},
     "output_type": "execute_result"
    }
   ],
   "source": []
  },
  {
   "cell_type": "code",
   "execution_count": null,
   "metadata": {},
   "outputs": [],
   "source": []
  }
 ],
 "metadata": {
  "interpreter": {
   "hash": "1baa965d5efe3ac65b79dfc60c0d706280b1da80fedb7760faf2759126c4f253"
  },
  "kernelspec": {
   "name": "python3",
   "display_name": "Python 3.8.10 64-bit"
  },
  "language_info": {
   "codemirror_mode": {
    "name": "ipython",
    "version": 3
   },
   "file_extension": ".py",
   "mimetype": "text/x-python",
   "name": "python",
   "nbconvert_exporter": "python",
   "pygments_lexer": "ipython3",
   "version": "3.8.10"
  },
  "orig_nbformat": 4
 },
 "nbformat": 4,
 "nbformat_minor": 2
}