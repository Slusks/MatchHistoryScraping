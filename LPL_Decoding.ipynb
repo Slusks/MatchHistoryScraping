{
 "cells": [
  {
   "cell_type": "code",
<<<<<<< HEAD
   "execution_count": 3,
=======
   "execution_count": 7,
>>>>>>> parent of 653b142 (Decoding Complete?)
   "metadata": {},
   "outputs": [],
   "source": [
    "import csv\n",
    "import json\n",
    "import pandas as pd\n",
    "from pathlib import Path\n",
    "import requests\n"
   ]
  },
  {
   "cell_type": "code",
<<<<<<< HEAD
   "execution_count": 4,
   "metadata": {},
   "outputs": [],
   "source": [
    "#For Laptop Use:\n",
    "Laptop = True\n",
    "if Laptop:\n",
    "    old_file = Path('C:/Users/samsl/Desktop/ScrapeTest/lplExampleData.txt')\n",
    "    new_file = Path('C:/Users/samsl/Desktop/ScrapeTest/cleanLPL.txt')\n",
    "else:\n",
    "    old_file = Path('C:/Users/sam/Desktop/ScrapeTest/lplExampleData.txt')\n",
    "    new_file = Path('C:/Users/sam/Desktop/ScrapeTest/cleanLPL.txt')"
   ]
  },
  {
   "cell_type": "code",
   "execution_count": 5,
   "metadata": {},
   "outputs": [],
   "source": [
    "\n",
=======
   "execution_count": 8,
   "metadata": {},
   "outputs": [],
   "source": [
    "old_file = Path('C:/Users/sam/Desktop/ScrapeTest/lplExampleData.txt')\n",
    "new_file = Path('C:/Users/sam/Desktop/ScrapeTest/cleanLPL.txt')\n",
>>>>>>> parent of 653b142 (Decoding Complete?)
    "dict1 = {}\n",
    "lpl_full_headers_dict = {\"kill\":\"kills\",\"death\":\"deaths\",\"assist\":\"assists\",'firstBlood': 'firstblood', 'totalDamageToChamp': 'totaldamagetochampions', 'pDamageToChamp': 'physicaldamagetochampions', 'mDamageDealtToChamp': 'magicdamagetochampions', 'trueDamageDealtToChampions': 'truedamagetochampions', 'damageDealtToObjectives': 'totaldamagetoobjectives', 'damageDealtToTurrets': 'totaldamagetoturrets', 'totalHeal': 'damagehealed', 'totalDamageTaken': 'damagetaken', 'mDamageTaken': 'magicdamagetaken', 'wardsKilled': 'wardsdestroyed', 'sightWardsBoughtInGame': 'stealthwardspurchased', 'visionWardsBought': 'controlwardspurchased', 'lasthit': 'minionskilled', 'neutralKilledTJungle': \"neutralminionskilledinteam'sjungle\", 'neutralKilledEJungle': 'neutralminionskilledinenemyjungle', 'killingSprees': 'killingsprees', 'longestTimeSpentLiving': 'longesttimespentliving', 'damageSelfMitigated': 'selfmitigateddamage', 'visionScore': 'visionscore', 'timeCCingOthers': 'timeccingothers', 'towerKills': 'totalTurretKills', 'inhibitorKills': 'totalInhibitorKills', 'totalTimeCrowdControlDealt': 'totaltimeapplyingcc', 'firstBloodAssist': 'firstbloodassist', 'firstTowerKill': 'firsttowerkill', 'firstTowerAssist': 'firsttowerassist', 'firstInhibitorKill': 'firstinhibkill', 'firstInhibitorAssist': 'firstinhibassist', 'dKills': 'doublekills', 'tKills': 'triplekills', 'qKills': 'quadrakills', 'pKills': 'pentakills', 'side':'side', 'gold':'goldearned', 'GoldSpent': 'goldspent', \"physicalDamageDealt\":\"physicaldamagedealt\", \"pDamageTaken\":\"physicaldamagetaken\", 'deadTime':'timespentdead', 'mDamageDealt':'totalmagicdamagedealt', 'largestCriticalStrike':'largestcriticalstrike',  \"largestKillingSpree\":\"largestkillingspree\", \"largestMultiKill\":\"largestmultikill\"}\n",
    "\n",
    "#full_headers_dict = { 'firstBloodKill': 'firstblood', 'totalDamageDealtToChampions': 'totaldamagetochampions', 'physicalDamageDealtToChampions': 'physicaldamagetochampions', 'magicDamageDealtToChampions': 'magicdamagetochampions', 'trueDamageDealtToChampions': 'truedamagetochampions', 'damageDealtToObjectives': 'totaldamagetoobjectives', 'damageDealtToTurrets': 'totaldamagetoturrets', 'totalHeal': 'damagehealed', 'totalDamageTaken': 'damagetaken', 'magicalDamageTaken': 'magicdamagetaken', 'wardsKilled': 'wardsdestroyed', 'sightWardsBoughtInGame': 'stealthwardspurchased', 'visionWardsBoughtInGame': 'controlwardspurchased', 'totalMinionsKilled': 'minionskilled', 'neutralMinionsKilledTeamJungle': \"neutralminionskilledinteam'sjungle\", 'neutralMinionsKilledEnemyJungle': 'neutralminionskilledinenemyjungle', 'killingSprees': 'killingsprees', 'longestTimeSpentLiving': 'longesttimespentliving', 'damageSelfMitigated': 'selfmitigateddamage', 'visionScore': 'visionscore', 'timeCCingOthers': 'timeccingothers', 'turretKills': 'totalTurretKills', 'inhibitorKills': 'totalInhibitorKills', 'totalTimeCrowdControlDealt': 'totaltimeapplyingcc', 'firstBloodAssist': 'firstbloodassist', 'firstTowerKill': 'firsttowerkill', 'firstTowerAssist': 'firsttowerassist', 'firstInhibitorKill': 'firstinhibkill', 'firstInhibitorAssist': 'firstinhibassist', 'doubleKills': 'doublekills', 'tripleKills': 'triplekills', 'quadraKills': 'quadrakills', 'pentaKills': 'pentakills',}\n",
    "\n",
    "\n",
    "#No LPL stat for: - 'true damage to champions', 'damageDealtToObjectives', 'damageDealtToTurrets', 'wardsPlaced'\n",
    "\n",
    "#[, , 'hero', 'name', 'memberId', 'skill-1', 'skill-2', 'equip', 'win', 'totalDamage', , , , , , , , , , , 'neutralKilled', , , ,, , , , , , , , , 'level', , , , '', 'firstTower']\n",
    "\n",
    "#Wondering if there is a way to get the bans in... ex 'ban-hero-1'\n",
    "# game-ban-list exists\n",
    "# Oracle Elixer data has ban order per team. Probably want to use Oracle data for Team info\n",
    "#left = red side\n",
    "#right - blue side\n"
   ]
  },
  {
   "cell_type": "code",
<<<<<<< HEAD
   "execution_count": 6,
=======
   "execution_count": 17,
>>>>>>> parent of 653b142 (Decoding Complete?)
   "metadata": {},
   "outputs": [],
   "source": [
    "data = {}\r\n",
    "with open(old_file, 'r') as file:\r\n",
    "    lpl = file.read()\r\n",
    "    lpl_data = lpl[12:-1]\r\n",
    "    json_data = json.loads(lpl_data)\r\n",
    "    #print(lpl_data)"
   ]
  },
  {
   "cell_type": "code",
<<<<<<< HEAD
   "execution_count": 7,
=======
   "execution_count": 10,
>>>>>>> parent of 653b142 (Decoding Complete?)
   "metadata": {},
   "outputs": [
    {
     "name": "stdout",
     "output_type": "stream",
     "text": [
      "dict_keys(['bMatchId', 'bMatchName', 'GameId', 'GameName', 'GameMode', 'GameModeName', 'GameTypeId', 'GameTypeName', 'GameProcId', 'GameProcName', 'TeamA', 'TeamNameA', 'ScoreA', 'TeamB', 'TeamNameB', 'ScoreB', 'MatchDate', 'MatchStatus', 'MatchWin', 'iQTMatchId', 'AppTopicId', 'isTft', 'tftInfos', 'bGameId', 'MatchTime', 'TeamIcon', 'sExt1', 'sExt1Src', 'sExt2', 'sExt2Src', 'sExt3Src', 'sExt3', 'sExt4Src', 'sExt4', 'iDefault', 'Video1', 'Video2', 'Video3', 'Chat1', 'Chat2', 'Chat3', 'News1', 'News2', 'News3', 'isFocus', 'sAfterNews', 'sMatchInfo', 'lastUpdateTime'])\n"
     ]
    }
   ],
   "source": [
    "print(json_data.keys())\n"
   ]
  },
  {
   "cell_type": "code",
<<<<<<< HEAD
   "execution_count": 8,
=======
   "execution_count": 21,
>>>>>>> parent of 653b142 (Decoding Complete?)
   "metadata": {},
   "outputs": [
    {
     "data": {
      "text/plain": [
       "'148'"
      ]
     },
     "execution_count": 21,
     "metadata": {},
<<<<<<< HEAD
     "execution_count": 8
=======
     "output_type": "execute_result"
>>>>>>> parent of 653b142 (Decoding Complete?)
    }
   ],
   "source": [
    "json_data['bMatchId']\r\n",
    "json_data['GameId']\r\n",
    "#json_data['sMatchInfo']\r\n"
   ]
  },
  {
   "cell_type": "code",
<<<<<<< HEAD
   "execution_count": 9,
=======
   "execution_count": 23,
>>>>>>> parent of 653b142 (Decoding Complete?)
   "metadata": {},
   "outputs": [],
   "source": [
    "clean_json ={}\r\n",
    "for i in json_data.keys():\r\n",
    "    #print(i,\":\", json_data[i])\r\n",
    "    pass\r\n"
   ]
  },
  {
   "cell_type": "code",
<<<<<<< HEAD
   "execution_count": 10,
=======
   "execution_count": 13,
>>>>>>> parent of 653b142 (Decoding Complete?)
   "metadata": {},
   "outputs": [
    {
     "name": "stdout",
     "output_type": "stream",
     "text": [
      "dict_keys(['sMatchId', 'sMatchName', 'bMatchId', 'bMatchName', 'GameId', 'GameName', 'GameProcId', 'GameProcName', 'MatchNum', 'AreaId', 'BattleId', 'TeamA', 'TeamB', 'MatchStatus', 'MatchWin', 'BlueTeam', 'battleInfo', 'sMatchMember'])\n",
      "dict_keys(['sMatchId', 'sMatchName', 'bMatchId', 'bMatchName', 'GameId', 'GameName', 'GameProcId', 'GameProcName', 'MatchNum', 'AreaId', 'BattleId', 'TeamA', 'TeamB', 'MatchStatus', 'MatchWin', 'BlueTeam', 'battleInfo', 'sMatchMember'])\n",
      "dict_keys(['sMatchId', 'sMatchName', 'bMatchId', 'bMatchName', 'GameId', 'GameName', 'GameProcId', 'GameProcName', 'MatchNum', 'AreaId', 'BattleId', 'TeamA', 'TeamB', 'MatchStatus', 'MatchWin', 'BlueTeam', 'battleInfo', 'sMatchMember'])\n"
     ]
    }
   ],
   "source": [
    "for i in json_data[\"sMatchInfo\"]:\n",
    "    print(i.keys())\n"
   ]
  },
  {
   "cell_type": "code",
<<<<<<< HEAD
   "execution_count": 11,
=======
   "execution_count": 29,
>>>>>>> parent of 653b142 (Decoding Complete?)
   "metadata": {},
   "outputs": [
    {
     "data": {
      "text/plain": [
       "42"
      ]
     },
     "execution_count": 29,
     "metadata": {},
<<<<<<< HEAD
     "execution_count": 11
=======
     "output_type": "execute_result"
>>>>>>> parent of 653b142 (Decoding Complete?)
    }
   ],
   "source": [
    "x = json_data[\"sMatchInfo\"][0]['battleInfo']['BattleData']\r\n",
    "jd = json.loads(x)\r\n",
    "jd['left']['players'][0].keys()\r\n",
    "\r\n"
   ]
  },
  {
   "cell_type": "code",
<<<<<<< HEAD
   "execution_count": 12,
=======
   "execution_count": 53,
>>>>>>> parent of 653b142 (Decoding Complete?)
   "metadata": {},
   "outputs": [
    {
     "name": "stdout",
     "output_type": "stream",
     "text": [
      "{'summonerName': 'player', 'championId': 'champion', 'magicDamageDealt': 'totalmagicdamagedealt', 'physicalDamageDealt': 'totalphysicaldamagedealt', 'physicalDamageTaken': 'physicaldamagetaken', 'kills': 'kills', 'deaths': 'deaths', 'assists': 'assists', 'firstBloodKill': 'firstblood', 'totalDamageDealtToChampions': 'totaldamagetochampions', 'physicalDamageDealtToChampions': 'physicaldamagetochampions', 'magicDamageDealtToChampions': 'magicdamagetochampions', 'trueDamageDealtToChampions': 'truedamagetochampions', 'damageDealtToObjectives': 'totaldamagetoobjectives', 'damageDealtToTurrets': 'totaldamagetoturrets', 'totalHeal': 'damagehealed', 'totalDamageTaken': 'damagetaken', 'magicalDamageTaken': 'magicdamagetaken', 'wardsKilled': 'wardsdestroyed', 'sightWardsBoughtInGame': 'stealthwardspurchased', 'visionWardsBoughtInGame': 'controlwardspurchased', 'totalMinionsKilled': 'minionskilled', 'neutralMinionsKilledTeamJungle': \"neutralminionskilledinteam'sjungle\", 'neutralMinionsKilledEnemyJungle': 'neutralminionskilledinenemyjungle', 'killingSprees': 'killingsprees', 'longestTimeSpentLiving': 'longesttimespentliving', 'damageSelfMitigated': 'selfmitigateddamage', 'visionScore': 'visionscore', 'timeCCingOthers': 'timeccingothers', 'turretKills': 'totalTurretKills', 'inhibitorKills': 'totalInhibitorKills', 'totalTimeCrowdControlDealt': 'totaltimeapplyingcc', 'firstBloodAssist': 'firstbloodassist', 'firstTowerKill': 'firsttowerkill', 'firstTowerAssist': 'firsttowerassist', 'firstInhibitorKill': 'firstinhibkill', 'firstInhibitorAssist': 'firstinhibassist', 'doubleKills': 'doublekills', 'tripleKills': 'triplekills', 'quadraKills': 'quadrakills', 'pentaKills': 'pentakills', 'goldEarned': 'goldearned', 'goldSpent': 'goldspent', 'largestCriticalStrike': 'largestcriticalstrike', 'largestKillingSpree': 'largestkillingspree', 'largestMultiKill': 'largestmultikill', 'teamId': 'side', 'gameId': 'gameId'}\n"
     ]
    }
   ],
   "source": [
    "full_headers_dict = {\"summonerName\":\"player\", \"championId\": \"champion\", \"magicDamageDealt\":\"totalmagicdamagedealt\", \"physicalDamageDealt\":\"totalphysicaldamagedealt\", \"physicalDamageTaken\":\"physicaldamagetaken\", \"kills\":\"kills\",\"deaths\":\"deaths\",\"assists\":\"assists\", 'firstBloodKill': 'firstblood', 'totalDamageDealtToChampions': 'totaldamagetochampions', 'physicalDamageDealtToChampions': 'physicaldamagetochampions', 'magicDamageDealtToChampions': 'magicdamagetochampions', 'trueDamageDealtToChampions': 'truedamagetochampions', 'damageDealtToObjectives': 'totaldamagetoobjectives', 'damageDealtToTurrets': 'totaldamagetoturrets', 'totalHeal': 'damagehealed', 'totalDamageTaken': 'damagetaken', 'magicalDamageTaken': 'magicdamagetaken', 'wardsKilled': 'wardsdestroyed', 'sightWardsBoughtInGame': 'stealthwardspurchased', 'visionWardsBoughtInGame': 'controlwardspurchased', 'totalMinionsKilled': 'minionskilled', 'neutralMinionsKilledTeamJungle': \"neutralminionskilledinteam'sjungle\", 'neutralMinionsKilledEnemyJungle': 'neutralminionskilledinenemyjungle', 'killingSprees': 'killingsprees', 'longestTimeSpentLiving': 'longesttimespentliving', 'damageSelfMitigated': 'selfmitigateddamage', 'visionScore': 'visionscore', 'timeCCingOthers': 'timeccingothers', 'turretKills': 'totalTurretKills', 'inhibitorKills': 'totalInhibitorKills', 'totalTimeCrowdControlDealt': 'totaltimeapplyingcc', 'firstBloodAssist': 'firstbloodassist', 'firstTowerKill': 'firsttowerkill', 'firstTowerAssist': 'firsttowerassist', 'firstInhibitorKill': 'firstinhibkill', 'firstInhibitorAssist': 'firstinhibassist', 'doubleKills': 'doublekills', 'tripleKills': 'triplekills', 'quadraKills': 'quadrakills', 'pentaKills': 'pentakills', 'goldEarned':'goldearned', 'goldSpent': 'goldspent', \"largestCriticalStrike\":\"largestcriticalstrike\", \"largestKillingSpree\":\"largestkillingspree\", \"largestMultiKill\":\"largestmultikill\", \"teamId\":'side', 'gameId':'gameId'}\r\n",
    "full_headers_dict_lpl = {\"name\": \"player\",\"hero\":\"champion\",\"kill\":\"kills\",\"death\":\"deaths\",\"assist\":\"assists\",'firstBlood': 'firstblood', 'totalDamageToChamp': 'totaldamagetochampions', 'pDamageToChamp': 'physicaldamagetochampions', 'mDamageDealtToChamp': 'magicdamagetochampions', 'trueDamageDealtToChampions': 'truedamagetochampions', 'damageDealtToObjectives': 'totaldamagetoobjectives', 'damageDealtToTurrets': 'totaldamagetoturrets', 'totalHeal': 'damagehealed', 'totalDamageTaken': 'damagetaken', 'mDamageTaken': 'magicdamagetaken', 'wardsKilled': 'wardsdestroyed', 'sightWardsBoughtInGame': 'stealthwardspurchased', 'visionWardsBought': 'controlwardspurchased', 'lasthit': 'minionskilled', 'neutralKilledTJungle': \"neutralminionskilledinteam'sjungle\", 'neutralKilledEJungle': 'neutralminionskilledinenemyjungle', 'killingSprees': 'killingsprees', 'longestTimeSpentLiving': 'longesttimespentliving', 'damageSelfMitigated': 'selfmitigateddamage', 'visionScore': 'visionscore', 'timeCCingOthers': 'timeccingothers', 'towerKills': 'totalTurretKills', 'inhibitorKills': 'totalInhibitorKills', 'totalTimeCrowdControlDealt': 'totaltimeapplyingcc', 'firstBloodAssist': 'firstbloodassist', 'firstTowerKill': 'firsttowerkill', 'firstTowerAssist': 'firsttowerassist', 'firstInhibitorKill': 'firstinhibkill', 'firstInhibitorAssist': 'firstinhibassist', 'dKills': 'doublekills', 'tKills': 'triplekills', 'qKills': 'quadrakills', 'pKills': 'pentakills', 'side':'side', 'gold':'goldearned', 'GoldSpent': 'goldspent', \"pDamageDealt\":\"totalphysicaldamagedealt\", \"pDamageTaken\":\"physicaldamagetaken\", 'mDamageDealt':'totalmagicdamagedealt', 'largestCriticalStrike':'largestcriticalstrike',  \"largestKillingSpree\":\"largestkillingspree\", \"largestMultiKill\":\"largestmultikill\", 'game-id':'gameId'}\r\n"
   ]
  },
  {
   "cell_type": "code",
<<<<<<< HEAD
   "execution_count": 13,
=======
   "execution_count": null,
>>>>>>> parent of 653b142 (Decoding Complete?)
   "metadata": {},
   "outputs": [
    {
     "name": "stdout",
     "output_type": "stream",
     "text": [
      "{'assist': 'assists', 'hero': 'champion', 'visionWardsBought': 'controlwardspurchased', 'totalHeal': 'damagehealed', 'totalDamageTaken': 'damagetaken', 'death': 'deaths', 'dKills': 'doublekills', 'firstBlood': 'firstblood', 'firstBloodAssist': 'firstbloodassist', 'firstInhibitorAssist': 'firstinhibassist', 'firstInhibitorKill': 'firstinhibkill', 'firstTowerAssist': 'firsttowerassist', 'firstTowerKill': 'firsttowerkill', 'game-id': 'gameId', 'gold': 'goldearned', 'GoldSpent': 'goldspent', 'killingSprees': 'killingsprees', 'kill': 'kills', 'largestCriticalStrike': 'largestcriticalstrike', 'largestKillingSpree': 'largestkillingspree', 'largestMultiKill': 'largestmultikill', 'longestTimeSpentLiving': 'longesttimespentliving', 'mDamageTaken': 'magicdamagetaken', 'mDamageDealtToChamp': 'magicdamagetochampions', 'lasthit': 'minionskilled', 'neutralKilledEJungle': 'neutralminionskilledinenemyjungle', 'neutralKilledTJungle': \"neutralminionskilledinteam'sjungle\", 'pKills': 'pentakills', 'pDamageTaken': 'physicaldamagetaken', 'pDamageToChamp': 'physicaldamagetochampions', 'name': 'player', 'qKills': 'quadrakills', 'damageSelfMitigated': 'selfmitigateddamage', 'side': 'side', 'sightWardsBoughtInGame': 'stealthwardspurchased', 'timeCCingOthers': 'timeccingothers', 'inhibitorKills': 'totalInhibitorKills', 'towerKills': 'totalTurretKills', 'totalDamageToChamp': 'totaldamagetochampions', 'damageDealtToObjectives': 'totaldamagetoobjectives', 'damageDealtToTurrets': 'totaldamagetoturrets', 'mDamageDealt': 'totalmagicdamagedealt', 'pDamageDealt': 'totalphysicaldamagedealt', 'totalTimeCrowdControlDealt': 'totaltimeapplyingcc', 'tKills': 'triplekills', 'trueDamageDealtToChampions': 'truedamagetochampions', 'visionScore': 'visionscore', 'wardsKilled': 'wardsdestroyed'}\n"
     ]
    }
   ],
   "source": [
    "#gotta run this on both header dicts prior to running anything else so they end up in the same order\n",
    "# orders them by value because all of the values are the same\n",
    "def get_key(dic, val):\n",
    "    for key, value in dic.items():\n",
    "         if val == value:\n",
    "             return key\n",
    "def sort_dictionary(in_dict):\n",
    "    x = list(in_dict.keys())\n",
    "    y = list(in_dict.values())\n",
    "    new_d = {}\n",
    "    y_sorted = sorted(y)\n",
    "    for i in y_sorted:\n",
    "        key = get_key(in_dict,i)\n",
    "        new_d[key] = i\n",
    "    return(new_d)\n",
    "\n",
    "alphebetical_full_headers_dict_lpl = sort_dictionary(full_headers_dict_lpl)\n",
    "print(alphebetical_full_headers_dict_lpl)\n"
   ]
  },
  {
   "cell_type": "code",
   "execution_count": 36,
   "metadata": {},
   "outputs": [
    {
     "name": "stdout",
     "output_type": "stream",
     "text": [
      "dict_keys(['assists', 'championId', 'visionWardsBoughtInGame', 'totalHeal', 'totalDamageTaken', 'deaths', 'doubleKills', 'firstBloodKill', 'firstBloodAssist', 'firstInhibitorAssist', 'firstInhibitorKill', 'firstTowerAssist', 'firstTowerKill', 'gameId', 'goldEarned', 'goldSpent', 'killingSprees', 'kills', 'largestCriticalStrike', 'largestKillingSpree', 'largestMultiKill', 'longestTimeSpentLiving', 'magicalDamageTaken', 'magicDamageDealtToChampions', 'totalMinionsKilled', 'neutralMinionsKilledEnemyJungle', 'neutralMinionsKilledTeamJungle', 'pentaKills', 'physicalDamageTaken', 'physicalDamageDealtToChampions', 'summonerName', 'quadraKills', 'damageSelfMitigated', 'teamId', 'sightWardsBoughtInGame', 'timeCCingOthers', 'inhibitorKills', 'turretKills', 'totalDamageDealtToChampions', 'damageDealtToObjectives', 'damageDealtToTurrets', 'magicDamageDealt', 'physicalDamageDealt', 'totalTimeCrowdControlDealt', 'tripleKills', 'trueDamageDealtToChampions', 'visionScore', 'wardsKilled'])\n"
     ]
    }
   ],
   "source": [
    "a_full_headers_dict = sort_dictionary(full_headers_dict)\r\n",
    "b_keys = a_full_headers_dict.keys()\r\n",
    "print(b_keys)"
   ]
  },
  {
   "cell_type": "code",
<<<<<<< HEAD
   "execution_count": 14,
=======
   "execution_count": 65,
>>>>>>> parent of 653b142 (Decoding Complete?)
   "metadata": {},
   "outputs": [
    {
     "name": "stdout",
     "output_type": "stream",
     "text": [
      "exception GoldSpent\n",
      "exception side\n",
      "done\n",
      "exception GoldSpent\n",
      "exception side\n",
      "done\n",
      "exception GoldSpent\n",
      "exception side\n",
      "done\n",
      "exception GoldSpent\n",
      "exception side\n",
      "done\n",
      "exception GoldSpent\n",
      "exception side\n",
      "done\n",
      "exception GoldSpent\n",
      "exception side\n",
      "done\n",
      "exception GoldSpent\n",
      "exception side\n",
      "done\n",
      "exception GoldSpent\n",
      "exception side\n",
      "done\n",
      "exception GoldSpent\n",
      "exception side\n",
      "done\n",
      "exception GoldSpent\n",
      "exception side\n",
      "done\n",
      "[['1', 'Camille', '4', '6869', '23206', '3', '0', '0', '11183', '0', '0', '0', '0', '0', '7646', '827', '278', '0', '10', '0', '14945', '6105', 'OMGNew', '0', '0', '1', '8434', '827', '132137', '0', '8'], ['2', 'Kindred', '8', '15581', '23861', '2', '0', '0', '9329', '0', '1', '411', '0', '1', '5655', '2547', '186', '7', '125', '0', '17125', '5771', 'OMGAki', '0', '0', '0', '8951', '29754', '132198', '0', '12'], ['1', 'TwistedFate', '3', '1819', '17647', '6', '0', '1', '11516', '0', '2', '0', '0', '1', '8061', '5287', '243', '0', '12', '0', '8834', '583', 'OMGWuming', '0', '0', '1', '6073', '120719', '17798', '0', '5'], ['2', 'Jhin', '4', '4173', '9828', '1', '0', '0', '12685', '0', '1', '1244', '0', '1', '871', '425', '312', '0', '16', '0', '8813', '8464', 'OMGEric', '0', '0', '1', '9017', '13747', '202990', '0', '12'], ['3', 'Galio', '13', '1532', '12824', '3', '0', '0', '6432', '0', '0', '0', '0', '0', '830', '4256', '47', '0', '0', '0', '10626', '0', 'OMGCOLD', '0', '0', '0', '4876', '27713', '1919', '0', '10'], ['3', 'Galio', '13', '1532', '12824', '3', '0', '0', '6432', '0', '0', '0', '0', '0', '830', '4256', '47', '0', '0', '0', '10626', '0', 'OMGCOLD', '0', '0', '0', '4876', '27713', '1919', '0', '10'], ['9', 'Olaf', '9', '18227', '30288', '1', '1', '0', '11794', '2', '4', '0', '2', '2', '7569', '44', '198', '6', '103', '0', '21142', '8849', 'EDGJiejie', '0', '0', '1', '11357', '9041', '148644', '0', '20'], ['7', 'Orianna', '3', '1008', '6511', '1', '0', '0', '14590', '1', '3', '0', '3', '1', '1841', '9226', '326', '4', '24', '0', '4642', '925', 'EDGScout', '0', '0', '3', '10151', '201433', '19060', '0', '10'], ['7', 'MissFortune', '6', '2513', '5784', '0', '1', '0', '14281', '1', '5', '716', '5', '2', '1242', '2025', '320', '4', '17', '0', '4023', '19323', 'EDGViper', '0', '1', '2', '21953', '3579', '193098', '0', '15'], ['7', 'Leona', '14', '216', '7205', '1', '0', '0', '7877', '0', '2', '0', '0', '1', '1898', '1114', '32', '0', '0', '0', '5041', '784', 'EDGMeiko', '0', '0', '2', '2789', '3384', '6005', '0', '4']]\n"
     ]
    }
   ],
   "source": [
    "#gotta run this on both header dicts prior to running anything else so they end up in the same order\r\n",
    "# orders them by value because all of the values are the same\r\n",
    "def get_key(dic, val):\r\n",
    "    for key, value in dic.items():\r\n",
    "         if val == value:\r\n",
    "             return key\r\n",
    "def sort_dictionary(in_dict):\r\n",
    "    x = list(in_dict.keys())\r\n",
    "    y = list(in_dict.values())\r\n",
    "    new_d = {}\r\n",
    "    y_sorted = sorted(y)\r\n",
    "    for i in y_sorted:\r\n",
    "        key = get_key(in_dict,i)\r\n",
    "        new_d[key] = i\r\n",
    "    return(new_d)\r\n",
    "\r\n",
    "\r\n",
    "#gotta check if lpl champion dict == normal champion dict\r\n",
    "champ_dd = requests.get(\"https://ddragon.leagueoflegends.com/cdn/11.8.1/data/en_US/champion.json\")#, cookies=user_cookie)\r\n",
    "champ_json = champ_dd.json()\r\n",
    "champ_name = champ_json[\"data\"] #this creates a list of all the champions\r\n",
    "champ_key_dict = {}\r\n",
    "for i in champ_name:\r\n",
    "    champ_key_dict.update({champ_json[\"data\"][i][\"key\"]:i})\r\n",
    "\r\n",
    "#get alphabetized headers dictionary\r\n",
    "a_full_headers_dict_lpl = sort_dictionary(full_headers_dict_lpl)\r\n",
    "a_keys = a_full_headers_dict_lpl.keys()\r\n",
    "\r\n",
    "#alphabetized non-lpl headers\r\n",
    "a_full_headers_dict = sort_dictionary(full_headers_dict)\r\n",
    "b_keys = a_full_headers_dict.keys()\r\n",
    "\r\n",
    "list_list = []\r\n",
    "jd = json.loads(json_data[\"sMatchInfo\"][0]['battleInfo']['BattleData']) #this returns a json\r\n",
    "keys = jd.keys()\r\n",
    "control = {'side':'left', 'count':0, 'records':0}\r\n",
    "gameId= json_data['bMatchId']\r\n",
    "#this subsection is to move between the 'right' and 'left' team lists because that's how this info is nested.\r\n",
    "while control['records'] < 10: #set this to 1 to get it to run for only one player\r\n",
    "    output_list = []\r\n",
    "    if control['count'] == 5:\r\n",
    "        control['side'] = 'right'\r\n",
    "        control['count'] = 0\r\n",
    "    else: #I think the champion id -> champion modifier goes in here.\r\n",
    "        side = control['side']\r\n",
    "        count = control['count']\r\n",
    "        data = jd[side]['players'][count] #dicts\r\n",
    "    for i in a_keys:\r\n",
    "        try:\r\n",
    "            if i == 'hero': #this statement worked\r\n",
    "                output_list.append(str(champ_key_dict[jd[side]['players'][count][i]]))\r\n",
    "            elif data[i]:\r\n",
    "                #print('yes')\r\n",
    "                output_list.append(data[i]) #list of all of the player info, which is currently fucking up\r\n",
    "            elif i == 'firstBlood': #have to have this statement in here because apparently if the player didn't FB they just leave the line empty and python picks it up as False\r\n",
    "                    if not data[i]:\r\n",
    "                        data[i] = '0'\r\n",
    "                        output_list.append(data[i])\r\n",
    "                    else:\r\n",
    "                        data[i] = '1'\r\n",
    "                        output_list.append(data[i])\r\n",
    "            elif i == 'game-id':\r\n",
    "                output_list.append(gameId)\r\n",
    "            else:\r\n",
    "                print (i, 'not in lpl headers')\r\n",
    "        except Exception as e: # probably dont need this full line because I'm doing something with the exception\r\n",
    "            if i in b_keys:\r\n",
    "                #print (i, \"in non-lpl headers\")\r\n",
    "                pass\r\n",
    "            elif i == 'game-id':\r\n",
    "                pass\r\n",
    "            else:\r\n",
    "                print (\"exception\", i)\r\n",
    "    list_list.append(output_list)\r\n",
    "    control['count'] = control['count'] + 1\r\n",
    "    control['records'] = control['records'] + 1\r\n",
    "    print('done')\r\n",
    "print(list_list)\r\n",
    "\r\n",
    "##game-id and side are both variables picked up elsewhere that just need to be inserted where the exception is running\r\n",
    "\r\n",
    "##There are some keys that are in the non-lpl match data that lpl doesn't pick up:\r\n",
    "# 'firstBloodAssist'\r\n",
    "# 'firstInhibitorAssist'\r\n",
    "# 'firstInhibitorKill'"
   ]
  },
  {
   "cell_type": "code",
   "execution_count": null,
   "metadata": {},
   "outputs": [
    {
     "name": "stdout",
     "output_type": "stream",
     "text": [
      "dict_keys(['assist', 'hero', 'visionWardsBought', 'totalHeal', 'totalDamageTaken', 'death', 'dKills', 'firstBlood', 'firstBloodAssist', 'firstInhibitorAssist', 'firstInhibitorKill', 'firstTowerAssist', 'firstTowerKill', 'game-id', 'gold', 'GoldSpent', 'killingSprees', 'kill', 'largestCriticalStrike', 'largestKillingSpree', 'largestMultiKill', 'longestTimeSpentLiving', 'mDamageTaken', 'mDamageDealtToChamp', 'lasthit', 'neutralKilledEJungle', 'neutralKilledTJungle', 'pKills', 'pDamageTaken', 'pDamageToChamp', 'name', 'qKills', 'damageSelfMitigated', 'side', 'sightWardsBoughtInGame', 'timeCCingOthers', 'inhibitorKills', 'towerKills', 'totalDamageToChamp', 'damageDealtToObjectives', 'damageDealtToTurrets', 'mDamageDealt', 'pDamageDealt', 'totalTimeCrowdControlDealt', 'tKills', 'trueDamageDealtToChampions', 'visionScore', 'wardsKilled'])\n",
      "kill in keys\n",
      "death in keys\n",
      "assist in keys\n",
      "gold in keys\n",
      "lasthit in keys\n",
      "hero in keys\n",
      "name in keys\n",
      "memberId not in keys\n",
      "skill-1 not in keys\n",
      "skill-2 not in keys\n",
      "equip not in keys\n",
      "win not in keys\n",
      "totalDamage not in keys\n",
      "totalDamageToChamp in keys\n",
      "pDamageToChamp in keys\n",
      "mDamageDealtToChamp in keys\n",
      "pDamageDealt in keys\n",
      "mDamageDealt in keys\n",
      "largestCriticalStrike in keys\n",
      "totalHeal in keys\n",
      "totalDamageTaken in keys\n",
      "pDamageTaken in keys\n",
      "mDamageTaken in keys\n",
      "neutralKilled not in keys\n",
      "neutralKilledTJungle in keys\n",
      "neutralKilledEJungle in keys\n",
      "wardsPlaced not in keys\n",
      "wardsKilled in keys\n",
      "visionWardsBought in keys\n",
      "dKills in keys\n",
      "tKills in keys\n",
      "qKills in keys\n",
      "pKills in keys\n",
      "towerKills in keys\n",
      "inhibitorKills in keys\n",
      "deadTime not in keys\n",
      "level not in keys\n",
      "killingSprees in keys\n",
      "largestMultiKill in keys\n",
      "largestKillingSpree in keys\n",
      "firstBlood in keys\n",
      "firstTower not in keys\n"
     ]
    }
   ],
   "source": [
    "keys = alphebetical_full_headers_dict_lpl.keys()\r\n",
    "print(keys)\r\n",
    "data = jd[side]['players'][0]\r\n",
    "\r\n",
    "for i in jd[side]['players'][0]:\r\n",
    "    if i in keys:\r\n",
    "        print (i, \"in keys\")\r\n",
    "    else:\r\n",
    "        print(i, \"not in keys\")"
   ]
  },
  {
   "cell_type": "code",
   "execution_count": 16,
   "metadata": {},
   "outputs": [
    {
     "ename": "NameError",
     "evalue": "name 'jd' is not defined",
     "output_type": "error",
     "traceback": [
      "\u001b[1;31m---------------------------------------------------------------------------\u001b[0m",
      "\u001b[1;31mNameError\u001b[0m                                 Traceback (most recent call last)",
      "\u001b[1;32m<ipython-input-16-22abef64fa77>\u001b[0m in \u001b[0;36m<module>\u001b[1;34m\u001b[0m\n\u001b[1;32m----> 1\u001b[1;33m \u001b[0mdata\u001b[0m \u001b[1;33m=\u001b[0m \u001b[0mjd\u001b[0m\u001b[1;33m[\u001b[0m\u001b[0mside\u001b[0m\u001b[1;33m]\u001b[0m\u001b[1;33m[\u001b[0m\u001b[1;34m'players'\u001b[0m\u001b[1;33m]\u001b[0m\u001b[1;33m\u001b[0m\u001b[1;33m\u001b[0m\u001b[0m\n\u001b[0m\u001b[0;32m      2\u001b[0m \u001b[1;32mfor\u001b[0m \u001b[0mi\u001b[0m \u001b[1;32min\u001b[0m \u001b[0mdata\u001b[0m\u001b[1;33m:\u001b[0m\u001b[1;33m\u001b[0m\u001b[1;33m\u001b[0m\u001b[0m\n\u001b[0;32m      3\u001b[0m     \u001b[0mprint\u001b[0m\u001b[1;33m(\u001b[0m\u001b[0mi\u001b[0m\u001b[1;33m,\u001b[0m \u001b[0mdata\u001b[0m\u001b[1;33m)\u001b[0m\u001b[1;33m\u001b[0m\u001b[1;33m\u001b[0m\u001b[0m\n",
      "\u001b[1;31mNameError\u001b[0m: name 'jd' is not defined"
     ]
    }
   ],
   "source": [
    "data = jd[side]['players']\r\n",
    "for i in data:\r\n",
    "    print(i, data)"
   ]
  },
  {
   "cell_type": "code",
   "execution_count": null,
   "metadata": {},
   "outputs": [
    {
     "data": {
      "text/plain": [
       "48"
      ]
     },
     "execution_count": 74,
     "metadata": {},
     "output_type": "execute_result"
    }
   ],
   "source": [
    "len(full_headers_dict)"
   ]
  },
  {
   "cell_type": "code",
   "execution_count": null,
   "metadata": {},
   "outputs": [
    {
     "data": {
      "text/plain": [
       "42"
      ]
     },
     "execution_count": 76,
     "metadata": {},
     "output_type": "execute_result"
    }
   ],
   "source": [
    "data = jd[side]['players'][0]\n"
   ]
  },
  {
   "cell_type": "code",
   "execution_count": null,
   "metadata": {},
   "outputs": [],
   "source": [
    "d = {1:'e', 2:'c', 3:'b', 4:'d', 5:'a'}"
   ]
  },
  {
   "cell_type": "code",
   "execution_count": null,
   "metadata": {},
   "outputs": [],
   "source": [
    "def get_key(dict, val):\n",
    "    for key, value in d.items():\n",
    "         if val == value:\n",
    "             return key\n",
    "def sort_dictionary(in_dict):\n",
    "    x = list(in_dict.keys())\n",
    "    y = list(in_dict.values())\n",
    "    new_d = {}\n",
    "    y_sorted = sorted(y)\n",
    "    for i in y_sorted:\n",
    "        key = get_key(in_dict,i)\n",
    "        new_d[key] = i\n",
    "    return(new_d)"
   ]
  },
  {
   "cell_type": "code",
   "execution_count": 56,
   "metadata": {},
   "outputs": [
    {
     "name": "stdout",
     "output_type": "stream",
     "text": [
      "['assists', 'championId', 'visionWardsBoughtInGame', 'totalHeal', 'totalDamageTaken', 'deaths', 'doubleKills', 'firstBloodKill', 'firstBloodAssist', 'firstInhibitorAssist', 'firstInhibitorKill', 'firstTowerAssist', 'firstTowerKill', 'gameId', 'goldEarned', 'goldSpent', 'killingSprees', 'kills', 'largestCriticalStrike', 'largestKillingSpree', 'largestMultiKill', 'longestTimeSpentLiving', 'magicalDamageTaken', 'magicDamageDealtToChampions', 'totalMinionsKilled', 'neutralMinionsKilledEnemyJungle', 'neutralMinionsKilledTeamJungle', 'pentaKills', 'physicalDamageTaken', 'physicalDamageDealtToChampions', 'summonerName', 'quadraKills', 'damageSelfMitigated', 'teamId', 'sightWardsBoughtInGame', 'timeCCingOthers', 'inhibitorKills', 'turretKills', 'totalDamageDealtToChampions', 'damageDealtToObjectives', 'damageDealtToTurrets', 'magicDamageDealt', 'physicalDamageDealt', 'totalTimeCrowdControlDealt', 'tripleKills', 'trueDamageDealtToChampions', 'visionScore', 'wardsKilled']\n",
      "yes\n"
     ]
    }
   ],
   "source": [
    "b_list = list(b_keys)\r\n",
    "print(b_list)\r\n",
    "\r\n",
    "a = 'assists'\r\n",
    "if a in b_list: print ('yes')"
   ]
  },
  {
   "cell_type": "code",
   "execution_count": null,
   "metadata": {},
   "outputs": [
    {
     "data": {
      "text/plain": [
       "[(5, 'a'), (4, 'd'), (3, 'b'), (2, 'c'), (1, 'e')]"
      ]
     },
     "execution_count": 94,
     "metadata": {},
     "output_type": "execute_result"
    }
   ],
   "source": []
  },
  {
   "cell_type": "code",
   "execution_count": null,
   "metadata": {},
   "outputs": [],
   "source": []
  }
 ],
 "metadata": {
  "interpreter": {
   "hash": "b3ba2566441a7c06988d0923437866b63cedc61552a5af99d1f4fb67d367b25f"
  },
  "kernelspec": {
   "display_name": "Python 3.8.3 64-bit ('base': conda)",
   "name": "python3"
  },
  "language_info": {
   "codemirror_mode": {
    "name": "ipython",
    "version": 3
   },
   "file_extension": ".py",
   "mimetype": "text/x-python",
   "name": "python",
   "nbconvert_exporter": "python",
   "pygments_lexer": "ipython3",
   "version": "3.8.3"
  },
  "orig_nbformat": 4
 },
 "nbformat": 4,
 "nbformat_minor": 2
}