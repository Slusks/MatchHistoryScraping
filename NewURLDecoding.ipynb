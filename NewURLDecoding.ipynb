{
    "cells": [
        {
            "cell_type": "code",
            "execution_count": 2,
            "source": [
                "import csv\r\n",
                "import json\r\n",
                "import sys\r\n",
                "import pandas as pd\r\n",
                "from pathlib import Path\r\n",
                "import requests\r\n",
                "import pprint\r\n",
                "sys.path.insert(0, 'C:/Users/sam/Desktop/ScrapeTest') \r\n",
                "from cookie_monster import COOKIE\r\n",
                "import demjson\r\n",
                "pd.set_option(\"display.max_rows\", None, \"display.max_columns\", None)\r\n",
                "\r\n",
                "user_cookie = dict()\r\n",
                "\r\n",
                "for item in COOKIE.split(\"; \"):\r\n",
                "    k, v = item.split(\"=\")\r\n",
                "    user_cookie[k] = v\r\n",
                "\r\n",
                "full_headers_dict = {\"summonerName\":\"player\", \"championId\": \"champion\", \"magicDamageDealt\":\"totalmagicdamagedealt\", \"physicalDamageDealt\":\"totalphysicaldamagedealt\", \"physicalDamageTaken\":\"physicaldamagetaken\", \"kills\":\"kills\",\"deaths\":\"deaths\",\"assists\":\"assists\", 'firstBloodKill': 'firstblood', 'totalDamageDealtToChampions': 'totaldamagetochampions', 'physicalDamageDealtToChampions': 'physicaldamagetochampions', 'magicDamageDealtToChampions': 'magicdamagetochampions', 'trueDamageDealtToChampions': 'truedamagetochampions', 'damageDealtToObjectives': 'totaldamagetoobjectives', 'damageDealtToTurrets': 'totaldamagetoturrets', 'totalHeal': 'damagehealed', 'totalDamageTaken': 'damagetaken', 'magicalDamageTaken': 'magicdamagetaken', 'wardsKilled': 'wardsdestroyed', 'sightWardsBoughtInGame': 'stealthwardspurchased', 'visionWardsBoughtInGame': 'controlwardspurchased', 'totalMinionsKilled': 'minionskilled', 'neutralMinionsKilledTeamJungle': \"neutralminionskilledinteam'sjungle\", 'neutralMinionsKilledEnemyJungle': 'neutralminionskilledinenemyjungle', 'killingSprees': 'killingsprees', 'longestTimeSpentLiving': 'longesttimespentliving', 'damageSelfMitigated': 'selfmitigateddamage', 'visionScore': 'visionscore', 'timeCCingOthers': 'timeccingothers', 'turretKills': 'totalTurretKills', 'inhibitorKills': 'totalInhibitorKills', 'totalTimeCrowdControlDealt': 'totaltimeapplyingcc', 'firstBloodAssist': 'firstbloodassist', 'firstTowerKill': 'firsttowerkill', 'firstTowerAssist': 'firsttowerassist', 'firstInhibitorKill': 'firstinhibkill', 'firstInhibitorAssist': 'firstinhibassist', 'doubleKills': 'doublekills', 'tripleKills': 'triplekills', 'quadraKills': 'quadrakills', 'pentaKills': 'pentakills', 'goldEarned':'goldearned', 'goldSpent': 'goldspent', \"largestCriticalStrike\":\"largestcriticalstrike\", \"largestKillingSpree\":\"largestkillingspree\", \"largestMultiKill\":\"largestmultikill\", \"teamId\":'side', 'gameId':'gameId'}\r\n",
                "lpl_full_headers_dict = {\"name\": \"player\",\"hero\":\"champion\",\"kill\":\"kills\",\"death\":\"deaths\",\"assist\":\"assists\",'firstBlood': 'firstblood', 'totalDamageToChamp': 'totaldamagetochampions', 'pDamageToChamp': 'physicaldamagetochampions', 'mDamageDealtToChamp': 'magicdamagetochampions', 'trueDamageDealtToChampions': 'truedamagetochampions', 'damageDealtToObjectives': 'totaldamagetoobjectives', 'damageDealtToTurrets': 'totaldamagetoturrets', 'totalHeal': 'damagehealed', 'totalDamageTaken': 'damagetaken', 'mDamageTaken': 'magicdamagetaken', 'wardsKilled': 'wardsdestroyed', 'sightWardsBoughtInGame': 'stealthwardspurchased', 'visionWardsBought': 'controlwardspurchased', 'lasthit': 'minionskilled', 'neutralKilledTJungle': \"neutralminionskilledinteam'sjungle\", 'neutralKilledEJungle': 'neutralminionskilledinenemyjungle', 'killingSprees': 'killingsprees', 'longestTimeSpentLiving': 'longesttimespentliving', 'damageSelfMitigated': 'selfmitigateddamage', 'visionScore': 'visionscore', 'timeCCingOthers': 'timeccingothers', 'towerKills': 'totalTurretKills', 'inhibitorKills': 'totalInhibitorKills', 'totalTimeCrowdControlDealt': 'totaltimeapplyingcc', 'firstBloodAssist': 'firstbloodassist', 'firstTowerKill': 'firsttowerkill', 'firstTowerAssist': 'firsttowerassist', 'firstInhibitorKill': 'firstinhibkill', 'firstInhibitorAssist': 'firstinhibassist', 'dKills': 'doublekills', 'tKills': 'triplekills', 'qKills': 'quadrakills', 'pKills': 'pentakills', 'side':'side', 'gold':'goldearned', 'GoldSpent': 'goldspent', \"pDamageDealt\":\"totalphysicaldamagedealt\", \"pDamageTaken\":\"physicaldamagetaken\", 'mDamageDealt':'totalmagicdamagedealt', 'largestCriticalStrike':'largestcriticalstrike',  \"largestKillingSpree\":\"largestkillingspree\", \"largestMultiKill\":\"largestmultikill\", 'game-id':'gameId'}\r\n",
                "scrape_headers = full_headers_dict.keys()\r\n",
                "lpl_scrape_headers = lpl_full_headers_dict.keys()\r\n",
                "table_headers = full_headers_dict.values()\r\n",
                "\r\n",
                "#This is pulling the champion data.\r\n",
                "champ_dd = requests.get(\"https://ddragon.leagueoflegends.com/cdn/11.8.1/data/en_US/champion.json\", cookies=user_cookie)\r\n",
                "champ_json = champ_dd.json()\r\n",
                "champ_name = champ_json[\"data\"] #this creates a list of all the champions\r\n",
                "champ_key_dict = {}\r\n",
                "for i in champ_name:\r\n",
                "    champ_key_dict.update({champ_json[\"data\"][i][\"key\"]:i})\r\n",
                "\r\n",
                "raw_url_list = [\"http://matchhistory.na.leagueoflegends.com/en/#match-details/ESPORTSTMNT03/1632489?gameHash=8a0464cfacf2ff50\",\r\n",
                "\"http://matchhistory.na.leagueoflegends.com/en/#match-details/ESPORTSTMNT03/1672030?gameHash=d0df39be673c8e95\"]\r\n",
                "\r\n",
                "#https://acs.leagueoflegends.com/v1/stats/game/NA1/3695017432?visiblePlatformId=NA1&visibleAccountId=246666621\r\n",
                "\r\n",
                "def _2021_url_for_request_scraping(raw_url):\r\n",
                "    cut = raw_url.split(\"#match-details/\")[1].split(\"&amp;tab=overview,Unnamed: 31False\")[0]\r\n",
                "    new_url = \"https://acs.leagueoflegends.com/v1/stats/game/\"+cut\r\n",
                "    return (new_url)\r\n",
                "\r\n",
                "def get_match_data(url, test):\r\n",
                "    good_url = _2021_url_for_request_scraping(url)\r\n",
                "    json_file = requests.get(good_url, cookies=user_cookie)\r\n",
                "    assert json_file.status_code == 200\r\n",
                "    json_content = json_file.json()\r\n",
                "    if test == True:\r\n",
                "        pprint.pprint(json_content)\r\n",
                "    return(json_content)\r\n",
                "\r\n",
                "for i in raw_url_list[0]:\r\n",
                "    x = _2021_url_for_request_scraping(i)\r\n",
                "    y = get_match_data(x, False)\r\n",
                "    print(y)"
            ],
            "outputs": [
                {
                    "output_type": "error",
                    "ename": "IndexError",
                    "evalue": "list index out of range",
                    "traceback": [
                        "\u001b[1;31m---------------------------------------------------------------------------\u001b[0m",
                        "\u001b[1;31mIndexError\u001b[0m                                Traceback (most recent call last)",
                        "\u001b[1;32m~\\AppData\\Local\\Temp/ipykernel_7608/1288922146.py\u001b[0m in \u001b[0;36m<module>\u001b[1;34m\u001b[0m\n\u001b[0;32m     49\u001b[0m \u001b[1;33m\u001b[0m\u001b[0m\n\u001b[0;32m     50\u001b[0m \u001b[1;32mfor\u001b[0m \u001b[0mi\u001b[0m \u001b[1;32min\u001b[0m \u001b[0mraw_url_list\u001b[0m\u001b[1;33m[\u001b[0m\u001b[1;36m0\u001b[0m\u001b[1;33m]\u001b[0m\u001b[1;33m:\u001b[0m\u001b[1;33m\u001b[0m\u001b[1;33m\u001b[0m\u001b[0m\n\u001b[1;32m---> 51\u001b[1;33m     \u001b[0mx\u001b[0m \u001b[1;33m=\u001b[0m \u001b[0murl_for_request_scraping\u001b[0m\u001b[1;33m(\u001b[0m\u001b[0mi\u001b[0m\u001b[1;33m)\u001b[0m\u001b[1;33m\u001b[0m\u001b[1;33m\u001b[0m\u001b[0m\n\u001b[0m\u001b[0;32m     52\u001b[0m     \u001b[0my\u001b[0m \u001b[1;33m=\u001b[0m \u001b[0mget_match_data\u001b[0m\u001b[1;33m(\u001b[0m\u001b[0mx\u001b[0m\u001b[1;33m,\u001b[0m \u001b[1;32mFalse\u001b[0m\u001b[1;33m)\u001b[0m\u001b[1;33m\u001b[0m\u001b[1;33m\u001b[0m\u001b[0m\n\u001b[0;32m     53\u001b[0m     \u001b[0mprint\u001b[0m\u001b[1;33m(\u001b[0m\u001b[0my\u001b[0m\u001b[1;33m)\u001b[0m\u001b[1;33m\u001b[0m\u001b[1;33m\u001b[0m\u001b[0m\n",
                        "\u001b[1;32m~\\AppData\\Local\\Temp/ipykernel_7608/1288922146.py\u001b[0m in \u001b[0;36murl_for_request_scraping\u001b[1;34m(raw_url)\u001b[0m\n\u001b[0;32m     35\u001b[0m \u001b[1;33m\u001b[0m\u001b[0m\n\u001b[0;32m     36\u001b[0m \u001b[1;32mdef\u001b[0m \u001b[0murl_for_request_scraping\u001b[0m\u001b[1;33m(\u001b[0m\u001b[0mraw_url\u001b[0m\u001b[1;33m)\u001b[0m\u001b[1;33m:\u001b[0m\u001b[1;33m\u001b[0m\u001b[1;33m\u001b[0m\u001b[0m\n\u001b[1;32m---> 37\u001b[1;33m     \u001b[0mcut\u001b[0m \u001b[1;33m=\u001b[0m \u001b[0mraw_url\u001b[0m\u001b[1;33m.\u001b[0m\u001b[0msplit\u001b[0m\u001b[1;33m(\u001b[0m\u001b[1;34m\"#match-details/\"\u001b[0m\u001b[1;33m)\u001b[0m\u001b[1;33m[\u001b[0m\u001b[1;36m1\u001b[0m\u001b[1;33m]\u001b[0m\u001b[1;33m.\u001b[0m\u001b[0msplit\u001b[0m\u001b[1;33m(\u001b[0m\u001b[1;34m\"&amp;tab=overview,Unnamed: 31False\"\u001b[0m\u001b[1;33m)\u001b[0m\u001b[1;33m[\u001b[0m\u001b[1;36m0\u001b[0m\u001b[1;33m]\u001b[0m\u001b[1;33m\u001b[0m\u001b[1;33m\u001b[0m\u001b[0m\n\u001b[0m\u001b[0;32m     38\u001b[0m     \u001b[0mnew_url\u001b[0m \u001b[1;33m=\u001b[0m \u001b[1;34m\"https://acs.leagueoflegends.com/v1/stats/game/\"\u001b[0m\u001b[1;33m+\u001b[0m\u001b[0mcut\u001b[0m\u001b[1;33m\u001b[0m\u001b[1;33m\u001b[0m\u001b[0m\n\u001b[0;32m     39\u001b[0m     \u001b[1;32mreturn\u001b[0m \u001b[1;33m(\u001b[0m\u001b[0mnew_url\u001b[0m\u001b[1;33m)\u001b[0m\u001b[1;33m\u001b[0m\u001b[1;33m\u001b[0m\u001b[0m\n",
                        "\u001b[1;31mIndexError\u001b[0m: list index out of range"
                    ]
                }
            ],
            "metadata": {}
        },
        {
            "cell_type": "code",
            "execution_count": null,
            "source": [],
            "outputs": [],
            "metadata": {}
        }
    ],
    "metadata": {
        "orig_nbformat": 4,
        "language_info": {
            "name": "python",
            "version": "3.8.3",
            "mimetype": "text/x-python",
            "codemirror_mode": {
                "name": "ipython",
                "version": 3
            },
            "pygments_lexer": "ipython3",
            "nbconvert_exporter": "python",
            "file_extension": ".py"
        },
        "kernelspec": {
            "name": "python3",
            "display_name": "Python 3.8.3 64-bit"
        },
        "interpreter": {
            "hash": "2db524e06e9f5f4ffedc911c917cb75e12dbc923643829bf417064a77eb14d37"
        }
    },
    "nbformat": 4,
    "nbformat_minor": 2
}