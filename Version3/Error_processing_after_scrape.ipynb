{
 "cells": [
  {
   "cell_type": "code",
   "execution_count": 9,
   "source": [
    "#Parsing the LPL files that didn't get scraped and trying to figure out why\r\n",
    "\r\n",
    "import os\r\n",
    "import pandas as pd\r\n",
    "import pathlib as Path\r\n",
    "import csv\r\n",
    "\r\n",
    "error_directory = Path.Path(r'C:\\Users\\sam\\Desktop\\ScrapeTest\\test\\ErrorLog_9-6-2021_Final')\r\n",
    "print (error_directory)"
   ],
   "outputs": [
    {
     "output_type": "stream",
     "name": "stdout",
     "text": [
      "C:\\Users\\sam\\Desktop\\ScrapeTest\\test\\ErrorLog_9-6-2021_Final\n"
     ]
    }
   ],
   "metadata": {}
  },
  {
   "cell_type": "code",
   "execution_count": 18,
   "source": [
    "full_list = []\r\n",
    "lpl_list = []\r\n",
    "amateur_list = []\r\n",
    "other_list = []\r\n",
    "def parse_error_files(error_directory): \r\n",
    "    for filename in os.listdir(error_directory):\r\n",
    "        full_path = os.path.join(error_directory, filename)\r\n",
    "        with open(full_path, 'r') as f:\r\n",
    "            reader = csv.reader(f)\r\n",
    "            url = next(reader)\r\n",
    "            full_list.append(url[0])\r\n",
    "    return(full_list)\r\n",
    "\r\n",
    "def write_to_csv(data_list, output_file):\r\n",
    "    dataframe = pd.DataFrame(data_list)\r\n",
    "    dataframe.to_csv(output_file, index=False, header=['url']) # print to our csv\r\n",
    "\r\n",
    "x = parse_error_files(error_directory)\r\n",
    "\r\n",
    "for i in x:\r\n",
    "    if 'lpl' in i:\r\n",
    "        lpl_list.append(i)\r\n",
    "    elif 'ESPORTS' not in i:\r\n",
    "        amateur_list.append(i)\r\n",
    "    else:\r\n",
    "        other_list.append(i)\r\n",
    "\r\n",
    "error_url_directory = Path.Path(r'C:\\Users\\sam\\Desktop\\ScrapeTest\\prod\\9-6-2021_Final\\Error_urls')\r\n",
    "lpl = os.path.join(error_url_directory, 'lpl_erros.csv')\r\n",
    "amateur = os.path.join(error_url_directory, 'amateur_erros.csv')\r\n",
    "other = os.path.join(error_url_directory, 'other_erros.csv')\r\n",
    "\r\n",
    "write_to_csv(lpl_list, lpl)\r\n",
    "write_to_csv(amateur_list,amateur)\r\n",
    "write_to_csv(other_list, other)\r\n",
    "\r\n",
    "\r\n"
   ],
   "outputs": [],
   "metadata": {}
  },
  {
   "cell_type": "code",
   "execution_count": null,
   "source": [],
   "outputs": [],
   "metadata": {}
  }
 ],
 "metadata": {
  "orig_nbformat": 4,
  "language_info": {
   "name": "python",
   "version": "3.8.3",
   "mimetype": "text/x-python",
   "codemirror_mode": {
    "name": "ipython",
    "version": 3
   },
   "pygments_lexer": "ipython3",
   "nbconvert_exporter": "python",
   "file_extension": ".py"
  },
  "kernelspec": {
   "name": "python3",
   "display_name": "Python 3.8.3 64-bit (system)"
  },
  "interpreter": {
   "hash": "2db524e06e9f5f4ffedc911c917cb75e12dbc923643829bf417064a77eb14d37"
  }
 },
 "nbformat": 4,
 "nbformat_minor": 2
}