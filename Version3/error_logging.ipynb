{
    "cells": [
        {
            "cell_type": "code",
            "execution_count": 3,
            "source": [
                "import sys\r\n",
                "import pandas\r\n",
                "import csv\r\n",
                "import logging\r\n",
                "import traceback\r\n",
                "\r\n",
                "file = r\"C:/Users/sam/Desktop/ScrapeTest/ErrorLog/\"\r\n",
                "l_file = r\"C:/Users/samsl/Desktop/ScrapeTest/test/error_log/\"\r\n",
                "\r\n",
                "\r\n",
                "\r\n",
                "#logging.basicConfig(filename= file, format=\"%(asctime)s:%(levelname)s:%(message)s\")\r\n",
                "#def error_log():\r\n",
                "count = 0\r\n",
                "test = [\"fyfgofdbclcnjl;fgefgoyfrgobovlvbvgfrfgf\"]\r\n",
                "tl = test[0].split()\r\n",
                "while count < 8:\r\n",
                "    try:\r\n",
                "        for i in tl:\r\n",
                "            if i == \"f\":\r\n",
                "                print (\"f\")\r\n",
                "            else:\r\n",
                "                print (i + 7)\r\n",
                "        count = count + 1\r\n",
                "    except Exception as ex:\r\n",
                "        log_file = l_file + str(count) + \".csv\"\r\n",
                "        var = traceback.format_exc()\r\n",
                "        print(\"var:\", var)\r\n",
                "        log = open(log_file, 'w+')\r\n",
                "        log.write(var)\r\n",
                "        count = count + 1\r\n",
                "\r\n",
                "        # with open(log_file, 'w+', newline='') as f:\r\n",
                "        #     write = csv.writer(f)\r\n",
                "        #     write.writerow(logging.exception(ex))\r\n",
                "        \r\n",
                "    \r\n"
            ],
            "outputs": [
                {
                    "output_type": "stream",
                    "name": "stdout",
                    "text": [
                        "var: <class 'str'>\n",
                        "var: <class 'str'>\n",
                        "var: <class 'str'>\n",
                        "var: <class 'str'>\n",
                        "var: <class 'str'>\n",
                        "var: <class 'str'>\n",
                        "var: <class 'str'>\n",
                        "var: <class 'str'>\n"
                    ]
                }
            ],
            "metadata": {}
        },
        {
            "cell_type": "code",
            "execution_count": null,
            "source": [],
            "outputs": [],
            "metadata": {}
        }
    ],
    "metadata": {
        "orig_nbformat": 4,
        "language_info": {
            "name": "python",
            "version": "3.8.10",
            "mimetype": "text/x-python",
            "codemirror_mode": {
                "name": "ipython",
                "version": 3
            },
            "pygments_lexer": "ipython3",
            "nbconvert_exporter": "python",
            "file_extension": ".py"
        },
        "kernelspec": {
            "name": "python3",
            "display_name": "Python 3.8.10 64-bit"
        },
        "interpreter": {
            "hash": "1baa965d5efe3ac65b79dfc60c0d706280b1da80fedb7760faf2759126c4f253"
        }
    },
    "nbformat": 4,
    "nbformat_minor": 2
}