{
 "cells": [
  {
   "cell_type": "code",
   "execution_count": 26,
   "metadata": {},
   "outputs": [
    {
     "name": "stdout",
     "output_type": "stream",
     "text": [
      "Running Login\n",
      "Submitting URL\n",
      "{'domain': '.riotgames.com', 'expiry': 1608426009, 'httpOnly': False, 'name': '_gat_trackerUA585995825', 'path': '/', 'secure': False, 'value': '1'}\n",
      "{'domain': 'auth.riotgames.com', 'expiry': 1639961949, 'httpOnly': False, 'name': 'did', 'path': '/', 'secure': False, 'value': 'a413a04f8f1c4ebe9ff2a1e8a6b6937f'}\n",
      "{'domain': '.riotgames.com', 'expiry': 1608512349, 'httpOnly': False, 'name': '_gid', 'path': '/', 'secure': False, 'value': 'GA1.2.1043320472.1608425949'}\n",
      "{'domain': '.riotgames.com', 'expiry': 1608427749, 'httpOnly': True, 'name': '__cf_bm', 'path': '/', 'sameSite': 'None', 'secure': True, 'value': 'bf59b7be026ec39419ae6845fe647af0099cf3c8-1608425949-1800-AXrmdoZOhJcLW9OH9wDgr98WZ0+ubin6hq65pk+L2l9O+3PYgzm4BZQ+SpRrlobo2VbgLGxTz2NshP3xYQNb/1g='}\n",
      "{'domain': 'auth.riotgames.com', 'httpOnly': True, 'name': 'clid', 'path': '/', 'secure': True, 'value': 'ue1'}\n",
      "{'domain': 'auth.riotgames.com', 'httpOnly': True, 'name': 'asid', 'path': '/', 'secure': True, 'value': 'yDNw7CLxmruJzFcnaMwuDc0acQJtuoRtlu8lvvmCBIY.nsvTzu%2B%2FkyU%3D'}\n",
      "{'domain': '.riotgames.com', 'expiry': 1671497949, 'httpOnly': False, 'name': '_ga', 'path': '/', 'secure': False, 'value': 'GA1.2.926321612.1608425949'}\n",
      "{'domain': '.riotgames.com', 'expiry': 1611017949, 'httpOnly': True, 'name': '__cfduid', 'path': '/', 'sameSite': 'Lax', 'secure': False, 'value': 'd69f7ed46bd3599c60970aa1741acf3cc1608425949'}\n",
      "429\n",
      "[]\n",
      "we did it\n"
     ]
    }
   ],
   "source": [
    "#MatchHistoryScraping\n",
    "\n",
    "from pathlib import Path #https://medium.com/@ageitgey/python-3-quick-tip-the-easy-way-to-deal-with-file-paths-on-windows-mac-and-linux-11a072b58d5f\n",
    "import pathlib\n",
    "from selenium import webdriver\n",
    "from selenium.webdriver.chrome.options import Options\n",
    "from selenium.webdriver.common.keys import Keys\n",
    "from selenium.webdriver.support import expected_conditions as EC\n",
    "from selenium.webdriver.common.by import By\n",
    "from selenium.webdriver.support.ui import WebDriverWait\n",
    "from selenium.common.exceptions import NoSuchElementException\n",
    "from selenium.common.exceptions import StaleElementReferenceException \n",
    "import zipfile\n",
    "import os\n",
    "import time\n",
    "import glob\n",
    "import pandas as pd\n",
    "pd.set_option(\"display.max_rows\", None, \"display.max_columns\", None)\n",
    "import shutil\n",
    "import csv\n",
    "from csv import reader\n",
    "from bs4 import BeautifulSoup as bs #https://medium.com/ymedialabs-innovation/web-scraping-using-beautiful-soup-and-selenium-for-dynamic-page-2f8ad15efe25\n",
    "\n",
    "import requests\n",
    "from lxml import html\n",
    "\n",
    "mainDirectory = Path(r\"F:/LeagueStats/scraping/MatchHistoryScraping/\")\n",
    "pw_directory = Path(r\"C:/Users/sam/Documents/riotpw.txt\")\n",
    "chrome_driver = \"F:/LeagueStats/scraping/MatchHistoryScraping/chromedriver.exe\" # location of chrome driver\n",
    "chrome_options = Options()\n",
    "\n",
    "driver = webdriver.Chrome(chrome_driver, options=chrome_options) # open chrome\n",
    "\n",
    "#This is a selenium variable created to wait 30 seconds until pages load.\n",
    "#Ignore exceptions is to try and avoid the stale element reference exception per:\n",
    "#https://stackoverflow.com/questions/27003423/staleelementreferenceexception-on-python-selenium\n",
    "ignored_exceptions=(NoSuchElementException, StaleElementReferenceException)\n",
    "wait = WebDriverWait(driver, 30, ignored_exceptions=ignored_exceptions)\n",
    "\n",
    "def request(driver):  \n",
    "   s = requests.Session()\n",
    "   cookies = driver.get_cookies()\n",
    "   for cookie in cookies:\n",
    "        print(cookie)\n",
    "        s.cookies.set(cookie['name'], cookie['value'])\n",
    "   return s\n",
    "\n",
    "def riot_login():\n",
    "    print('Running Login')\n",
    "    username = 'thanatos0512'\n",
    "    pw = open(pw_directory, 'r')\n",
    "    password = pw.read()\n",
    "    #https://stackoverflow.com/questions/56380889/wait-for-element-to-be-clickable-using-python-and-selenium\n",
    "    wait.until(EC.visibility_of_element_located((By.NAME, \"username\"))).send_keys(username)\n",
    "    wait.until(EC.visibility_of_element_located((By.NAME, \"password\"))).send_keys(password)\n",
    "    wait.until(EC.element_to_be_clickable((By.XPATH , \"/html/body/div/div/div/div[2]/div[1]/div/button\"))).click()\n",
    "    \n",
    "    print('Submitting URL')\n",
    "    url2 = 'https://acs.leagueoflegends.com/v1/stats/game/WMC2TMNT1/210029?gameHash=50ee0d42d77ae4d9'\n",
    "    #After we login\n",
    "    req = request(driver)\n",
    "    response=req.get(url2)\n",
    "    print (response.status_code)\n",
    "    htmlObj = html.fromstring(response.text)\n",
    "    yourdata = htmlObj.xpath(\"/html/body/pre/text()\")\n",
    "    print(yourdata)\n",
    "\n",
    "url1 = 'https://matchhistory.las.leagueoflegends.com/es/#match-details/WMC2TMNT1/210029?gameHash=50ee0d42d77ae4d9&amp;tab=overview&tab=stats'\n",
    "\n",
    "driver.get(url1)\n",
    "riot_login()\n",
    "\n",
    "print('we did it')\n",
    "    "
   ]
  },
  {
   "cell_type": "code",
   "execution_count": 18,
   "metadata": {},
   "outputs": [],
   "source": [
    "import requests\n",
    "\n",
    "login_url ='https://auth.riotgames.com/login#client_id=rso-web-client-prod&login_hint=na&redirect_uri=https%3A%2F%2Flogin.leagueoflegends.com%2Foauth2-callback&response_type=code&scope=openid&state=bQ4XWVHrRzMPJYznFtQMbFav6bWcr_pKw3db7JXTULc&ui_locales=en'\n",
    "user = 'thanatos0512'\n",
    "pwd = \"wombatcann0n@\"\n",
    "url1 = 'https://matchhistory.las.leagueoflegends.com/es/#match-details/WMC2TMNT1/210029?gameHash=50ee0d42d77ae4d9&amp;tab=overview&tab=stats'\n",
    "url2 = 'https://acs.leagueoflegends.com/v1/stats/game/WMC2TMNT1/210029?gameHash=50ee0d42d77ae4d9'\n",
    "\n",
    "payload = {'username': user, 'password': pwd}"
   ]
  },
  {
   "cell_type": "code",
   "execution_count": 21,
   "metadata": {
    "scrolled": true
   },
   "outputs": [
    {
     "ename": "WebDriverException",
     "evalue": "Message: chrome not reachable\n  (Session info: chrome=87.0.4280.88)\n",
     "output_type": "error",
     "traceback": [
      "\u001b[1;31m---------------------------------------------------------------------------\u001b[0m",
      "\u001b[1;31mWebDriverException\u001b[0m                        Traceback (most recent call last)",
      "\u001b[1;32m<ipython-input-21-3d484014c4ef>\u001b[0m in \u001b[0;36m<module>\u001b[1;34m\u001b[0m\n\u001b[0;32m      1\u001b[0m \u001b[0murl1\u001b[0m \u001b[1;33m=\u001b[0m \u001b[1;34m'https://matchhistory.las.leagueoflegends.com/es/#match-details/WMC2TMNT1/210029?gameHash=50ee0d42d77ae4d9&amp;tab=overview&tab=stats'\u001b[0m\u001b[1;33m\u001b[0m\u001b[1;33m\u001b[0m\u001b[0m\n\u001b[0;32m      2\u001b[0m \u001b[1;33m\u001b[0m\u001b[0m\n\u001b[1;32m----> 3\u001b[1;33m \u001b[0mdriver\u001b[0m\u001b[1;33m.\u001b[0m\u001b[0mget\u001b[0m\u001b[1;33m(\u001b[0m\u001b[0murl1\u001b[0m\u001b[1;33m)\u001b[0m\u001b[1;33m\u001b[0m\u001b[1;33m\u001b[0m\u001b[0m\n\u001b[0m\u001b[0;32m      4\u001b[0m \u001b[0mriot_login\u001b[0m\u001b[1;33m(\u001b[0m\u001b[1;33m)\u001b[0m\u001b[1;33m\u001b[0m\u001b[1;33m\u001b[0m\u001b[0m\n\u001b[0;32m      5\u001b[0m \u001b[1;33m\u001b[0m\u001b[0m\n",
      "\u001b[1;32mc:\\python37\\lib\\site-packages\\selenium\\webdriver\\remote\\webdriver.py\u001b[0m in \u001b[0;36mget\u001b[1;34m(self, url)\u001b[0m\n\u001b[0;32m    331\u001b[0m         \u001b[0mLoads\u001b[0m \u001b[0ma\u001b[0m \u001b[0mweb\u001b[0m \u001b[0mpage\u001b[0m \u001b[1;32min\u001b[0m \u001b[0mthe\u001b[0m \u001b[0mcurrent\u001b[0m \u001b[0mbrowser\u001b[0m \u001b[0msession\u001b[0m\u001b[1;33m.\u001b[0m\u001b[1;33m\u001b[0m\u001b[1;33m\u001b[0m\u001b[0m\n\u001b[0;32m    332\u001b[0m         \"\"\"\n\u001b[1;32m--> 333\u001b[1;33m         \u001b[0mself\u001b[0m\u001b[1;33m.\u001b[0m\u001b[0mexecute\u001b[0m\u001b[1;33m(\u001b[0m\u001b[0mCommand\u001b[0m\u001b[1;33m.\u001b[0m\u001b[0mGET\u001b[0m\u001b[1;33m,\u001b[0m \u001b[1;33m{\u001b[0m\u001b[1;34m'url'\u001b[0m\u001b[1;33m:\u001b[0m \u001b[0murl\u001b[0m\u001b[1;33m}\u001b[0m\u001b[1;33m)\u001b[0m\u001b[1;33m\u001b[0m\u001b[1;33m\u001b[0m\u001b[0m\n\u001b[0m\u001b[0;32m    334\u001b[0m \u001b[1;33m\u001b[0m\u001b[0m\n\u001b[0;32m    335\u001b[0m     \u001b[1;33m@\u001b[0m\u001b[0mproperty\u001b[0m\u001b[1;33m\u001b[0m\u001b[1;33m\u001b[0m\u001b[0m\n",
      "\u001b[1;32mc:\\python37\\lib\\site-packages\\selenium\\webdriver\\remote\\webdriver.py\u001b[0m in \u001b[0;36mexecute\u001b[1;34m(self, driver_command, params)\u001b[0m\n\u001b[0;32m    319\u001b[0m         \u001b[0mresponse\u001b[0m \u001b[1;33m=\u001b[0m \u001b[0mself\u001b[0m\u001b[1;33m.\u001b[0m\u001b[0mcommand_executor\u001b[0m\u001b[1;33m.\u001b[0m\u001b[0mexecute\u001b[0m\u001b[1;33m(\u001b[0m\u001b[0mdriver_command\u001b[0m\u001b[1;33m,\u001b[0m \u001b[0mparams\u001b[0m\u001b[1;33m)\u001b[0m\u001b[1;33m\u001b[0m\u001b[1;33m\u001b[0m\u001b[0m\n\u001b[0;32m    320\u001b[0m         \u001b[1;32mif\u001b[0m \u001b[0mresponse\u001b[0m\u001b[1;33m:\u001b[0m\u001b[1;33m\u001b[0m\u001b[1;33m\u001b[0m\u001b[0m\n\u001b[1;32m--> 321\u001b[1;33m             \u001b[0mself\u001b[0m\u001b[1;33m.\u001b[0m\u001b[0merror_handler\u001b[0m\u001b[1;33m.\u001b[0m\u001b[0mcheck_response\u001b[0m\u001b[1;33m(\u001b[0m\u001b[0mresponse\u001b[0m\u001b[1;33m)\u001b[0m\u001b[1;33m\u001b[0m\u001b[1;33m\u001b[0m\u001b[0m\n\u001b[0m\u001b[0;32m    322\u001b[0m             response['value'] = self._unwrap_value(\n\u001b[0;32m    323\u001b[0m                 response.get('value', None))\n",
      "\u001b[1;32mc:\\python37\\lib\\site-packages\\selenium\\webdriver\\remote\\errorhandler.py\u001b[0m in \u001b[0;36mcheck_response\u001b[1;34m(self, response)\u001b[0m\n\u001b[0;32m    240\u001b[0m                 \u001b[0malert_text\u001b[0m \u001b[1;33m=\u001b[0m \u001b[0mvalue\u001b[0m\u001b[1;33m[\u001b[0m\u001b[1;34m'alert'\u001b[0m\u001b[1;33m]\u001b[0m\u001b[1;33m.\u001b[0m\u001b[0mget\u001b[0m\u001b[1;33m(\u001b[0m\u001b[1;34m'text'\u001b[0m\u001b[1;33m)\u001b[0m\u001b[1;33m\u001b[0m\u001b[1;33m\u001b[0m\u001b[0m\n\u001b[0;32m    241\u001b[0m             \u001b[1;32mraise\u001b[0m \u001b[0mexception_class\u001b[0m\u001b[1;33m(\u001b[0m\u001b[0mmessage\u001b[0m\u001b[1;33m,\u001b[0m \u001b[0mscreen\u001b[0m\u001b[1;33m,\u001b[0m \u001b[0mstacktrace\u001b[0m\u001b[1;33m,\u001b[0m \u001b[0malert_text\u001b[0m\u001b[1;33m)\u001b[0m\u001b[1;33m\u001b[0m\u001b[1;33m\u001b[0m\u001b[0m\n\u001b[1;32m--> 242\u001b[1;33m         \u001b[1;32mraise\u001b[0m \u001b[0mexception_class\u001b[0m\u001b[1;33m(\u001b[0m\u001b[0mmessage\u001b[0m\u001b[1;33m,\u001b[0m \u001b[0mscreen\u001b[0m\u001b[1;33m,\u001b[0m \u001b[0mstacktrace\u001b[0m\u001b[1;33m)\u001b[0m\u001b[1;33m\u001b[0m\u001b[1;33m\u001b[0m\u001b[0m\n\u001b[0m\u001b[0;32m    243\u001b[0m \u001b[1;33m\u001b[0m\u001b[0m\n\u001b[0;32m    244\u001b[0m     \u001b[1;32mdef\u001b[0m \u001b[0m_value_or_default\u001b[0m\u001b[1;33m(\u001b[0m\u001b[0mself\u001b[0m\u001b[1;33m,\u001b[0m \u001b[0mobj\u001b[0m\u001b[1;33m,\u001b[0m \u001b[0mkey\u001b[0m\u001b[1;33m,\u001b[0m \u001b[0mdefault\u001b[0m\u001b[1;33m)\u001b[0m\u001b[1;33m:\u001b[0m\u001b[1;33m\u001b[0m\u001b[1;33m\u001b[0m\u001b[0m\n",
      "\u001b[1;31mWebDriverException\u001b[0m: Message: chrome not reachable\n  (Session info: chrome=87.0.4280.88)\n"
     ]
    }
   ],
   "source": [
    "## Unsure if this will work but this might be another hint\n",
    "https://stackoverflow.com/questions/42087985/python-requests-selenium-passing-cookies-while-logging-in\n"
   ]
  },
  {
   "cell_type": "code",
   "execution_count": null,
   "metadata": {},
   "outputs": [],
   "source": []
  }
 ],
 "metadata": {
  "kernelspec": {
   "display_name": "Python 3",
   "language": "python",
   "name": "python3"
  },
  "language_info": {
   "codemirror_mode": {
    "name": "ipython",
    "version": 3
   },
   "file_extension": ".py",
   "mimetype": "text/x-python",
   "name": "python",
   "nbconvert_exporter": "python",
   "pygments_lexer": "ipython3",
   "version": "3.7.1"
  }
 },
 "nbformat": 4,
 "nbformat_minor": 4
}
